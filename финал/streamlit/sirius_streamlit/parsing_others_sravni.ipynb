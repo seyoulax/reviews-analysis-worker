{
 "cells": [
  {
   "cell_type": "code",
   "execution_count": 22,
   "metadata": {
    "id": "fb5tbBodmNAy",
    "tags": []
   },
   "outputs": [],
   "source": [
    "import requests\n",
    "import pandas as pd\n",
    "import pickle\n",
    "import re\n",
    "\n",
    "cats = [\"serviceLevel\", \"mortgage\", \"credits\", \"creditCards\", \"debitCards\", \"savings\", \"remoteService\", \"other\"]"
   ]
  },
  {
   "cell_type": "code",
   "execution_count": 29,
   "metadata": {
    "tags": []
   },
   "outputs": [],
   "source": [
    "max_dates = {}    "
   ]
  },
  {
   "cell_type": "code",
   "execution_count": 30,
   "metadata": {
    "tags": []
   },
   "outputs": [
    {
     "name": "stderr",
     "output_type": "stream",
     "text": [
      "/var/folders/v9/6czrr1vx79d5qqvjt88nm8gc0000gn/T/ipykernel_89768/3270973333.py:3: FutureWarning: The provided callable <built-in function max> is currently using SeriesGroupBy.max. In a future version of pandas, the provided callable will be used directly. To keep current behavior pass the string \"max\" instead.\n",
      "  max_dates[bank] = df.groupby('category')['time'].agg(max).to_dict()\n"
     ]
    }
   ],
   "source": [
    "bank = 'tink'\n",
    "df = pd.read_parquet(f'data/results_sravni_{bank}.parquet')\n",
    "max_dates[bank] = df.groupby('category')['time'].agg(max).to_dict()"
   ]
  },
  {
   "cell_type": "code",
   "execution_count": 31,
   "metadata": {
    "tags": []
   },
   "outputs": [
    {
     "name": "stderr",
     "output_type": "stream",
     "text": [
      "/var/folders/v9/6czrr1vx79d5qqvjt88nm8gc0000gn/T/ipykernel_89768/1164782275.py:3: FutureWarning: The provided callable <built-in function max> is currently using SeriesGroupBy.max. In a future version of pandas, the provided callable will be used directly. To keep current behavior pass the string \"max\" instead.\n",
      "  max_dates[bank] = df.groupby('category')['time'].agg(max).to_dict()\n"
     ]
    }
   ],
   "source": [
    "bank = 'sber'\n",
    "df = pd.read_parquet(f'data/results_sravni_{bank}.parquet')\n",
    "max_dates[bank] = df.groupby('category')['time'].agg(max).to_dict()"
   ]
  },
  {
   "cell_type": "code",
   "execution_count": 32,
   "metadata": {
    "tags": []
   },
   "outputs": [
    {
     "name": "stderr",
     "output_type": "stream",
     "text": [
      "/var/folders/v9/6czrr1vx79d5qqvjt88nm8gc0000gn/T/ipykernel_89768/1093823675.py:3: FutureWarning: The provided callable <built-in function max> is currently using SeriesGroupBy.max. In a future version of pandas, the provided callable will be used directly. To keep current behavior pass the string \"max\" instead.\n",
      "  max_dates[bank] = df.groupby('category')['time'].agg(max).to_dict()\n"
     ]
    }
   ],
   "source": [
    "bank = 'alpha'\n",
    "df = pd.read_parquet(f'data/results_sravni_{bank}.parquet')\n",
    "max_dates[bank] = df.groupby('category')['time'].agg(max).to_dict()"
   ]
  },
  {
   "cell_type": "code",
   "execution_count": 33,
   "metadata": {
    "tags": []
   },
   "outputs": [
    {
     "name": "stderr",
     "output_type": "stream",
     "text": [
      "/var/folders/v9/6czrr1vx79d5qqvjt88nm8gc0000gn/T/ipykernel_89768/2740841581.py:3: FutureWarning: The provided callable <built-in function max> is currently using SeriesGroupBy.max. In a future version of pandas, the provided callable will be used directly. To keep current behavior pass the string \"max\" instead.\n",
      "  max_dates[bank] = df.groupby('category')['time'].agg(max).to_dict()\n"
     ]
    }
   ],
   "source": [
    "bank = 'vtb'\n",
    "df = pd.read_parquet(f'data/results_sravni_{bank}.parquet')\n",
    "max_dates[bank] = df.groupby('category')['time'].agg(max).to_dict()"
   ]
  },
  {
   "cell_type": "code",
   "execution_count": 34,
   "metadata": {
    "tags": []
   },
   "outputs": [],
   "source": [
    "with open('data/constants/max_dates.pickle', 'wb') as f:\n",
    "    pickle.dump(max_dates, f)"
   ]
  },
  {
   "cell_type": "code",
   "execution_count": 8,
   "metadata": {
    "tags": []
   },
   "outputs": [],
   "source": [
    "with open('data/constants/max_dates.pickle', 'rb') as f:\n",
    "    max_dates = pickle.load(f)"
   ]
  },
  {
   "cell_type": "markdown",
   "metadata": {
    "id": "NxS_XCjvoL-x"
   },
   "source": [
    "# Tinkoff"
   ]
  },
  {
   "cell_type": "code",
   "execution_count": 11,
   "metadata": {
    "tags": []
   },
   "outputs": [],
   "source": [
    "bank='tink'"
   ]
  },
  {
   "cell_type": "code",
   "execution_count": 12,
   "metadata": {
    "colab": {
     "background_save": true,
     "base_uri": "https://localhost:8080/"
    },
    "id": "aZAcC_QAoRHU",
    "outputId": "1d4edad7-bd48-48c3-a433-85f8a6885d07",
    "tags": []
   },
   "outputs": [
    {
     "name": "stderr",
     "output_type": "stream",
     "text": [
      "  0%|          | 1/1000 [00:00<05:41,  2.92it/s]\n",
      "  0%|          | 0/1000 [00:00<?, ?it/s]\n",
      "  0%|          | 1/1000 [00:00<04:59,  3.34it/s]\n",
      "  0%|          | 1/1000 [00:00<05:12,  3.20it/s]\n",
      "  0%|          | 1/1000 [00:00<10:49,  1.54it/s]\n",
      "  0%|          | 1/1000 [00:00<04:19,  3.85it/s]\n",
      "  0%|          | 1/1000 [00:00<04:21,  3.82it/s]\n",
      "  0%|          | 1/1000 [00:00<04:47,  3.48it/s]\n"
     ]
    }
   ],
   "source": [
    "from tqdm import tqdm\n",
    "\n",
    "res = []\n",
    "for cat in cats:\n",
    "  res_cat = []\n",
    "  f = 1\n",
    "  for i in tqdm(range(1, 1001)):\n",
    "    if f == 0: break\n",
    "    json = requests.get(f\"https://www.sravni.ru/proxy-reviews/reviews/?filterBy=withRates&fingerPrint=75da44baf111f15bf7e15eb1a990450d&isClient=false&locationRoute=&newIds=true&orderBy=byDate&pageIndex={i}&pageSize=10&reviewObjectId=5bb4f769245bc22a520a6353&reviewObjectType=banks&specificProductId=&tag={cat}&withVotes=true\").json()\n",
    "    for item in json[\"items\"]:\n",
    "        if max_dates[bank][cat] == item['date']:\n",
    "            f = 0\n",
    "            break\n",
    "            \n",
    "\n",
    "    res_cat.append(( item[\"date\"],item[\"text\"],item[\"title\"], item[\"problemSolutionDate\"], item[\"rating\"], cat))\n",
    "    if len(json[\"items\"]) == 0: break\n",
    "  res.extend(res_cat)"
   ]
  },
  {
   "cell_type": "code",
   "execution_count": 13,
   "metadata": {
    "colab": {
     "background_save": true
    },
    "id": "k_FtW6qroRHW",
    "tags": []
   },
   "outputs": [],
   "source": [
    "final = pd.DataFrame(res, columns=[\"date\", \"text\", \"title\", \"solution_date\", \"rating\", \"category\"])"
   ]
  },
  {
   "cell_type": "code",
   "execution_count": 14,
   "metadata": {
    "tags": []
   },
   "outputs": [],
   "source": [
    "reviews = final['text']"
   ]
  },
  {
   "cell_type": "code",
   "execution_count": 15,
   "metadata": {
    "tags": []
   },
   "outputs": [],
   "source": [
    "def process_punctuation_txt(review):\n",
    "  # Обрабатываем знаки препинания\n",
    "    review = re.sub(rf'(\\W)', rf' \\1 ', review)\n",
    "\n",
    "    review = re.sub(rf'\\s+', rf' ', review)\n",
    "\n",
    "    for punct in '.,':\n",
    "        review = re.sub(rf'([\\d\\{punct}]) (\\{punct}) ([\\d\\{punct}])', rf'\\1\\2\\3', review)\n",
    "\n",
    "    for punct in '!?':\n",
    "        review = re.sub(rf'(\\{punct}) (\\{punct}) (\\{punct})', rf'\\1\\2\\3', review)\n",
    "\n",
    "    if review[-1] == ' ':\n",
    "        review = review[:-1]\n",
    "\n",
    "    if review[-1] not in '.!?':\n",
    "        review += ' .'\n",
    "    review += '####[]'\n",
    "\n",
    "    return review\n",
    "\n",
    "\n",
    "def add_spaces(review):\n",
    "    pattern=r'(\\w\\w[а-яё])([А-Я]\\w\\w)'\n",
    "    review=re.sub(pattern, r'\\1 \\2', review)\n",
    "    return review\n",
    "\n",
    "\n",
    "\n",
    "def process_reviews(reviews):\n",
    "\n",
    "    reviews = reviews.apply(lambda x: re.sub(r'\\s+', ' ', x).strip())\n",
    "    reviews = reviews.apply(add_spaces)\n",
    "    reviews = reviews.apply(process_punctuation_txt)\n",
    "    reviews = reviews.apply(lambda x: x.replace('& quot ;', '\"'))\n",
    "\n",
    "    return reviews.values.tolist()"
   ]
  },
  {
   "cell_type": "code",
   "execution_count": 16,
   "metadata": {
    "tags": []
   },
   "outputs": [],
   "source": [
    "reviews = process_reviews(reviews)"
   ]
  },
  {
   "cell_type": "code",
   "execution_count": 17,
   "metadata": {
    "tags": []
   },
   "outputs": [
    {
     "data": {
      "text/html": [
       "<div>\n",
       "<style scoped>\n",
       "    .dataframe tbody tr th:only-of-type {\n",
       "        vertical-align: middle;\n",
       "    }\n",
       "\n",
       "    .dataframe tbody tr th {\n",
       "        vertical-align: top;\n",
       "    }\n",
       "\n",
       "    .dataframe thead th {\n",
       "        text-align: right;\n",
       "    }\n",
       "</style>\n",
       "<table border=\"1\" class=\"dataframe\">\n",
       "  <thead>\n",
       "    <tr style=\"text-align: right;\">\n",
       "      <th></th>\n",
       "      <th>text</th>\n",
       "      <th>pred</th>\n",
       "      <th>pred_text</th>\n",
       "      <th>time</th>\n",
       "      <th>rating</th>\n",
       "      <th>old_text</th>\n",
       "      <th>category</th>\n",
       "    </tr>\n",
       "  </thead>\n",
       "  <tbody>\n",
       "    <tr>\n",
       "      <th>0</th>\n",
       "      <td>Оформил карточку Тинькофф еще лет 8 - 10 лет н...</td>\n",
       "      <td>[([362], [365, 366], 'NEG')]</td>\n",
       "      <td>[('сервис', 'не работает', 'NEG')]</td>\n",
       "      <td>2024-03-18T06:57:04.493153Z</td>\n",
       "      <td>1</td>\n",
       "      <td>Оформил карточку Тинькофф еще лет 8-10 лет наз...</td>\n",
       "      <td>serviceLevel</td>\n",
       "    </tr>\n",
       "    <tr>\n",
       "      <th>1</th>\n",
       "      <td>По ошибке банка также сменили мне тариф в Тинь...</td>\n",
       "      <td>[([106], [117], 'NEG')]</td>\n",
       "      <td>[('представитель', 'обманул', 'NEG')]</td>\n",
       "      <td>2024-03-13T15:11:28.958801Z</td>\n",
       "      <td>1</td>\n",
       "      <td>По ошибке банка также сменили мне тариф в Тинь...</td>\n",
       "      <td>serviceLevel</td>\n",
       "    </tr>\n",
       "    <tr>\n",
       "      <th>2</th>\n",
       "      <td>Навязали кредитную карту в аэропорту кредитную...</td>\n",
       "      <td>[([2], [0], 'NEG')]</td>\n",
       "      <td>[('карту', 'Навязали', 'NEG')]</td>\n",
       "      <td>2024-03-10T04:21:18.122176Z</td>\n",
       "      <td>1</td>\n",
       "      <td>Навязали кредитную карту в аэропорту кредитную...</td>\n",
       "      <td>serviceLevel</td>\n",
       "    </tr>\n",
       "    <tr>\n",
       "      <th>3</th>\n",
       "      <td>К сожалению приходится прощаться с Тинькоф бан...</td>\n",
       "      <td>[]</td>\n",
       "      <td>[]</td>\n",
       "      <td>2024-02-14T15:55:48.714485Z</td>\n",
       "      <td>1</td>\n",
       "      <td>К сожалению приходится прощаться с Тинькоф бан...</td>\n",
       "      <td>serviceLevel</td>\n",
       "    </tr>\n",
       "    <tr>\n",
       "      <th>4</th>\n",
       "      <td>I use the loyalty system from Tinkoff in every...</td>\n",
       "      <td>[]</td>\n",
       "      <td>[]</td>\n",
       "      <td>2024-02-09T22:09:08.406309Z</td>\n",
       "      <td>1</td>\n",
       "      <td>I use the loyalty system from Tinkoff in every...</td>\n",
       "      <td>serviceLevel</td>\n",
       "    </tr>\n",
       "    <tr>\n",
       "      <th>...</th>\n",
       "      <td>...</td>\n",
       "      <td>...</td>\n",
       "      <td>...</td>\n",
       "      <td>...</td>\n",
       "      <td>...</td>\n",
       "      <td>...</td>\n",
       "      <td>...</td>\n",
       "    </tr>\n",
       "    <tr>\n",
       "      <th>19862</th>\n",
       "      <td>Открывала ИП , обратилась в Тинькофбанк , так ...</td>\n",
       "      <td>[]</td>\n",
       "      <td>[]</td>\n",
       "      <td>2021-07-31T08:43:14.60976Z</td>\n",
       "      <td>1</td>\n",
       "      <td>Открывала ИП, обратилась в Тинькофбанк, так ка...</td>\n",
       "      <td>other</td>\n",
       "    </tr>\n",
       "    <tr>\n",
       "      <th>19863</th>\n",
       "      <td>Я не являюсь клиентом банка , но пришлось с ни...</td>\n",
       "      <td>[([133], [134, 135, 136], 'NEG'), ([153], [154...</td>\n",
       "      <td>[('ситуация', 'никак не решается', 'NEG'), ('п...</td>\n",
       "      <td>2021-03-17T19:08:05.458614Z</td>\n",
       "      <td>1</td>\n",
       "      <td>Я не являюсь клиентом банка, но пришлось с ни ...</td>\n",
       "      <td>other</td>\n",
       "    </tr>\n",
       "    <tr>\n",
       "      <th>19864</th>\n",
       "      <td>10.03.20 купила билеты в Вильнюс на 20 марта ....</td>\n",
       "      <td>[]</td>\n",
       "      <td>[]</td>\n",
       "      <td>2020-03-27T13:33:28.583Z</td>\n",
       "      <td>3</td>\n",
       "      <td>10.03.20 купила билеты в Вильнюс на 20 марта. ...</td>\n",
       "      <td>other</td>\n",
       "    </tr>\n",
       "    <tr>\n",
       "      <th>19865</th>\n",
       "      <td>Сами банковские услуги удобные , и оформление ...</td>\n",
       "      <td>[([99], [98], 'POS'), ([99], [95], 'POS'), ([8...</td>\n",
       "      <td>[('отношение', 'лояльное', 'POS'), ('отношение...</td>\n",
       "      <td>2019-12-10T07:24:33.41Z</td>\n",
       "      <td>4</td>\n",
       "      <td>Сами банковские услуги удобные, и оформление б...</td>\n",
       "      <td>other</td>\n",
       "    </tr>\n",
       "    <tr>\n",
       "      <th>19866</th>\n",
       "      <td>Уже оставлял отзыв на эту цыганскую контору - ...</td>\n",
       "      <td>[([50], [49], 'NEG')]</td>\n",
       "      <td>[('письма', 'убогие', 'NEG')]</td>\n",
       "      <td>2019-10-09T09:25:22.307Z</td>\n",
       "      <td>2</td>\n",
       "      <td>Уже оставлял отзыв на эту цыганскую контору - ...</td>\n",
       "      <td>other</td>\n",
       "    </tr>\n",
       "  </tbody>\n",
       "</table>\n",
       "<p>19867 rows × 7 columns</p>\n",
       "</div>"
      ],
      "text/plain": [
       "                                                    text  \\\n",
       "0      Оформил карточку Тинькофф еще лет 8 - 10 лет н...   \n",
       "1      По ошибке банка также сменили мне тариф в Тинь...   \n",
       "2      Навязали кредитную карту в аэропорту кредитную...   \n",
       "3      К сожалению приходится прощаться с Тинькоф бан...   \n",
       "4      I use the loyalty system from Tinkoff in every...   \n",
       "...                                                  ...   \n",
       "19862  Открывала ИП , обратилась в Тинькофбанк , так ...   \n",
       "19863  Я не являюсь клиентом банка , но пришлось с ни...   \n",
       "19864  10.03.20 купила билеты в Вильнюс на 20 марта ....   \n",
       "19865  Сами банковские услуги удобные , и оформление ...   \n",
       "19866  Уже оставлял отзыв на эту цыганскую контору - ...   \n",
       "\n",
       "                                                    pred  \\\n",
       "0                           [([362], [365, 366], 'NEG')]   \n",
       "1                                [([106], [117], 'NEG')]   \n",
       "2                                    [([2], [0], 'NEG')]   \n",
       "3                                                     []   \n",
       "4                                                     []   \n",
       "...                                                  ...   \n",
       "19862                                                 []   \n",
       "19863  [([133], [134, 135, 136], 'NEG'), ([153], [154...   \n",
       "19864                                                 []   \n",
       "19865  [([99], [98], 'POS'), ([99], [95], 'POS'), ([8...   \n",
       "19866                              [([50], [49], 'NEG')]   \n",
       "\n",
       "                                               pred_text  \\\n",
       "0                     [('сервис', 'не работает', 'NEG')]   \n",
       "1                  [('представитель', 'обманул', 'NEG')]   \n",
       "2                         [('карту', 'Навязали', 'NEG')]   \n",
       "3                                                     []   \n",
       "4                                                     []   \n",
       "...                                                  ...   \n",
       "19862                                                 []   \n",
       "19863  [('ситуация', 'никак не решается', 'NEG'), ('п...   \n",
       "19864                                                 []   \n",
       "19865  [('отношение', 'лояльное', 'POS'), ('отношение...   \n",
       "19866                      [('письма', 'убогие', 'NEG')]   \n",
       "\n",
       "                              time  rating  \\\n",
       "0      2024-03-18T06:57:04.493153Z       1   \n",
       "1      2024-03-13T15:11:28.958801Z       1   \n",
       "2      2024-03-10T04:21:18.122176Z       1   \n",
       "3      2024-02-14T15:55:48.714485Z       1   \n",
       "4      2024-02-09T22:09:08.406309Z       1   \n",
       "...                            ...     ...   \n",
       "19862   2021-07-31T08:43:14.60976Z       1   \n",
       "19863  2021-03-17T19:08:05.458614Z       1   \n",
       "19864     2020-03-27T13:33:28.583Z       3   \n",
       "19865      2019-12-10T07:24:33.41Z       4   \n",
       "19866     2019-10-09T09:25:22.307Z       2   \n",
       "\n",
       "                                                old_text      category  \n",
       "0      Оформил карточку Тинькофф еще лет 8-10 лет наз...  serviceLevel  \n",
       "1      По ошибке банка также сменили мне тариф в Тинь...  serviceLevel  \n",
       "2      Навязали кредитную карту в аэропорту кредитную...  serviceLevel  \n",
       "3      К сожалению приходится прощаться с Тинькоф бан...  serviceLevel  \n",
       "4      I use the loyalty system from Tinkoff in every...  serviceLevel  \n",
       "...                                                  ...           ...  \n",
       "19862  Открывала ИП, обратилась в Тинькофбанк, так ка...         other  \n",
       "19863  Я не являюсь клиентом банка, но пришлось с ни ...         other  \n",
       "19864  10.03.20 купила билеты в Вильнюс на 20 марта. ...         other  \n",
       "19865  Сами банковские услуги удобные, и оформление б...         other  \n",
       "19866  Уже оставлял отзыв на эту цыганскую контору - ...         other  \n",
       "\n",
       "[19867 rows x 7 columns]"
      ]
     },
     "execution_count": 17,
     "metadata": {},
     "output_type": "execute_result"
    }
   ],
   "source": [
    "current = pd.read_parquet(f'data/results_sravni_{bank}.parquet')\n",
    "current"
   ]
  },
  {
   "cell_type": "code",
   "execution_count": null,
   "metadata": {
    "tags": []
   },
   "outputs": [],
   "source": [
    "current"
   ]
  },
  {
   "cell_type": "code",
   "execution_count": null,
   "metadata": {
    "colab": {
     "background_save": true
    },
    "id": "Ys0po-09oRHW"
   },
   "outputs": [],
   "source": [
    "final.to_parquet(\"tink.parquet\", index=False)"
   ]
  },
  {
   "cell_type": "markdown",
   "metadata": {
    "id": "DWgnYDG8tp1m"
   },
   "source": [
    "# VTB"
   ]
  },
  {
   "cell_type": "markdown",
   "metadata": {
    "id": "mOuJ4GYzmLl1"
   },
   "source": [
    "```https://www.sravni.ru/proxy-reviews/reviews/?filterBy=withRates&fingerPrint=75da44baf111f15bf7e15eb1a990450d&isClient=false&locationRoute=&newIds=true&orderBy=byDate&pageIndex={i}&pageSize=10&reviewObjectId=5bb4f767245bc22a520a6081&reviewObjectType=banks&specificProductId=&withVotes=true```"
   ]
  },
  {
   "cell_type": "code",
   "execution_count": null,
   "metadata": {
    "colab": {
     "base_uri": "https://localhost:8080/"
    },
    "executionInfo": {
     "elapsed": 148212,
     "status": "ok",
     "timestamp": 1714559811501,
     "user": {
      "displayName": "ISY640",
      "userId": "14578547707035782428"
     },
     "user_tz": -180
    },
    "id": "JVNlSPBYmR8V",
    "outputId": "af73f069-9bad-452e-bfb0-ed546385e3cf"
   },
   "outputs": [
    {
     "name": "stderr",
     "output_type": "stream",
     "text": [
      "  8%|▊         | 80/1000 [00:50<09:42,  1.58it/s]\n",
      "  4%|▍         | 39/1000 [00:21<08:49,  1.81it/s]\n",
      "  7%|▋         | 71/1000 [00:37<08:13,  1.88it/s]\n",
      "  2%|▏         | 21/1000 [00:08<06:51,  2.38it/s]\n",
      "  3%|▎         | 27/1000 [00:15<09:28,  1.71it/s]\n",
      "  1%|          | 9/1000 [00:04<08:57,  1.84it/s]\n",
      "  1%|          | 10/1000 [00:06<10:06,  1.63it/s]\n",
      "  0%|          | 4/1000 [00:02<09:41,  1.71it/s]\n"
     ]
    }
   ],
   "source": [
    "from tqdm import tqdm\n",
    "\n",
    "cats = [\"serviceLevel\", \"mortgage\", \"credits\", \"creditCards\", \"debitCards\", \"savings\", \"remoteService\", \"other\"]\n",
    "res_vtb = []\n",
    "for cat in cats:\n",
    "  res_cat = []\n",
    "  for i in tqdm(range(1, 1001)):\n",
    "    json = requests.get(f\"https://www.sravni.ru/proxy-reviews/reviews/?filterBy=withRates&fingerPrint=75da44baf111f15bf7e15eb1a990450d&isClient=false&locationRoute=&newIds=true&orderBy=byDate&pageIndex={i}&pageSize=10&reviewObjectId=5bb4f767245bc22a520a6081&reviewObjectType=banks&specificProductId=&tag={cat}&withVotes=true\").json()\n",
    "    for item in json[\"items\"]:\n",
    "      res_cat.append(( item[\"date\"],item[\"text\"],item[\"title\"], item[\"problemSolutionDate\"], item[\"rating\"], cat))\n",
    "    if len(json[\"items\"]) == 0: break\n",
    "  res_vtb.extend(res_cat)"
   ]
  },
  {
   "cell_type": "code",
   "execution_count": null,
   "metadata": {
    "id": "Eb5-F1iRmwjA"
   },
   "outputs": [],
   "source": [
    "final = pd.DataFrame(res_vtb, columns=[\"date\", \"text\", \"title\", \"solution_date\", \"rating\", \"category\"])"
   ]
  },
  {
   "cell_type": "code",
   "execution_count": null,
   "metadata": {
    "colab": {
     "base_uri": "https://localhost:8080/"
    },
    "executionInfo": {
     "elapsed": 9,
     "status": "ok",
     "timestamp": 1714559959952,
     "user": {
      "displayName": "ISY640",
      "userId": "14578547707035782428"
     },
     "user_tz": -180
    },
    "id": "8V_pIE8JqXak",
    "outputId": "b9b03511-ff76-4d22-b053-546a7bbf7080"
   },
   "outputs": [
    {
     "data": {
      "text/plain": [
       "2579"
      ]
     },
     "execution_count": 50,
     "metadata": {},
     "output_type": "execute_result"
    }
   ],
   "source": [
    "len(final)"
   ]
  },
  {
   "cell_type": "code",
   "execution_count": null,
   "metadata": {
    "id": "lnWfGGBRqaGK"
   },
   "outputs": [],
   "source": [
    "final.to_parquet(\"vtb.parquet\", index=False)"
   ]
  },
  {
   "cell_type": "markdown",
   "metadata": {
    "id": "Y7khIQQptnsO"
   },
   "source": [
    "# Alpha"
   ]
  },
  {
   "cell_type": "markdown",
   "metadata": {
    "id": "-65sJZX9t-01"
   },
   "source": [
    "``https://www.sravni.ru/proxy-reviews/reviews/?filterBy=withRates&fingerPrint=75da44baf111f15bf7e15eb1a990450d&isClient=false&locationRoute=&newIds=true&orderBy=byDate&pageIndex=1&pageSize=10&reviewObjectId=5bb4f767245bc22a520a60fb&reviewObjectType=banks&specificProductId=&withVotes=true``"
   ]
  },
  {
   "cell_type": "code",
   "execution_count": null,
   "metadata": {
    "colab": {
     "base_uri": "https://localhost:8080/"
    },
    "executionInfo": {
     "elapsed": 1830299,
     "status": "ok",
     "timestamp": 1714559292973,
     "user": {
      "displayName": "ISY640",
      "userId": "14578547707035782428"
     },
     "user_tz": -180
    },
    "id": "5eQOAp4nuD3O",
    "outputId": "183a9e2f-20e4-4fd4-af6c-d773d451628f"
   },
   "outputs": [
    {
     "name": "stderr",
     "output_type": "stream",
     "text": [
      " 33%|███▎      | 330/1000 [03:44<07:35,  1.47it/s]\n",
      "  3%|▎         | 33/1000 [00:20<10:00,  1.61it/s]\n",
      " 18%|█▊        | 175/1000 [01:38<07:44,  1.78it/s]\n",
      " 64%|██████▍   | 638/1000 [06:51<03:53,  1.55it/s]\n",
      "100%|██████████| 1000/1000 [12:45<00:00,  1.31it/s]\n",
      " 16%|█▋        | 165/1000 [01:30<07:36,  1.83it/s]\n",
      " 34%|███▍      | 344/1000 [03:22<06:26,  1.70it/s]\n",
      "  3%|▎         | 29/1000 [00:16<09:23,  1.72it/s]\n"
     ]
    }
   ],
   "source": [
    "from tqdm import tqdm\n",
    "\n",
    "cats = [\"serviceLevel\", \"mortgage\", \"credits\", \"creditCards\", \"debitCards\", \"savings\", \"remoteService\", \"other\"]\n",
    "res_alpha = []\n",
    "for cat in cats:\n",
    "  res_cat = []\n",
    "  for i in tqdm(range(1, 1001)):\n",
    "    json = requests.get(f\"https://www.sravni.ru/proxy-reviews/reviews/?filterBy=withRates&fingerPrint=75da44baf111f15bf7e15eb1a990450d&isClient=false&locationRoute=&newIds=true&orderBy=byDate&pageIndex={i}&pageSize=10&reviewObjectId=5bb4f767245bc22a520a60fb&reviewObjectType=banks&tag={cat}&specificProductId=&withVotes=true\").json()\n",
    "    for item in json[\"items\"]:\n",
    "      res_cat.append(( item[\"date\"],item[\"text\"],item[\"title\"], item[\"problemSolutionDate\"], item[\"rating\"], cat))\n",
    "    if len(json[\"items\"]) == 0: break\n",
    "  res_alpha.extend(res_cat)"
   ]
  },
  {
   "cell_type": "code",
   "execution_count": null,
   "metadata": {
    "id": "jGsHg9ALuD3Q"
   },
   "outputs": [],
   "source": [
    "final = pd.DataFrame(res_alpha, columns=[\"date\", \"text\", \"title\", \"solution_date\", \"rating\", \"category\"])"
   ]
  },
  {
   "cell_type": "code",
   "execution_count": null,
   "metadata": {
    "colab": {
     "base_uri": "https://localhost:8080/"
    },
    "executionInfo": {
     "elapsed": 260,
     "status": "ok",
     "timestamp": 1714559632447,
     "user": {
      "displayName": "ISY640",
      "userId": "14578547707035782428"
     },
     "user_tz": -180
    },
    "id": "ydMHoJv3uD3Q",
    "outputId": "9ffc4230-d2a3-48bb-b404-fc3a7611c20a"
   },
   "outputs": [
    {
     "data": {
      "text/plain": [
       "date                                   2024-04-19T07:48:18.476662Z\n",
       "text             Добрый день! Хочу выразить огромную благодарно...\n",
       "title                                               Благодарность.\n",
       "solution_date                                                 None\n",
       "rating                                                           5\n",
       "category                                              serviceLevel\n",
       "Name: 0, dtype: object"
      ]
     },
     "execution_count": 44,
     "metadata": {},
     "output_type": "execute_result"
    }
   ],
   "source": [
    "final.iloc[0]"
   ]
  },
  {
   "cell_type": "code",
   "execution_count": null,
   "metadata": {
    "id": "WKOWccEKuD3R"
   },
   "outputs": [],
   "source": [
    "final.to_parquet(\"alpha.parquet\", index=False)"
   ]
  },
  {
   "cell_type": "code",
   "execution_count": null,
   "metadata": {
    "colab": {
     "base_uri": "https://localhost:8080/"
    },
    "executionInfo": {
     "elapsed": 12,
     "status": "ok",
     "timestamp": 1714394265655,
     "user": {
      "displayName": "ISY640",
      "userId": "14578547707035782428"
     },
     "user_tz": -180
    },
    "id": "sZmAc34ovraL",
    "outputId": "ac0bd67c-305d-4156-a1db-858fc94fa5f2"
   },
   "outputs": [
    {
     "name": "stdout",
     "output_type": "stream",
     "text": [
      "Python 3.10.12\n"
     ]
    }
   ],
   "source": [
    "!python --version"
   ]
  },
  {
   "cell_type": "markdown",
   "metadata": {
    "id": "aF2TPuL4QIuu"
   },
   "source": [
    "# Sber"
   ]
  },
  {
   "cell_type": "code",
   "execution_count": null,
   "metadata": {
    "colab": {
     "base_uri": "https://localhost:8080/"
    },
    "executionInfo": {
     "elapsed": 209761,
     "status": "ok",
     "timestamp": 1714557272680,
     "user": {
      "displayName": "ISY640",
      "userId": "14578547707035782428"
     },
     "user_tz": -180
    },
    "id": "B_5oMWjPQPvc",
    "outputId": "6fcbbd6c-101d-48d7-ed61-3b96470757cc"
   },
   "outputs": [
    {
     "name": "stderr",
     "output_type": "stream",
     "text": [
      " 17%|█▋        | 171/1000 [01:41<08:10,  1.69it/s]\n",
      "  4%|▍         | 42/1000 [00:23<08:54,  1.79it/s]\n",
      "  4%|▍         | 44/1000 [00:24<08:45,  1.82it/s]\n",
      "  3%|▎         | 29/1000 [00:16<09:01,  1.79it/s]\n",
      "  3%|▎         | 27/1000 [00:15<09:31,  1.70it/s]\n",
      "  2%|▏         | 20/1000 [00:10<08:14,  1.98it/s]\n",
      "  2%|▏         | 19/1000 [00:10<09:18,  1.75it/s]\n",
      "  2%|▏         | 15/1000 [00:07<08:15,  1.99it/s]\n"
     ]
    }
   ],
   "source": [
    "from tqdm import tqdm\n",
    "\n",
    "cats = [\"serviceLevel\", \"mortgage\", \"credits\", \"creditCards\", \"debitCards\", \"savings\", \"remoteService\", \"other\"]\n",
    "res_sber = []\n",
    "for cat in cats:\n",
    "  res_cat = []\n",
    "  for i in tqdm(range(1, 1001)):\n",
    "    json = requests.get(f\"https://www.sravni.ru/proxy-reviews/reviews/?filterBy=withRates&fingerPrint=75da44baf111f15bf7e15eb1a990450d&isClient=false&locationRoute=&newIds=true&orderBy=byDate&pageIndex={i}&pageSize=10&reviewObjectId=5bb4f767245bc22a520a609b&reviewObjectType=banks&specificProductId=&tag={cat}&withVotes=true\").json()\n",
    "    for item in json[\"items\"]:\n",
    "      res_cat.append(( item[\"date\"],item[\"text\"],item[\"title\"], item[\"problemSolutionDate\"], item[\"rating\"], cat))\n",
    "    if len(json[\"items\"]) == 0: break\n",
    "  res_sber.extend(res_cat)"
   ]
  },
  {
   "cell_type": "code",
   "execution_count": null,
   "metadata": {
    "colab": {
     "base_uri": "https://localhost:8080/"
    },
    "executionInfo": {
     "elapsed": 6,
     "status": "ok",
     "timestamp": 1714559293831,
     "user": {
      "displayName": "ISY640",
      "userId": "14578547707035782428"
     },
     "user_tz": -180
    },
    "id": "WWrlBcmck_zb",
    "outputId": "226e2ab7-5453-46c2-94fd-9d1ac3cf7094"
   },
   "outputs": [
    {
     "data": {
      "text/plain": [
       "3627"
      ]
     },
     "execution_count": 41,
     "metadata": {},
     "output_type": "execute_result"
    }
   ],
   "source": [
    "len(res_alpha)"
   ]
  },
  {
   "cell_type": "code",
   "execution_count": null,
   "metadata": {
    "id": "gAy2tOBPQPvd"
   },
   "outputs": [],
   "source": [
    "final = pd.DataFrame(res_sber, columns=[\"date\", \"text\", \"title\", \"solution_date\", \"rating\", \"category\"])"
   ]
  },
  {
   "cell_type": "code",
   "execution_count": null,
   "metadata": {
    "colab": {
     "base_uri": "https://localhost:8080/"
    },
    "executionInfo": {
     "elapsed": 7,
     "status": "ok",
     "timestamp": 1714557317294,
     "user": {
      "displayName": "ISY640",
      "userId": "14578547707035782428"
     },
     "user_tz": -180
    },
    "id": "ALtMyjOEQPvd",
    "outputId": "6ab55569-5188-4a53-fc75-13554d7f3236"
   },
   "outputs": [
    {
     "data": {
      "text/plain": [
       "3627"
      ]
     },
     "execution_count": 35,
     "metadata": {},
     "output_type": "execute_result"
    }
   ],
   "source": [
    "len(final)"
   ]
  },
  {
   "cell_type": "code",
   "execution_count": null,
   "metadata": {
    "id": "htysTaygQPve"
   },
   "outputs": [],
   "source": [
    "final.to_parquet(\"sber_cats.parquet\", index=False)"
   ]
  },
  {
   "cell_type": "code",
   "execution_count": null,
   "metadata": {
    "id": "OfLrsq-eU6J9"
   },
   "outputs": [],
   "source": [
    "df = pd.read_csv(\"/content/test_selling_pandas.csv\")"
   ]
  }
 ],
 "metadata": {
  "colab": {
   "authorship_tag": "ABX9TyOme6fxQrvGBQ6WNgqBXMKp",
   "provenance": []
  },
  "kernelspec": {
   "display_name": "Python 3 (ipykernel)",
   "language": "python",
   "name": "python3"
  },
  "language_info": {
   "codemirror_mode": {
    "name": "ipython",
    "version": 3
   },
   "file_extension": ".py",
   "mimetype": "text/x-python",
   "name": "python",
   "nbconvert_exporter": "python",
   "pygments_lexer": "ipython3",
   "version": "3.11.4"
  }
 },
 "nbformat": 4,
 "nbformat_minor": 4
}
