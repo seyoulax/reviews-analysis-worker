{
 "cells": [
  {
   "cell_type": "code",
   "execution_count": 52,
   "id": "4837484b-6ac5-4094-acbf-be1e610ae34c",
   "metadata": {
    "tags": []
   },
   "outputs": [],
   "source": [
    "import pandas as pd"
   ]
  },
  {
   "cell_type": "code",
   "execution_count": 68,
   "id": "f9c7838b-cc74-400b-b0bc-ea7238ab6bf7",
   "metadata": {
    "tags": []
   },
   "outputs": [],
   "source": [
    "bank='vtb' # tink sber alpha vtb"
   ]
  },
  {
   "cell_type": "code",
   "execution_count": 69,
   "id": "001aa107-9333-4345-8020-4c00fb15f698",
   "metadata": {
    "tags": []
   },
   "outputs": [
    {
     "data": {
      "text/html": [
       "<div>\n",
       "<style scoped>\n",
       "    .dataframe tbody tr th:only-of-type {\n",
       "        vertical-align: middle;\n",
       "    }\n",
       "\n",
       "    .dataframe tbody tr th {\n",
       "        vertical-align: top;\n",
       "    }\n",
       "\n",
       "    .dataframe thead th {\n",
       "        text-align: right;\n",
       "    }\n",
       "</style>\n",
       "<table border=\"1\" class=\"dataframe\">\n",
       "  <thead>\n",
       "    <tr style=\"text-align: right;\">\n",
       "      <th></th>\n",
       "      <th>triplets</th>\n",
       "      <th>timestamp</th>\n",
       "    </tr>\n",
       "  </thead>\n",
       "  <tbody>\n",
       "    <tr>\n",
       "      <th>0</th>\n",
       "      <td>[('впечатление', 'хорошее', 'POS'), ('сотрудни...</td>\n",
       "      <td>2024-03-09 15:05:00</td>\n",
       "    </tr>\n",
       "    <tr>\n",
       "      <th>1</th>\n",
       "      <td>[]</td>\n",
       "      <td>2024-03-05 07:00:00</td>\n",
       "    </tr>\n",
       "    <tr>\n",
       "      <th>2</th>\n",
       "      <td>[]</td>\n",
       "      <td>2024-03-01 16:02:00</td>\n",
       "    </tr>\n",
       "    <tr>\n",
       "      <th>3</th>\n",
       "      <td>[]</td>\n",
       "      <td>2024-02-26 13:02:00</td>\n",
       "    </tr>\n",
       "    <tr>\n",
       "      <th>4</th>\n",
       "      <td>[]</td>\n",
       "      <td>2024-02-22 00:04:00</td>\n",
       "    </tr>\n",
       "    <tr>\n",
       "      <th>...</th>\n",
       "      <td>...</td>\n",
       "      <td>...</td>\n",
       "    </tr>\n",
       "    <tr>\n",
       "      <th>2574</th>\n",
       "      <td>[('картину', 'печальную', 'NEG')]</td>\n",
       "      <td>2019-04-18 01:05:00</td>\n",
       "    </tr>\n",
       "    <tr>\n",
       "      <th>2575</th>\n",
       "      <td>[]</td>\n",
       "      <td>2019-03-03 20:05:00</td>\n",
       "    </tr>\n",
       "    <tr>\n",
       "      <th>2576</th>\n",
       "      <td>[]</td>\n",
       "      <td>2018-12-12 21:02:00</td>\n",
       "    </tr>\n",
       "    <tr>\n",
       "      <th>2577</th>\n",
       "      <td>[]</td>\n",
       "      <td>2018-10-15 13:04:00</td>\n",
       "    </tr>\n",
       "    <tr>\n",
       "      <th>2578</th>\n",
       "      <td>[]</td>\n",
       "      <td>2018-09-26 16:02:00</td>\n",
       "    </tr>\n",
       "  </tbody>\n",
       "</table>\n",
       "<p>2579 rows × 2 columns</p>\n",
       "</div>"
      ],
      "text/plain": [
       "                                               triplets           timestamp\n",
       "0     [('впечатление', 'хорошее', 'POS'), ('сотрудни... 2024-03-09 15:05:00\n",
       "1                                                    [] 2024-03-05 07:00:00\n",
       "2                                                    [] 2024-03-01 16:02:00\n",
       "3                                                    [] 2024-02-26 13:02:00\n",
       "4                                                    [] 2024-02-22 00:04:00\n",
       "...                                                 ...                 ...\n",
       "2574                  [('картину', 'печальную', 'NEG')] 2019-04-18 01:05:00\n",
       "2575                                                 [] 2019-03-03 20:05:00\n",
       "2576                                                 [] 2018-12-12 21:02:00\n",
       "2577                                                 [] 2018-10-15 13:04:00\n",
       "2578                                                 [] 2018-09-26 16:02:00\n",
       "\n",
       "[2579 rows x 2 columns]"
      ]
     },
     "execution_count": 69,
     "metadata": {},
     "output_type": "execute_result"
    }
   ],
   "source": [
    "# results = pd.read_parquet('data/results_sravni.parquet')\n",
    "results = pd.read_parquet(f'data/results_sravni_{bank}.parquet')\n",
    "results['timestamp'] = pd.to_datetime(results['time'].apply(lambda x: x[:15].replace('T', ':')), format='%Y-%m-%d:%H:%M' )\n",
    "results = results.rename(columns={'pred_text': 'triplets'})\n",
    "results = results[['triplets', 'timestamp']]\n",
    "results"
   ]
  },
  {
   "cell_type": "code",
   "execution_count": 70,
   "id": "0971fa53-efc3-4f19-9190-d96836d813d1",
   "metadata": {
    "tags": []
   },
   "outputs": [],
   "source": [
    "results.to_parquet(f'data/{bank}.parquet')"
   ]
  },
  {
   "cell_type": "code",
   "execution_count": null,
   "id": "5838e974-2b5a-45fb-8925-f49a50f1ac06",
   "metadata": {},
   "outputs": [],
   "source": []
  }
 ],
 "metadata": {
  "kernelspec": {
   "display_name": "Python 3 (ipykernel)",
   "language": "python",
   "name": "python3"
  },
  "language_info": {
   "codemirror_mode": {
    "name": "ipython",
    "version": 3
   },
   "file_extension": ".py",
   "mimetype": "text/x-python",
   "name": "python",
   "nbconvert_exporter": "python",
   "pygments_lexer": "ipython3",
   "version": "3.11.4"
  }
 },
 "nbformat": 4,
 "nbformat_minor": 5
}
