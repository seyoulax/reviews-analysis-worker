{
 "cells": [
  {
   "cell_type": "code",
   "execution_count": 24,
   "id": "25dfdb0d-ffd4-4fd1-bfe8-0f02de362e7b",
   "metadata": {
    "tags": []
   },
   "outputs": [],
   "source": [
    "import pandas as pd\n",
    "from test_script import get_preds\n",
    "# from data_and_models import check_data, get_pred, convert_df, plot_shap_explanation\n",
    "import numpy as np\n",
    "import matplotlib.pyplot as plt\n",
    "# from aux_functions import *\n",
    "import os\n",
    "import re\n",
    "\n",
    "\n",
    "def process_punctuation_txt(review):\n",
    "  # Обрабатываем знаки препинания\n",
    "    review = re.sub(rf'(\\W)', rf' \\1 ', review[:-14])\n",
    "\n",
    "    review = re.sub(rf'\\s+', rf' ', review)\n",
    "\n",
    "    for punct in '.,':\n",
    "        review = re.sub(rf'([\\d\\{punct}]) (\\{punct}) ([\\d\\{punct}])', rf'\\1\\2\\3', review)\n",
    "\n",
    "    for punct in '!?':\n",
    "        review = re.sub(rf'(\\{punct}) (\\{punct}) (\\{punct})', rf'\\1\\2\\3', review)\n",
    "\n",
    "    if review[-1] == ' ':\n",
    "        review = review[:-1]\n",
    "\n",
    "    if review[-1] not in '.!?':\n",
    "        review += ' .'\n",
    "    review += '#### []'\n",
    "\n",
    "    return review\n",
    "\n",
    "\n",
    "def add_spaces(review):\n",
    "    pattern=r'(\\w\\w[а-яё])([А-Я]\\w\\w)'\n",
    "    review=re.sub(pattern, r'\\1 \\2', review)\n",
    "    return review\n",
    "    \n",
    "\n",
    "\n",
    "def process_reviews(reviews):\n",
    "    \n",
    "    reviews = reviews.apply(lambda x: re.sub(r'\\s+', ' ', x).strip())\n",
    "    reviews = reviews.apply(lambda x: x + '#### #### ####[]')\n",
    "    reviews = reviews.apply(add_spaces)\n",
    "    reviews = reviews.apply(process_punctuation_txt)\n",
    "        \n",
    "    return reviews.values.tolist()"
   ]
  },
  {
   "cell_type": "code",
   "execution_count": 25,
   "id": "df20ada2-f7de-4121-be2e-a3e00c8e20c2",
   "metadata": {
    "tags": []
   },
   "outputs": [],
   "source": [
    "def file_to_triplets(file):\n",
    "\n",
    "    # if file.name.rsplit('.', 1)[1].lower() == 'txt':\n",
    "    with open(file) as f:\n",
    "        lines = f.read().split('####\\n')\n",
    " \n",
    "    lines = process_reviews(pd.Series(lines))\n",
    "\n",
    "\n",
    "\n",
    "    with open('data/uploaded_file.txt', 'w') as f:\n",
    "        for line in lines:\n",
    "            f.write(line+'\\n')\n",
    "            # st.write(line[-1])\n",
    "   \n",
    "    # file.seek(0)\n",
    "    print('Started inference')\n",
    "    preds = get_preds(lines, model_path='model_58.pt', test_path='data/uploaded_file.txt')\n",
    "    print(preds['pred_text'])\n",
    "\n",
    "    return preds"
   ]
  },
  {
   "cell_type": "code",
   "execution_count": 26,
   "id": "b46c7cd5-88fb-45f7-9fd9-621d482d28b9",
   "metadata": {
    "tags": []
   },
   "outputs": [
    {
     "name": "stdout",
     "output_type": "stream",
     "text": [
      "Started inference\n",
      "using device:cpu\n",
      "Building SPAN-ASTE model...\n"
     ]
    },
    {
     "name": "stderr",
     "output_type": "stream",
     "text": [
      "3it [00:01,  2.87it/s]"
     ]
    },
    {
     "name": "stdout",
     "output_type": "stream",
     "text": [
      "{'precision': 0.0, 'recall': 0, 'f1': 0}\n",
      "0                                                   []\n",
      "1              [(сотрудниками, не компетентными, NEG)]\n",
      "2    [(Преподаватели, интересные, POS), (Преподават...\n",
      "Name: pred_text, dtype: object\n"
     ]
    },
    {
     "name": "stderr",
     "output_type": "stream",
     "text": [
      "\n"
     ]
    },
    {
     "data": {
      "text/plain": [
       "Text(0.5, 1.0, 'Распределение тональности триплетов')"
      ]
     },
     "execution_count": 26,
     "metadata": {},
     "output_type": "execute_result"
    }
   ],
   "source": [
    "preds = file_to_triplets('/Users/nik/Library/Mobile Documents/com~apple~TextEdit/Documents/sample_reviews.txt')\n",
    " \n",
    "\n",
    "triplets = preds['pred_text'].values.tolist()\n",
    "all_triplets = []\n",
    "for label in triplets:\n",
    "    # all_triplets.extend(eval(label))\n",
    "    all_triplets.extend(label)\n",
    "\n",
    "data = []\n",
    "for triplet in all_triplets:\n",
    "    at, ot, sp = triplet\n",
    "    at = at.lower()\n",
    "    ot = ot.lower()\n",
    "\n",
    "    data.append([at, ot, sp, (at, ot, sp), (at, ot)])\n",
    "\n",
    "df = pd.DataFrame(data)\n",
    "df.columns = ['aspect', 'opinion', 'sentiment', 'triplet', 'aspect_opinion']\n",
    "\n",
    "fig, ax = plt.subplots(figsize=(10, 10))\n",
    "plt.title('Распределение тональности триплетов', fontsize=25, fontweight='bold')\n",
    "# df['sentiment'].hist()\n",
    "# plt.plot(fig)\n",
    "# plt.plot()"
   ]
  },
  {
   "cell_type": "code",
   "execution_count": 27,
   "id": "e0f59d04-6f84-44f7-a5c5-d69b1b7f132a",
   "metadata": {
    "tags": []
   },
   "outputs": [
    {
     "data": {
      "text/html": [
       "<div>\n",
       "<style scoped>\n",
       "    .dataframe tbody tr th:only-of-type {\n",
       "        vertical-align: middle;\n",
       "    }\n",
       "\n",
       "    .dataframe tbody tr th {\n",
       "        vertical-align: top;\n",
       "    }\n",
       "\n",
       "    .dataframe thead th {\n",
       "        text-align: right;\n",
       "    }\n",
       "</style>\n",
       "<table border=\"1\" class=\"dataframe\">\n",
       "  <thead>\n",
       "    <tr style=\"text-align: right;\">\n",
       "      <th></th>\n",
       "      <th>text</th>\n",
       "      <th>pred</th>\n",
       "      <th>label</th>\n",
       "      <th>pred_text</th>\n",
       "      <th>label_text</th>\n",
       "    </tr>\n",
       "  </thead>\n",
       "  <tbody>\n",
       "    <tr>\n",
       "      <th>0</th>\n",
       "      <td>ОПАСНОСТЬ !!! ! БУДЪТЕ ОСТОРОЖНЫ !!! Купили ре...</td>\n",
       "      <td>[]</td>\n",
       "      <td>[]</td>\n",
       "      <td>[]</td>\n",
       "      <td>[]</td>\n",
       "    </tr>\n",
       "    <tr>\n",
       "      <th>1</th>\n",
       "      <td>ЕСЛИ ВЫ РЕШИЛИ ОБРАТИТЬСЯ В GB ПОДУМАЙТЕ НЕ СЕ...</td>\n",
       "      <td>[([56], [54, 55], NEG)]</td>\n",
       "      <td>[]</td>\n",
       "      <td>[(сотрудниками, не компетентными, NEG)]</td>\n",
       "      <td>[]</td>\n",
       "    </tr>\n",
       "    <tr>\n",
       "      <th>2</th>\n",
       "      <td>Обучаюсь на годовом курсе интернет - маркетинг...</td>\n",
       "      <td>[([56], [57], POS), ([56], [59], POS), ([72], ...</td>\n",
       "      <td>[]</td>\n",
       "      <td>[(Преподаватели, интересные, POS), (Преподават...</td>\n",
       "      <td>[]</td>\n",
       "    </tr>\n",
       "  </tbody>\n",
       "</table>\n",
       "</div>"
      ],
      "text/plain": [
       "                                                text  \\\n",
       "0  ОПАСНОСТЬ !!! ! БУДЪТЕ ОСТОРОЖНЫ !!! Купили ре...   \n",
       "1  ЕСЛИ ВЫ РЕШИЛИ ОБРАТИТЬСЯ В GB ПОДУМАЙТЕ НЕ СЕ...   \n",
       "2  Обучаюсь на годовом курсе интернет - маркетинг...   \n",
       "\n",
       "                                                pred label  \\\n",
       "0                                                 []    []   \n",
       "1                            [([56], [54, 55], NEG)]    []   \n",
       "2  [([56], [57], POS), ([56], [59], POS), ([72], ...    []   \n",
       "\n",
       "                                           pred_text label_text  \n",
       "0                                                 []         []  \n",
       "1            [(сотрудниками, не компетентными, NEG)]         []  \n",
       "2  [(Преподаватели, интересные, POS), (Преподават...         []  "
      ]
     },
     "execution_count": 27,
     "metadata": {},
     "output_type": "execute_result"
    }
   ],
   "source": [
    "preds"
   ]
  },
  {
   "cell_type": "code",
   "execution_count": 28,
   "id": "d7194598-1ca4-4313-9637-ba2fb54b15c7",
   "metadata": {
    "tags": []
   },
   "outputs": [
    {
     "data": {
      "text/html": [
       "<div>\n",
       "<style scoped>\n",
       "    .dataframe tbody tr th:only-of-type {\n",
       "        vertical-align: middle;\n",
       "    }\n",
       "\n",
       "    .dataframe tbody tr th {\n",
       "        vertical-align: top;\n",
       "    }\n",
       "\n",
       "    .dataframe thead th {\n",
       "        text-align: right;\n",
       "    }\n",
       "</style>\n",
       "<table border=\"1\" class=\"dataframe\">\n",
       "  <thead>\n",
       "    <tr style=\"text-align: right;\">\n",
       "      <th></th>\n",
       "      <th>aspect</th>\n",
       "      <th>opinion</th>\n",
       "      <th>sentiment</th>\n",
       "      <th>triplet</th>\n",
       "      <th>aspect_opinion</th>\n",
       "    </tr>\n",
       "  </thead>\n",
       "  <tbody>\n",
       "    <tr>\n",
       "      <th>0</th>\n",
       "      <td>сотрудниками</td>\n",
       "      <td>не компетентными</td>\n",
       "      <td>NEG</td>\n",
       "      <td>(сотрудниками, не компетентными, NEG)</td>\n",
       "      <td>(сотрудниками, не компетентными)</td>\n",
       "    </tr>\n",
       "    <tr>\n",
       "      <th>1</th>\n",
       "      <td>преподаватели</td>\n",
       "      <td>интересные</td>\n",
       "      <td>POS</td>\n",
       "      <td>(преподаватели, интересные, POS)</td>\n",
       "      <td>(преподаватели, интересные)</td>\n",
       "    </tr>\n",
       "    <tr>\n",
       "      <th>2</th>\n",
       "      <td>преподаватели</td>\n",
       "      <td>лояльные</td>\n",
       "      <td>POS</td>\n",
       "      <td>(преподаватели, лояльные, POS)</td>\n",
       "      <td>(преподаватели, лояльные)</td>\n",
       "    </tr>\n",
       "    <tr>\n",
       "      <th>3</th>\n",
       "      <td>формат</td>\n",
       "      <td>удобный</td>\n",
       "      <td>POS</td>\n",
       "      <td>(формат, удобный, POS)</td>\n",
       "      <td>(формат, удобный)</td>\n",
       "    </tr>\n",
       "    <tr>\n",
       "      <th>4</th>\n",
       "      <td>презентации</td>\n",
       "      <td>хорошие</td>\n",
       "      <td>POS</td>\n",
       "      <td>(презентации, хорошие, POS)</td>\n",
       "      <td>(презентации, хорошие)</td>\n",
       "    </tr>\n",
       "  </tbody>\n",
       "</table>\n",
       "</div>"
      ],
      "text/plain": [
       "          aspect           opinion sentiment  \\\n",
       "0   сотрудниками  не компетентными       NEG   \n",
       "1  преподаватели        интересные       POS   \n",
       "2  преподаватели          лояльные       POS   \n",
       "3         формат           удобный       POS   \n",
       "4    презентации           хорошие       POS   \n",
       "\n",
       "                                 triplet                    aspect_opinion  \n",
       "0  (сотрудниками, не компетентными, NEG)  (сотрудниками, не компетентными)  \n",
       "1       (преподаватели, интересные, POS)       (преподаватели, интересные)  \n",
       "2         (преподаватели, лояльные, POS)         (преподаватели, лояльные)  \n",
       "3                 (формат, удобный, POS)                 (формат, удобный)  \n",
       "4            (презентации, хорошие, POS)            (презентации, хорошие)  "
      ]
     },
     "execution_count": 28,
     "metadata": {},
     "output_type": "execute_result"
    }
   ],
   "source": [
    "df"
   ]
  },
  {
   "cell_type": "code",
   "execution_count": null,
   "id": "fa8a0f5b-3282-4460-bd51-c76a27237e3e",
   "metadata": {},
   "outputs": [],
   "source": []
  }
 ],
 "metadata": {
  "kernelspec": {
   "display_name": "Python 3 (ipykernel)",
   "language": "python",
   "name": "python3"
  },
  "language_info": {
   "codemirror_mode": {
    "name": "ipython",
    "version": 3
   },
   "file_extension": ".py",
   "mimetype": "text/x-python",
   "name": "python",
   "nbconvert_exporter": "python",
   "pygments_lexer": "ipython3",
   "version": "3.11.4"
  }
 },
 "nbformat": 4,
 "nbformat_minor": 5
}
