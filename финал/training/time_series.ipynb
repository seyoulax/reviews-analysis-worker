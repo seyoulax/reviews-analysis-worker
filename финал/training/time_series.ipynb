{
 "cells": [
  {
   "cell_type": "code",
   "execution_count": null,
   "id": "53d92160-8550-4169-ad67-0efc4c3b55c9",
   "metadata": {
    "tags": []
   },
   "outputs": [],
   "source": [
    "!pip install optuna"
   ]
  },
  {
   "cell_type": "code",
   "execution_count": 2,
   "id": "b4ffbd2b-b969-4223-8e8d-9bd24529e5ee",
   "metadata": {
    "tags": []
   },
   "outputs": [],
   "source": [
    "import pandas as pd\n",
    "import numpy as np\n",
    "import seaborn as sns\n",
    "import plotly as pl\n",
    "import plotly.express as px\n",
    "import datetime\n",
    "import optuna\n",
    "import warnings\n",
    "import itertools\n",
    "\n",
    "warnings.filterwarnings(\"ignore\")\n",
    "\n",
    "from statsmodels.tsa.statespace.sarimax import SARIMAX\n",
    "from tqdm import tqdm\n",
    "from sklearn.metrics import r2_score"
   ]
  },
  {
   "cell_type": "code",
   "execution_count": 3,
   "id": "a9046343-236a-498e-8cf2-b06095530830",
   "metadata": {
    "tags": []
   },
   "outputs": [],
   "source": [
    "def preprocess_triplets(res_df, date_df, triplets_columns=\"triplets\", date_column=\"timestamp\"):\n",
    "  triplets = res_df[triplets_columns].values.tolist()\n",
    "  dates = date_df[date_column].values.tolist()\n",
    "  all_triplets = []\n",
    "  for i, label in enumerate(triplets):\n",
    "      all_triplets.extend([list(item) + [dates[i]] for item in eval(label)])\n",
    "\n",
    "  data = []\n",
    "  for triplet in all_triplets:\n",
    "      at, ot, sp, ts = triplet\n",
    "      at = at.lower()\n",
    "      ot = ot.lower()\n",
    "      data.append([ts, at, ot, sp, (at, ot, sp), (at, ot)])\n",
    "  data = pd.DataFrame(data)\n",
    "  data.columns = ['date', 'aspect', 'opinion', 'sentiment', 'triplet', 'aspect_opinion']\n",
    "\n",
    "  data[\"timestamp\"] = data[\"date\"].apply(lambda x: datetime.datetime.fromisoformat(x).timestamp())\n",
    "\n",
    "  return data"
   ]
  },
  {
   "cell_type": "code",
   "execution_count": 4,
   "id": "32275180-188f-4255-a5a2-2ee0af93e9b4",
   "metadata": {
    "tags": []
   },
   "outputs": [],
   "source": [
    "reviews = pd.read_csv(\"./data/results_triplets_sravni.csv\")\n",
    "time = pd.read_csv(\"./data/reviews_sravni.csv\")"
   ]
  },
  {
   "cell_type": "code",
   "execution_count": 5,
   "id": "2255ca5d-731f-4377-b42e-8dc30bd9776b",
   "metadata": {
    "tags": []
   },
   "outputs": [],
   "source": [
    "result = preprocess_triplets(reviews, time, \"pred_text\", \"date\")"
   ]
  },
  {
   "cell_type": "code",
   "execution_count": 10,
   "id": "2cc3b7fc-4ca2-4622-a250-500bea9b2c68",
   "metadata": {
    "tags": []
   },
   "outputs": [
    {
     "data": {
      "text/plain": [
       "aspect\n",
       "карта         176\n",
       "сотрудники    172\n",
       "банку         164\n",
       "решение       152\n",
       "менеджеру     143\n",
       "отношение     128\n",
       "работа        117\n",
       "кэшбэк        110\n",
       "сервис        102\n",
       "сотруднику    101\n",
       "dtype: int64"
      ]
     },
     "execution_count": 10,
     "metadata": {},
     "output_type": "execute_result"
    }
   ],
   "source": [
    "result.groupby(\"aspect\").size().sort_values(ascending=False)[5:15]"
   ]
  },
  {
   "cell_type": "code",
   "execution_count": 7,
   "id": "258c482b-ec52-44c5-a74b-ed2652dbd19d",
   "metadata": {
    "tags": []
   },
   "outputs": [],
   "source": [
    "# сюда вставить аспект\n",
    "\n",
    "def aspect_sentiment_bytime(data, aspect):\n",
    "  aspect_data = data.groupby(\"aspect\").get_group(aspect).sort_values(\"timestamp\")\n",
    "\n",
    "  def count_pos_neg(group):\n",
    "    sent_dict = {\"count_pos\" : 0, \"count_neg\" : 0}\n",
    "    for item in group:\n",
    "      if item == \"POS\": sent_dict[\"count_pos\"] += 1\n",
    "      else: sent_dict[\"count_neg\"] += 1\n",
    "    return sent_dict\n",
    "  counted_sentiment = aspect_data.groupby(\"date\")[[\"sentiment\"]].agg(count_pos_neg).reset_index(names=[\"date\"])\n",
    "\n",
    "  count_pos = 1; count_neg = 1;\n",
    "  ratio = []\n",
    "  for i, item in counted_sentiment.iterrows():\n",
    "    count_pos += item[\"sentiment\"][\"count_pos\"]\n",
    "    count_neg += item[\"sentiment\"][\"count_neg\"]\n",
    "    ratio.append(100 * count_pos / (count_neg + count_pos))\n",
    "\n",
    "  smoothing_k = 1\n",
    "  data_ratio = counted_sentiment[[\"date\"]].iloc[::smoothing_k]\n",
    "  data_ratio[\"Доля положительных\"] = ratio[::smoothing_k]\n",
    "\n",
    "\n",
    "  fig = px.line(data_ratio, x=\"date\", y=\"Доля положительных\")\n",
    "  fig.update_yaxes(range=[min(ratio)-1, max(ratio)+1], autorange=False)\n",
    "  fig.update_layout(\n",
    "    title=f'Зависимость доли положительных триплетов, Аспект - \"{aspect}\"',\n",
    "    xaxis_title='Дата',\n",
    "    yaxis_title='Доля положительных триплетов',\n",
    "    )\n",
    "  # fig.update_layout(scattermode=\"group\")\n",
    "  fig.show()\n",
    "    \n",
    "  return pd.concat([pd.Series(sorted(aspect_data[\"timestamp\"].unique())), data_ratio[\"Доля положительных\"].reset_index(drop=True)], axis=1)"
   ]
  },
  {
   "cell_type": "code",
   "execution_count": 12,
   "id": "3fa50d4f-b1da-4ece-9f4d-7c3055dce628",
   "metadata": {
    "tags": []
   },
   "outputs": [
    {
     "data": {
      "application/vnd.plotly.v1+json": {
       "config": {
        "plotlyServerURL": "https://plot.ly"
       },
       "data": [
        {
         "hovertemplate": "date=%{x}<br>Доля положительных=%{y}<extra></extra>",
         "legendgroup": "",
         "line": {
          "color": "#636efa",
          "dash": "solid"
         },
         "marker": {
          "symbol": "circle"
         },
         "mode": "lines",
         "name": "",
         "orientation": "v",
         "showlegend": false,
         "type": "scatter",
         "x": [
          "2022-02-11T18:29:34.37856Z",
          "2022-03-13T14:01:40.632001Z",
          "2022-03-17T10:20:32.806282Z",
          "2022-03-17T10:50:01.662145Z",
          "2022-03-17T14:39:34.454476Z",
          "2022-03-17T14:44:37.811575Z",
          "2022-03-18T06:26:41.238935Z",
          "2022-03-21T12:26:36.948987Z",
          "2022-04-03T13:47:36.567209Z",
          "2022-04-07T15:24:43.086662Z",
          "2022-04-15T19:16:15.059804Z",
          "2022-05-13T17:11:36.91661Z",
          "2022-05-26T20:33:25.794408Z",
          "2022-06-03T04:24:48.510597Z",
          "2022-06-07T15:47:45.544987Z",
          "2022-08-27T15:42:09.8797Z",
          "2022-08-30T13:57:28.668142Z",
          "2022-09-25T12:07:40.452023Z",
          "2022-10-01T11:31:57.416806Z",
          "2022-10-06T15:57:53.596784Z",
          "2022-10-06T16:03:14.914503Z",
          "2022-10-08T12:54:09.041907Z",
          "2022-10-08T17:53:31.206924Z",
          "2022-10-12T11:47:41.842461Z",
          "2022-10-12T13:39:52.856782Z",
          "2022-10-13T13:12:41.635515Z",
          "2022-10-14T13:10:10.421325Z",
          "2022-10-14T14:37:13.236589Z",
          "2022-10-18T03:15:49.36719Z",
          "2022-10-18T13:28:21.860086Z",
          "2022-10-18T13:34:25.34019Z",
          "2022-10-19T14:42:43.859014Z",
          "2022-10-19T16:59:27.276255Z",
          "2022-10-20T12:48:27.277174Z",
          "2022-10-20T13:17:19.32382Z",
          "2022-10-22T14:22:21.246484Z",
          "2022-10-25T15:02:05.17022Z",
          "2022-10-26T14:08:37.197836Z",
          "2022-10-26T17:17:46.025788Z",
          "2022-10-27T14:19:32.35107Z",
          "2022-10-28T14:25:14.732551Z",
          "2022-10-29T04:12:41.419013Z",
          "2022-10-31T14:30:12.953053Z",
          "2022-10-31T14:58:21.019928Z",
          "2022-10-31T16:30:27.156098Z",
          "2022-11-01T05:07:16.501361Z",
          "2022-11-01T07:56:24.981793Z",
          "2022-11-02T14:35:33.074554Z",
          "2022-11-02T14:50:26.279261Z",
          "2022-11-02T23:49:49.149947Z",
          "2022-11-03T08:08:31.902203Z",
          "2022-11-03T14:06:22.636165Z",
          "2022-11-03T14:18:24.691081Z",
          "2022-11-04T14:38:14.713123Z",
          "2022-11-04T21:43:37.23271Z",
          "2022-11-05T14:59:40.111677Z",
          "2022-11-05T17:02:48.742943Z",
          "2022-11-06T08:58:45.166062Z",
          "2022-11-06T14:07:01.800734Z",
          "2022-11-06T14:16:55.884259Z",
          "2022-11-06T14:57:54.115853Z",
          "2022-11-06T16:51:41.50674Z",
          "2022-11-06T16:54:45.76323Z",
          "2022-11-06T19:40:13.774596Z",
          "2022-11-06T20:21:49.058994Z",
          "2022-11-07T14:25:20.973071Z",
          "2022-11-08T00:56:45.389837Z",
          "2022-11-09T00:29:44.924377Z",
          "2022-11-09T01:44:36.047409Z",
          "2022-11-09T15:27:54.262974Z",
          "2022-11-09T16:14:13.229307Z",
          "2022-11-10T08:23:00.164276Z",
          "2022-11-12T08:27:56.217341Z",
          "2022-11-13T13:01:24.403056Z",
          "2022-11-13T15:23:41.650143Z",
          "2022-11-14T14:15:46.148072Z",
          "2022-11-14T16:41:33.338117Z",
          "2022-11-14T16:58:51.385989Z",
          "2022-11-14T17:25:45.20748Z",
          "2022-11-15T09:01:07.008455Z",
          "2022-11-15T11:48:23.671401Z",
          "2022-11-15T14:21:38.402515Z",
          "2022-11-17T14:32:22.794388Z",
          "2022-11-17T15:34:16.663144Z",
          "2022-11-17T17:24:05.845722Z",
          "2022-11-18T12:02:17.419036Z",
          "2022-11-18T14:09:35.940845Z",
          "2022-12-06T06:55:13.503414Z",
          "2023-01-08T15:21:08.085931Z",
          "2023-02-08T20:46:09.86223Z",
          "2023-02-20T10:20:30.160163Z",
          "2023-04-02T10:22:04.999727Z",
          "2023-04-13T11:13:47.188391Z",
          "2023-05-29T20:12:22.196641Z",
          "2023-05-31T13:50:56.259159Z",
          "2023-06-02T11:25:14.864747Z",
          "2023-06-03T08:41:20.521854Z",
          "2023-06-26T12:04:34.70546Z",
          "2023-07-12T16:07:19.529537Z",
          "2023-07-16T11:08:07.44033Z",
          "2023-09-24T20:45:23.911421Z",
          "2023-10-18T20:03:43.306336Z",
          "2023-10-29T10:13:55.205813Z"
         ],
         "xaxis": "x",
         "y": [
          66.66666666666667,
          75,
          80,
          83.33333333333333,
          85.71428571428571,
          87.5,
          90,
          90.9090909090909,
          91.66666666666667,
          92.3076923076923,
          92.85714285714286,
          93.33333333333333,
          94.11764705882354,
          94.44444444444444,
          94.73684210526316,
          95,
          95.23809523809524,
          95.45454545454545,
          95.65217391304348,
          95.83333333333333,
          96,
          96.15384615384616,
          96.29629629629629,
          96.42857142857143,
          96.55172413793103,
          96.66666666666667,
          96.7741935483871,
          96.875,
          96.96969696969697,
          97.05882352941177,
          97.14285714285714,
          97.22222222222223,
          97.29729729729729,
          97.36842105263158,
          97.43589743589743,
          97.5,
          97.5609756097561,
          97.61904761904762,
          97.72727272727273,
          97.77777777777777,
          97.82608695652173,
          97.87234042553192,
          97.91666666666667,
          97.95918367346938,
          98.03921568627452,
          98.07692307692308,
          98.11320754716981,
          98.14814814814815,
          98.18181818181819,
          98.21428571428571,
          98.24561403508773,
          98.30508474576271,
          98.33333333333333,
          98.36065573770492,
          98.38709677419355,
          98.41269841269842,
          98.4375,
          98.48484848484848,
          98.50746268656717,
          98.52941176470588,
          98.55072463768116,
          98.57142857142857,
          98.59154929577464,
          98.61111111111111,
          98.63013698630137,
          98.64864864864865,
          98.66666666666667,
          98.6842105263158,
          98.7012987012987,
          98.71794871794872,
          98.73417721518987,
          98.75,
          98.76543209876543,
          98.78048780487805,
          98.79518072289157,
          98.80952380952381,
          98.82352941176471,
          98.83720930232558,
          98.85057471264368,
          98.86363636363636,
          98.87640449438203,
          98.88888888888889,
          98.9010989010989,
          98.91304347826087,
          98.9247311827957,
          98.93617021276596,
          98.94736842105263,
          98.95833333333333,
          98.9795918367347,
          98.98989898989899,
          99,
          99.00990099009901,
          99.01960784313725,
          99.02912621359224,
          99.03846153846153,
          99.04761904761905,
          99.05660377358491,
          99.06542056074767,
          99.07407407407408,
          99.08256880733946,
          99.0909090909091,
          99.09909909909909,
          99.10714285714286
         ],
         "yaxis": "y"
        }
       ],
       "layout": {
        "autosize": true,
        "legend": {
         "tracegroupgap": 0
        },
        "margin": {
         "t": 60
        },
        "template": {
         "data": {
          "bar": [
           {
            "error_x": {
             "color": "#2a3f5f"
            },
            "error_y": {
             "color": "#2a3f5f"
            },
            "marker": {
             "line": {
              "color": "#E5ECF6",
              "width": 0.5
             },
             "pattern": {
              "fillmode": "overlay",
              "size": 10,
              "solidity": 0.2
             }
            },
            "type": "bar"
           }
          ],
          "barpolar": [
           {
            "marker": {
             "line": {
              "color": "#E5ECF6",
              "width": 0.5
             },
             "pattern": {
              "fillmode": "overlay",
              "size": 10,
              "solidity": 0.2
             }
            },
            "type": "barpolar"
           }
          ],
          "carpet": [
           {
            "aaxis": {
             "endlinecolor": "#2a3f5f",
             "gridcolor": "white",
             "linecolor": "white",
             "minorgridcolor": "white",
             "startlinecolor": "#2a3f5f"
            },
            "baxis": {
             "endlinecolor": "#2a3f5f",
             "gridcolor": "white",
             "linecolor": "white",
             "minorgridcolor": "white",
             "startlinecolor": "#2a3f5f"
            },
            "type": "carpet"
           }
          ],
          "choropleth": [
           {
            "colorbar": {
             "outlinewidth": 0,
             "ticks": ""
            },
            "type": "choropleth"
           }
          ],
          "contour": [
           {
            "colorbar": {
             "outlinewidth": 0,
             "ticks": ""
            },
            "colorscale": [
             [
              0,
              "#0d0887"
             ],
             [
              0.1111111111111111,
              "#46039f"
             ],
             [
              0.2222222222222222,
              "#7201a8"
             ],
             [
              0.3333333333333333,
              "#9c179e"
             ],
             [
              0.4444444444444444,
              "#bd3786"
             ],
             [
              0.5555555555555556,
              "#d8576b"
             ],
             [
              0.6666666666666666,
              "#ed7953"
             ],
             [
              0.7777777777777778,
              "#fb9f3a"
             ],
             [
              0.8888888888888888,
              "#fdca26"
             ],
             [
              1,
              "#f0f921"
             ]
            ],
            "type": "contour"
           }
          ],
          "contourcarpet": [
           {
            "colorbar": {
             "outlinewidth": 0,
             "ticks": ""
            },
            "type": "contourcarpet"
           }
          ],
          "heatmap": [
           {
            "colorbar": {
             "outlinewidth": 0,
             "ticks": ""
            },
            "colorscale": [
             [
              0,
              "#0d0887"
             ],
             [
              0.1111111111111111,
              "#46039f"
             ],
             [
              0.2222222222222222,
              "#7201a8"
             ],
             [
              0.3333333333333333,
              "#9c179e"
             ],
             [
              0.4444444444444444,
              "#bd3786"
             ],
             [
              0.5555555555555556,
              "#d8576b"
             ],
             [
              0.6666666666666666,
              "#ed7953"
             ],
             [
              0.7777777777777778,
              "#fb9f3a"
             ],
             [
              0.8888888888888888,
              "#fdca26"
             ],
             [
              1,
              "#f0f921"
             ]
            ],
            "type": "heatmap"
           }
          ],
          "heatmapgl": [
           {
            "colorbar": {
             "outlinewidth": 0,
             "ticks": ""
            },
            "colorscale": [
             [
              0,
              "#0d0887"
             ],
             [
              0.1111111111111111,
              "#46039f"
             ],
             [
              0.2222222222222222,
              "#7201a8"
             ],
             [
              0.3333333333333333,
              "#9c179e"
             ],
             [
              0.4444444444444444,
              "#bd3786"
             ],
             [
              0.5555555555555556,
              "#d8576b"
             ],
             [
              0.6666666666666666,
              "#ed7953"
             ],
             [
              0.7777777777777778,
              "#fb9f3a"
             ],
             [
              0.8888888888888888,
              "#fdca26"
             ],
             [
              1,
              "#f0f921"
             ]
            ],
            "type": "heatmapgl"
           }
          ],
          "histogram": [
           {
            "marker": {
             "pattern": {
              "fillmode": "overlay",
              "size": 10,
              "solidity": 0.2
             }
            },
            "type": "histogram"
           }
          ],
          "histogram2d": [
           {
            "colorbar": {
             "outlinewidth": 0,
             "ticks": ""
            },
            "colorscale": [
             [
              0,
              "#0d0887"
             ],
             [
              0.1111111111111111,
              "#46039f"
             ],
             [
              0.2222222222222222,
              "#7201a8"
             ],
             [
              0.3333333333333333,
              "#9c179e"
             ],
             [
              0.4444444444444444,
              "#bd3786"
             ],
             [
              0.5555555555555556,
              "#d8576b"
             ],
             [
              0.6666666666666666,
              "#ed7953"
             ],
             [
              0.7777777777777778,
              "#fb9f3a"
             ],
             [
              0.8888888888888888,
              "#fdca26"
             ],
             [
              1,
              "#f0f921"
             ]
            ],
            "type": "histogram2d"
           }
          ],
          "histogram2dcontour": [
           {
            "colorbar": {
             "outlinewidth": 0,
             "ticks": ""
            },
            "colorscale": [
             [
              0,
              "#0d0887"
             ],
             [
              0.1111111111111111,
              "#46039f"
             ],
             [
              0.2222222222222222,
              "#7201a8"
             ],
             [
              0.3333333333333333,
              "#9c179e"
             ],
             [
              0.4444444444444444,
              "#bd3786"
             ],
             [
              0.5555555555555556,
              "#d8576b"
             ],
             [
              0.6666666666666666,
              "#ed7953"
             ],
             [
              0.7777777777777778,
              "#fb9f3a"
             ],
             [
              0.8888888888888888,
              "#fdca26"
             ],
             [
              1,
              "#f0f921"
             ]
            ],
            "type": "histogram2dcontour"
           }
          ],
          "mesh3d": [
           {
            "colorbar": {
             "outlinewidth": 0,
             "ticks": ""
            },
            "type": "mesh3d"
           }
          ],
          "parcoords": [
           {
            "line": {
             "colorbar": {
              "outlinewidth": 0,
              "ticks": ""
             }
            },
            "type": "parcoords"
           }
          ],
          "pie": [
           {
            "automargin": true,
            "type": "pie"
           }
          ],
          "scatter": [
           {
            "fillpattern": {
             "fillmode": "overlay",
             "size": 10,
             "solidity": 0.2
            },
            "type": "scatter"
           }
          ],
          "scatter3d": [
           {
            "line": {
             "colorbar": {
              "outlinewidth": 0,
              "ticks": ""
             }
            },
            "marker": {
             "colorbar": {
              "outlinewidth": 0,
              "ticks": ""
             }
            },
            "type": "scatter3d"
           }
          ],
          "scattercarpet": [
           {
            "marker": {
             "colorbar": {
              "outlinewidth": 0,
              "ticks": ""
             }
            },
            "type": "scattercarpet"
           }
          ],
          "scattergeo": [
           {
            "marker": {
             "colorbar": {
              "outlinewidth": 0,
              "ticks": ""
             }
            },
            "type": "scattergeo"
           }
          ],
          "scattergl": [
           {
            "marker": {
             "colorbar": {
              "outlinewidth": 0,
              "ticks": ""
             }
            },
            "type": "scattergl"
           }
          ],
          "scattermapbox": [
           {
            "marker": {
             "colorbar": {
              "outlinewidth": 0,
              "ticks": ""
             }
            },
            "type": "scattermapbox"
           }
          ],
          "scatterpolar": [
           {
            "marker": {
             "colorbar": {
              "outlinewidth": 0,
              "ticks": ""
             }
            },
            "type": "scatterpolar"
           }
          ],
          "scatterpolargl": [
           {
            "marker": {
             "colorbar": {
              "outlinewidth": 0,
              "ticks": ""
             }
            },
            "type": "scatterpolargl"
           }
          ],
          "scatterternary": [
           {
            "marker": {
             "colorbar": {
              "outlinewidth": 0,
              "ticks": ""
             }
            },
            "type": "scatterternary"
           }
          ],
          "surface": [
           {
            "colorbar": {
             "outlinewidth": 0,
             "ticks": ""
            },
            "colorscale": [
             [
              0,
              "#0d0887"
             ],
             [
              0.1111111111111111,
              "#46039f"
             ],
             [
              0.2222222222222222,
              "#7201a8"
             ],
             [
              0.3333333333333333,
              "#9c179e"
             ],
             [
              0.4444444444444444,
              "#bd3786"
             ],
             [
              0.5555555555555556,
              "#d8576b"
             ],
             [
              0.6666666666666666,
              "#ed7953"
             ],
             [
              0.7777777777777778,
              "#fb9f3a"
             ],
             [
              0.8888888888888888,
              "#fdca26"
             ],
             [
              1,
              "#f0f921"
             ]
            ],
            "type": "surface"
           }
          ],
          "table": [
           {
            "cells": {
             "fill": {
              "color": "#EBF0F8"
             },
             "line": {
              "color": "white"
             }
            },
            "header": {
             "fill": {
              "color": "#C8D4E3"
             },
             "line": {
              "color": "white"
             }
            },
            "type": "table"
           }
          ]
         },
         "layout": {
          "annotationdefaults": {
           "arrowcolor": "#2a3f5f",
           "arrowhead": 0,
           "arrowwidth": 1
          },
          "autotypenumbers": "strict",
          "coloraxis": {
           "colorbar": {
            "outlinewidth": 0,
            "ticks": ""
           }
          },
          "colorscale": {
           "diverging": [
            [
             0,
             "#8e0152"
            ],
            [
             0.1,
             "#c51b7d"
            ],
            [
             0.2,
             "#de77ae"
            ],
            [
             0.3,
             "#f1b6da"
            ],
            [
             0.4,
             "#fde0ef"
            ],
            [
             0.5,
             "#f7f7f7"
            ],
            [
             0.6,
             "#e6f5d0"
            ],
            [
             0.7,
             "#b8e186"
            ],
            [
             0.8,
             "#7fbc41"
            ],
            [
             0.9,
             "#4d9221"
            ],
            [
             1,
             "#276419"
            ]
           ],
           "sequential": [
            [
             0,
             "#0d0887"
            ],
            [
             0.1111111111111111,
             "#46039f"
            ],
            [
             0.2222222222222222,
             "#7201a8"
            ],
            [
             0.3333333333333333,
             "#9c179e"
            ],
            [
             0.4444444444444444,
             "#bd3786"
            ],
            [
             0.5555555555555556,
             "#d8576b"
            ],
            [
             0.6666666666666666,
             "#ed7953"
            ],
            [
             0.7777777777777778,
             "#fb9f3a"
            ],
            [
             0.8888888888888888,
             "#fdca26"
            ],
            [
             1,
             "#f0f921"
            ]
           ],
           "sequentialminus": [
            [
             0,
             "#0d0887"
            ],
            [
             0.1111111111111111,
             "#46039f"
            ],
            [
             0.2222222222222222,
             "#7201a8"
            ],
            [
             0.3333333333333333,
             "#9c179e"
            ],
            [
             0.4444444444444444,
             "#bd3786"
            ],
            [
             0.5555555555555556,
             "#d8576b"
            ],
            [
             0.6666666666666666,
             "#ed7953"
            ],
            [
             0.7777777777777778,
             "#fb9f3a"
            ],
            [
             0.8888888888888888,
             "#fdca26"
            ],
            [
             1,
             "#f0f921"
            ]
           ]
          },
          "colorway": [
           "#636efa",
           "#EF553B",
           "#00cc96",
           "#ab63fa",
           "#FFA15A",
           "#19d3f3",
           "#FF6692",
           "#B6E880",
           "#FF97FF",
           "#FECB52"
          ],
          "font": {
           "color": "#2a3f5f"
          },
          "geo": {
           "bgcolor": "white",
           "lakecolor": "white",
           "landcolor": "#E5ECF6",
           "showlakes": true,
           "showland": true,
           "subunitcolor": "white"
          },
          "hoverlabel": {
           "align": "left"
          },
          "hovermode": "closest",
          "mapbox": {
           "style": "light"
          },
          "paper_bgcolor": "white",
          "plot_bgcolor": "#E5ECF6",
          "polar": {
           "angularaxis": {
            "gridcolor": "white",
            "linecolor": "white",
            "ticks": ""
           },
           "bgcolor": "#E5ECF6",
           "radialaxis": {
            "gridcolor": "white",
            "linecolor": "white",
            "ticks": ""
           }
          },
          "scene": {
           "xaxis": {
            "backgroundcolor": "#E5ECF6",
            "gridcolor": "white",
            "gridwidth": 2,
            "linecolor": "white",
            "showbackground": true,
            "ticks": "",
            "zerolinecolor": "white"
           },
           "yaxis": {
            "backgroundcolor": "#E5ECF6",
            "gridcolor": "white",
            "gridwidth": 2,
            "linecolor": "white",
            "showbackground": true,
            "ticks": "",
            "zerolinecolor": "white"
           },
           "zaxis": {
            "backgroundcolor": "#E5ECF6",
            "gridcolor": "white",
            "gridwidth": 2,
            "linecolor": "white",
            "showbackground": true,
            "ticks": "",
            "zerolinecolor": "white"
           }
          },
          "shapedefaults": {
           "line": {
            "color": "#2a3f5f"
           }
          },
          "ternary": {
           "aaxis": {
            "gridcolor": "white",
            "linecolor": "white",
            "ticks": ""
           },
           "baxis": {
            "gridcolor": "white",
            "linecolor": "white",
            "ticks": ""
           },
           "bgcolor": "#E5ECF6",
           "caxis": {
            "gridcolor": "white",
            "linecolor": "white",
            "ticks": ""
           }
          },
          "title": {
           "x": 0.05
          },
          "xaxis": {
           "automargin": true,
           "gridcolor": "white",
           "linecolor": "white",
           "ticks": "",
           "title": {
            "standoff": 15
           },
           "zerolinecolor": "white",
           "zerolinewidth": 2
          },
          "yaxis": {
           "automargin": true,
           "gridcolor": "white",
           "linecolor": "white",
           "ticks": "",
           "title": {
            "standoff": 15
           },
           "zerolinecolor": "white",
           "zerolinewidth": 2
          }
         }
        },
        "title": {
         "text": "Зависимость доли положительных триплетов, Аспект - \"кэшбэк\""
        },
        "xaxis": {
         "anchor": "y",
         "autorange": true,
         "domain": [
          0,
          1
         ],
         "range": [
          "2022-02-11 18:29:34.3786",
          "2023-10-29 10:13:55.2058"
         ],
         "title": {
          "text": "Дата"
         },
         "type": "date"
        },
        "yaxis": {
         "anchor": "x",
         "autorange": false,
         "domain": [
          0,
          1
         ],
         "range": [
          65.66666666666667,
          100.10714285714286
         ],
         "title": {
          "text": "Доля положительных триплетов"
         },
         "type": "linear"
        }
       }
      },
      "image/png": "[encoded data removed]",
      "text/html": [
       "<div>                            <div id=\"af057dc4-b7cb-480a-844b-89819084ffbc\" class=\"plotly-graph-div\" style=\"height:525px; width:100%;\"></div>            <script type=\"text/javascript\">                require([\"plotly\"], function(Plotly) {                    window.PLOTLYENV=window.PLOTLYENV || {};                                    if (document.getElementById(\"af057dc4-b7cb-480a-844b-89819084ffbc\")) {                    Plotly.newPlot(                        \"af057dc4-b7cb-480a-844b-89819084ffbc\",                        [{\"hovertemplate\":\"date=%{x}<br>\\u0414\\u043e\\u043b\\u044f \\u043f\\u043e\\u043b\\u043e\\u0436\\u0438\\u0442\\u0435\\u043b\\u044c\\u043d\\u044b\\u0445=%{y}<extra></extra>\",\"legendgroup\":\"\",\"line\":{\"color\":\"#636efa\",\"dash\":\"solid\"},\"marker\":{\"symbol\":\"circle\"},\"mode\":\"lines\",\"name\":\"\",\"orientation\":\"v\",\"showlegend\":false,\"x\":[\"2022-02-11T18:29:34.37856Z\",\"2022-03-13T14:01:40.632001Z\",\"2022-03-17T10:20:32.806282Z\",\"2022-03-17T10:50:01.662145Z\",\"2022-03-17T14:39:34.454476Z\",\"2022-03-17T14:44:37.811575Z\",\"2022-03-18T06:26:41.238935Z\",\"2022-03-21T12:26:36.948987Z\",\"2022-04-03T13:47:36.567209Z\",\"2022-04-07T15:24:43.086662Z\",\"2022-04-15T19:16:15.059804Z\",\"2022-05-13T17:11:36.91661Z\",\"2022-05-26T20:33:25.794408Z\",\"2022-06-03T04:24:48.510597Z\",\"2022-06-07T15:47:45.544987Z\",\"2022-08-27T15:42:09.8797Z\",\"2022-08-30T13:57:28.668142Z\",\"2022-09-25T12:07:40.452023Z\",\"2022-10-01T11:31:57.416806Z\",\"2022-10-06T15:57:53.596784Z\",\"2022-10-06T16:03:14.914503Z\",\"2022-10-08T12:54:09.041907Z\",\"2022-10-08T17:53:31.206924Z\",\"2022-10-12T11:47:41.842461Z\",\"2022-10-12T13:39:52.856782Z\",\"2022-10-13T13:12:41.635515Z\",\"2022-10-14T13:10:10.421325Z\",\"2022-10-14T14:37:13.236589Z\",\"2022-10-18T03:15:49.36719Z\",\"2022-10-18T13:28:21.860086Z\",\"2022-10-18T13:34:25.34019Z\",\"2022-10-19T14:42:43.859014Z\",\"2022-10-19T16:59:27.276255Z\",\"2022-10-20T12:48:27.277174Z\",\"2022-10-20T13:17:19.32382Z\",\"2022-10-22T14:22:21.246484Z\",\"2022-10-25T15:02:05.17022Z\",\"2022-10-26T14:08:37.197836Z\",\"2022-10-26T17:17:46.025788Z\",\"2022-10-27T14:19:32.35107Z\",\"2022-10-28T14:25:14.732551Z\",\"2022-10-29T04:12:41.419013Z\",\"2022-10-31T14:30:12.953053Z\",\"2022-10-31T14:58:21.019928Z\",\"2022-10-31T16:30:27.156098Z\",\"2022-11-01T05:07:16.501361Z\",\"2022-11-01T07:56:24.981793Z\",\"2022-11-02T14:35:33.074554Z\",\"2022-11-02T14:50:26.279261Z\",\"2022-11-02T23:49:49.149947Z\",\"2022-11-03T08:08:31.902203Z\",\"2022-11-03T14:06:22.636165Z\",\"2022-11-03T14:18:24.691081Z\",\"2022-11-04T14:38:14.713123Z\",\"2022-11-04T21:43:37.23271Z\",\"2022-11-05T14:59:40.111677Z\",\"2022-11-05T17:02:48.742943Z\",\"2022-11-06T08:58:45.166062Z\",\"2022-11-06T14:07:01.800734Z\",\"2022-11-06T14:16:55.884259Z\",\"2022-11-06T14:57:54.115853Z\",\"2022-11-06T16:51:41.50674Z\",\"2022-11-06T16:54:45.76323Z\",\"2022-11-06T19:40:13.774596Z\",\"2022-11-06T20:21:49.058994Z\",\"2022-11-07T14:25:20.973071Z\",\"2022-11-08T00:56:45.389837Z\",\"2022-11-09T00:29:44.924377Z\",\"2022-11-09T01:44:36.047409Z\",\"2022-11-09T15:27:54.262974Z\",\"2022-11-09T16:14:13.229307Z\",\"2022-11-10T08:23:00.164276Z\",\"2022-11-12T08:27:56.217341Z\",\"2022-11-13T13:01:24.403056Z\",\"2022-11-13T15:23:41.650143Z\",\"2022-11-14T14:15:46.148072Z\",\"2022-11-14T16:41:33.338117Z\",\"2022-11-14T16:58:51.385989Z\",\"2022-11-14T17:25:45.20748Z\",\"2022-11-15T09:01:07.008455Z\",\"2022-11-15T11:48:23.671401Z\",\"2022-11-15T14:21:38.402515Z\",\"2022-11-17T14:32:22.794388Z\",\"2022-11-17T15:34:16.663144Z\",\"2022-11-17T17:24:05.845722Z\",\"2022-11-18T12:02:17.419036Z\",\"2022-11-18T14:09:35.940845Z\",\"2022-12-06T06:55:13.503414Z\",\"2023-01-08T15:21:08.085931Z\",\"2023-02-08T20:46:09.86223Z\",\"2023-02-20T10:20:30.160163Z\",\"2023-04-02T10:22:04.999727Z\",\"2023-04-13T11:13:47.188391Z\",\"2023-05-29T20:12:22.196641Z\",\"2023-05-31T13:50:56.259159Z\",\"2023-06-02T11:25:14.864747Z\",\"2023-06-03T08:41:20.521854Z\",\"2023-06-26T12:04:34.70546Z\",\"2023-07-12T16:07:19.529537Z\",\"2023-07-16T11:08:07.44033Z\",\"2023-09-24T20:45:23.911421Z\",\"2023-10-18T20:03:43.306336Z\",\"2023-10-29T10:13:55.205813Z\"],\"xaxis\":\"x\",\"y\":[66.66666666666667,75.0,80.0,83.33333333333333,85.71428571428571,87.5,90.0,90.9090909090909,91.66666666666667,92.3076923076923,92.85714285714286,93.33333333333333,94.11764705882354,94.44444444444444,94.73684210526316,95.0,95.23809523809524,95.45454545454545,95.65217391304348,95.83333333333333,96.0,96.15384615384616,96.29629629629629,96.42857142857143,96.55172413793103,96.66666666666667,96.7741935483871,96.875,96.96969696969697,97.05882352941177,97.14285714285714,97.22222222222223,97.29729729729729,97.36842105263158,97.43589743589743,97.5,97.5609756097561,97.61904761904762,97.72727272727273,97.77777777777777,97.82608695652173,97.87234042553192,97.91666666666667,97.95918367346938,98.03921568627452,98.07692307692308,98.11320754716981,98.14814814814815,98.18181818181819,98.21428571428571,98.24561403508773,98.30508474576271,98.33333333333333,98.36065573770492,98.38709677419355,98.41269841269842,98.4375,98.48484848484848,98.50746268656717,98.52941176470588,98.55072463768116,98.57142857142857,98.59154929577464,98.61111111111111,98.63013698630137,98.64864864864865,98.66666666666667,98.6842105263158,98.7012987012987,98.71794871794872,98.73417721518987,98.75,98.76543209876543,98.78048780487805,98.79518072289157,98.80952380952381,98.82352941176471,98.83720930232558,98.85057471264368,98.86363636363636,98.87640449438203,98.88888888888889,98.9010989010989,98.91304347826087,98.9247311827957,98.93617021276596,98.94736842105263,98.95833333333333,98.9795918367347,98.98989898989899,99.0,99.00990099009901,99.01960784313725,99.02912621359224,99.03846153846153,99.04761904761905,99.05660377358491,99.06542056074767,99.07407407407408,99.08256880733946,99.0909090909091,99.09909909909909,99.10714285714286],\"yaxis\":\"y\",\"type\":\"scatter\"}],                        {\"template\":{\"data\":{\"histogram2dcontour\":[{\"type\":\"histogram2dcontour\",\"colorbar\":{\"outlinewidth\":0,\"ticks\":\"\"},\"colorscale\":[[0.0,\"#0d0887\"],[0.1111111111111111,\"#46039f\"],[0.2222222222222222,\"#7201a8\"],[0.3333333333333333,\"#9c179e\"],[0.4444444444444444,\"#bd3786\"],[0.5555555555555556,\"#d8576b\"],[0.6666666666666666,\"#ed7953\"],[0.7777777777777778,\"#fb9f3a\"],[0.8888888888888888,\"#fdca26\"],[1.0,\"#f0f921\"]]}],\"choropleth\":[{\"type\":\"choropleth\",\"colorbar\":{\"outlinewidth\":0,\"ticks\":\"\"}}],\"histogram2d\":[{\"type\":\"histogram2d\",\"colorbar\":{\"outlinewidth\":0,\"ticks\":\"\"},\"colorscale\":[[0.0,\"#0d0887\"],[0.1111111111111111,\"#46039f\"],[0.2222222222222222,\"#7201a8\"],[0.3333333333333333,\"#9c179e\"],[0.4444444444444444,\"#bd3786\"],[0.5555555555555556,\"#d8576b\"],[0.6666666666666666,\"#ed7953\"],[0.7777777777777778,\"#fb9f3a\"],[0.8888888888888888,\"#fdca26\"],[1.0,\"#f0f921\"]]}],\"heatmap\":[{\"type\":\"heatmap\",\"colorbar\":{\"outlinewidth\":0,\"ticks\":\"\"},\"colorscale\":[[0.0,\"#0d0887\"],[0.1111111111111111,\"#46039f\"],[0.2222222222222222,\"#7201a8\"],[0.3333333333333333,\"#9c179e\"],[0.4444444444444444,\"#bd3786\"],[0.5555555555555556,\"#d8576b\"],[0.6666666666666666,\"#ed7953\"],[0.7777777777777778,\"#fb9f3a\"],[0.8888888888888888,\"#fdca26\"],[1.0,\"#f0f921\"]]}],\"heatmapgl\":[{\"type\":\"heatmapgl\",\"colorbar\":{\"outlinewidth\":0,\"ticks\":\"\"},\"colorscale\":[[0.0,\"#0d0887\"],[0.1111111111111111,\"#46039f\"],[0.2222222222222222,\"#7201a8\"],[0.3333333333333333,\"#9c179e\"],[0.4444444444444444,\"#bd3786\"],[0.5555555555555556,\"#d8576b\"],[0.6666666666666666,\"#ed7953\"],[0.7777777777777778,\"#fb9f3a\"],[0.8888888888888888,\"#fdca26\"],[1.0,\"#f0f921\"]]}],\"contourcarpet\":[{\"type\":\"contourcarpet\",\"colorbar\":{\"outlinewidth\":0,\"ticks\":\"\"}}],\"contour\":[{\"type\":\"contour\",\"colorbar\":{\"outlinewidth\":0,\"ticks\":\"\"},\"colorscale\":[[0.0,\"#0d0887\"],[0.1111111111111111,\"#46039f\"],[0.2222222222222222,\"#7201a8\"],[0.3333333333333333,\"#9c179e\"],[0.4444444444444444,\"#bd3786\"],[0.5555555555555556,\"#d8576b\"],[0.6666666666666666,\"#ed7953\"],[0.7777777777777778,\"#fb9f3a\"],[0.8888888888888888,\"#fdca26\"],[1.0,\"#f0f921\"]]}],\"surface\":[{\"type\":\"surface\",\"colorbar\":{\"outlinewidth\":0,\"ticks\":\"\"},\"colorscale\":[[0.0,\"#0d0887\"],[0.1111111111111111,\"#46039f\"],[0.2222222222222222,\"#7201a8\"],[0.3333333333333333,\"#9c179e\"],[0.4444444444444444,\"#bd3786\"],[0.5555555555555556,\"#d8576b\"],[0.6666666666666666,\"#ed7953\"],[0.7777777777777778,\"#fb9f3a\"],[0.8888888888888888,\"#fdca26\"],[1.0,\"#f0f921\"]]}],\"mesh3d\":[{\"type\":\"mesh3d\",\"colorbar\":{\"outlinewidth\":0,\"ticks\":\"\"}}],\"scatter\":[{\"fillpattern\":{\"fillmode\":\"overlay\",\"size\":10,\"solidity\":0.2},\"type\":\"scatter\"}],\"parcoords\":[{\"type\":\"parcoords\",\"line\":{\"colorbar\":{\"outlinewidth\":0,\"ticks\":\"\"}}}],\"scatterpolargl\":[{\"type\":\"scatterpolargl\",\"marker\":{\"colorbar\":{\"outlinewidth\":0,\"ticks\":\"\"}}}],\"bar\":[{\"error_x\":{\"color\":\"#2a3f5f\"},\"error_y\":{\"color\":\"#2a3f5f\"},\"marker\":{\"line\":{\"color\":\"#E5ECF6\",\"width\":0.5},\"pattern\":{\"fillmode\":\"overlay\",\"size\":10,\"solidity\":0.2}},\"type\":\"bar\"}],\"scattergeo\":[{\"type\":\"scattergeo\",\"marker\":{\"colorbar\":{\"outlinewidth\":0,\"ticks\":\"\"}}}],\"scatterpolar\":[{\"type\":\"scatterpolar\",\"marker\":{\"colorbar\":{\"outlinewidth\":0,\"ticks\":\"\"}}}],\"histogram\":[{\"marker\":{\"pattern\":{\"fillmode\":\"overlay\",\"size\":10,\"solidity\":0.2}},\"type\":\"histogram\"}],\"scattergl\":[{\"type\":\"scattergl\",\"marker\":{\"colorbar\":{\"outlinewidth\":0,\"ticks\":\"\"}}}],\"scatter3d\":[{\"type\":\"scatter3d\",\"line\":{\"colorbar\":{\"outlinewidth\":0,\"ticks\":\"\"}},\"marker\":{\"colorbar\":{\"outlinewidth\":0,\"ticks\":\"\"}}}],\"scattermapbox\":[{\"type\":\"scattermapbox\",\"marker\":{\"colorbar\":{\"outlinewidth\":0,\"ticks\":\"\"}}}],\"scatterternary\":[{\"type\":\"scatterternary\",\"marker\":{\"colorbar\":{\"outlinewidth\":0,\"ticks\":\"\"}}}],\"scattercarpet\":[{\"type\":\"scattercarpet\",\"marker\":{\"colorbar\":{\"outlinewidth\":0,\"ticks\":\"\"}}}],\"carpet\":[{\"aaxis\":{\"endlinecolor\":\"#2a3f5f\",\"gridcolor\":\"white\",\"linecolor\":\"white\",\"minorgridcolor\":\"white\",\"startlinecolor\":\"#2a3f5f\"},\"baxis\":{\"endlinecolor\":\"#2a3f5f\",\"gridcolor\":\"white\",\"linecolor\":\"white\",\"minorgridcolor\":\"white\",\"startlinecolor\":\"#2a3f5f\"},\"type\":\"carpet\"}],\"table\":[{\"cells\":{\"fill\":{\"color\":\"#EBF0F8\"},\"line\":{\"color\":\"white\"}},\"header\":{\"fill\":{\"color\":\"#C8D4E3\"},\"line\":{\"color\":\"white\"}},\"type\":\"table\"}],\"barpolar\":[{\"marker\":{\"line\":{\"color\":\"#E5ECF6\",\"width\":0.5},\"pattern\":{\"fillmode\":\"overlay\",\"size\":10,\"solidity\":0.2}},\"type\":\"barpolar\"}],\"pie\":[{\"automargin\":true,\"type\":\"pie\"}]},\"layout\":{\"autotypenumbers\":\"strict\",\"colorway\":[\"#636efa\",\"#EF553B\",\"#00cc96\",\"#ab63fa\",\"#FFA15A\",\"#19d3f3\",\"#FF6692\",\"#B6E880\",\"#FF97FF\",\"#FECB52\"],\"font\":{\"color\":\"#2a3f5f\"},\"hovermode\":\"closest\",\"hoverlabel\":{\"align\":\"left\"},\"paper_bgcolor\":\"white\",\"plot_bgcolor\":\"#E5ECF6\",\"polar\":{\"bgcolor\":\"#E5ECF6\",\"angularaxis\":{\"gridcolor\":\"white\",\"linecolor\":\"white\",\"ticks\":\"\"},\"radialaxis\":{\"gridcolor\":\"white\",\"linecolor\":\"white\",\"ticks\":\"\"}},\"ternary\":{\"bgcolor\":\"#E5ECF6\",\"aaxis\":{\"gridcolor\":\"white\",\"linecolor\":\"white\",\"ticks\":\"\"},\"baxis\":{\"gridcolor\":\"white\",\"linecolor\":\"white\",\"ticks\":\"\"},\"caxis\":{\"gridcolor\":\"white\",\"linecolor\":\"white\",\"ticks\":\"\"}},\"coloraxis\":{\"colorbar\":{\"outlinewidth\":0,\"ticks\":\"\"}},\"colorscale\":{\"sequential\":[[0.0,\"#0d0887\"],[0.1111111111111111,\"#46039f\"],[0.2222222222222222,\"#7201a8\"],[0.3333333333333333,\"#9c179e\"],[0.4444444444444444,\"#bd3786\"],[0.5555555555555556,\"#d8576b\"],[0.6666666666666666,\"#ed7953\"],[0.7777777777777778,\"#fb9f3a\"],[0.8888888888888888,\"#fdca26\"],[1.0,\"#f0f921\"]],\"sequentialminus\":[[0.0,\"#0d0887\"],[0.1111111111111111,\"#46039f\"],[0.2222222222222222,\"#7201a8\"],[0.3333333333333333,\"#9c179e\"],[0.4444444444444444,\"#bd3786\"],[0.5555555555555556,\"#d8576b\"],[0.6666666666666666,\"#ed7953\"],[0.7777777777777778,\"#fb9f3a\"],[0.8888888888888888,\"#fdca26\"],[1.0,\"#f0f921\"]],\"diverging\":[[0,\"#8e0152\"],[0.1,\"#c51b7d\"],[0.2,\"#de77ae\"],[0.3,\"#f1b6da\"],[0.4,\"#fde0ef\"],[0.5,\"#f7f7f7\"],[0.6,\"#e6f5d0\"],[0.7,\"#b8e186\"],[0.8,\"#7fbc41\"],[0.9,\"#4d9221\"],[1,\"#276419\"]]},\"xaxis\":{\"gridcolor\":\"white\",\"linecolor\":\"white\",\"ticks\":\"\",\"title\":{\"standoff\":15},\"zerolinecolor\":\"white\",\"automargin\":true,\"zerolinewidth\":2},\"yaxis\":{\"gridcolor\":\"white\",\"linecolor\":\"white\",\"ticks\":\"\",\"title\":{\"standoff\":15},\"zerolinecolor\":\"white\",\"automargin\":true,\"zerolinewidth\":2},\"scene\":{\"xaxis\":{\"backgroundcolor\":\"#E5ECF6\",\"gridcolor\":\"white\",\"linecolor\":\"white\",\"showbackground\":true,\"ticks\":\"\",\"zerolinecolor\":\"white\",\"gridwidth\":2},\"yaxis\":{\"backgroundcolor\":\"#E5ECF6\",\"gridcolor\":\"white\",\"linecolor\":\"white\",\"showbackground\":true,\"ticks\":\"\",\"zerolinecolor\":\"white\",\"gridwidth\":2},\"zaxis\":{\"backgroundcolor\":\"#E5ECF6\",\"gridcolor\":\"white\",\"linecolor\":\"white\",\"showbackground\":true,\"ticks\":\"\",\"zerolinecolor\":\"white\",\"gridwidth\":2}},\"shapedefaults\":{\"line\":{\"color\":\"#2a3f5f\"}},\"annotationdefaults\":{\"arrowcolor\":\"#2a3f5f\",\"arrowhead\":0,\"arrowwidth\":1},\"geo\":{\"bgcolor\":\"white\",\"landcolor\":\"#E5ECF6\",\"subunitcolor\":\"white\",\"showland\":true,\"showlakes\":true,\"lakecolor\":\"white\"},\"title\":{\"x\":0.05},\"mapbox\":{\"style\":\"light\"}}},\"xaxis\":{\"anchor\":\"y\",\"domain\":[0.0,1.0],\"title\":{\"text\":\"\\u0414\\u0430\\u0442\\u0430\"}},\"yaxis\":{\"anchor\":\"x\",\"domain\":[0.0,1.0],\"title\":{\"text\":\"\\u0414\\u043e\\u043b\\u044f \\u043f\\u043e\\u043b\\u043e\\u0436\\u0438\\u0442\\u0435\\u043b\\u044c\\u043d\\u044b\\u0445 \\u0442\\u0440\\u0438\\u043f\\u043b\\u0435\\u0442\\u043e\\u0432\"},\"range\":[65.66666666666667,100.10714285714286],\"autorange\":false},\"legend\":{\"tracegroupgap\":0},\"margin\":{\"t\":60},\"title\":{\"text\":\"\\u0417\\u0430\\u0432\\u0438\\u0441\\u0438\\u043c\\u043e\\u0441\\u0442\\u044c \\u0434\\u043e\\u043b\\u0438 \\u043f\\u043e\\u043b\\u043e\\u0436\\u0438\\u0442\\u0435\\u043b\\u044c\\u043d\\u044b\\u0445 \\u0442\\u0440\\u0438\\u043f\\u043b\\u0435\\u0442\\u043e\\u0432, \\u0410\\u0441\\u043f\\u0435\\u043a\\u0442 - \\\"\\u043a\\u044d\\u0448\\u0431\\u044d\\u043a\\\"\"}},                        {\"responsive\": true}                    ).then(function(){\n",
       "                            \n",
       "var gd = document.getElementById('af057dc4-b7cb-480a-844b-89819084ffbc');\n",
       "var x = new MutationObserver(function (mutations, observer) {{\n",
       "        var display = window.getComputedStyle(gd).display;\n",
       "        if (!display || display === 'none') {{\n",
       "            console.log([gd, 'removed!']);\n",
       "            Plotly.purge(gd);\n",
       "            observer.disconnect();\n",
       "        }}\n",
       "}});\n",
       "\n",
       "// Listen for the removal of the full notebook cells\n",
       "var notebookContainer = gd.closest('#notebook-container');\n",
       "if (notebookContainer) {{\n",
       "    x.observe(notebookContainer, {childList: true});\n",
       "}}\n",
       "\n",
       "// Listen for the clearing of the current output cell\n",
       "var outputEl = gd.closest('.output');\n",
       "if (outputEl) {{\n",
       "    x.observe(outputEl, {childList: true});\n",
       "}}\n",
       "\n",
       "                        })                };                });            </script>        </div>"
      ]
     },
     "metadata": {},
     "output_type": "display_data"
    }
   ],
   "source": [
    "ts_data = aspect_sentiment_bytime(result, \"кэшбэк\")"
   ]
  },
  {
   "cell_type": "code",
   "execution_count": 77,
   "id": "59ae8587-ae01-4695-93d1-92bfdc647b67",
   "metadata": {
    "tags": []
   },
   "outputs": [],
   "source": [
    "X = ts_data[\"Доля положительных\"].values\n",
    "train, test = X[:int(0.9 * len(X))], X[int(0.9 * len(X)):]"
   ]
  },
  {
   "cell_type": "code",
   "execution_count": null,
   "id": "517204ce-4aa8-447b-b670-a6728928332c",
   "metadata": {
    "tags": []
   },
   "outputs": [],
   "source": [
    "d = range(0, 3)\n",
    "p = q = range(3, 13)\n",
    "pdq = list(itertools.product(p, d, q))\n",
    "s = [8]\n",
    "pdqs = [(x[0], x[1], x[2], x[3]) for x in list(itertools.product(p, d, q, s))]\n",
    "\n",
    "def objective_sarima(trial):\n",
    "    order=trial.suggest_categorical('order', pdq)\n",
    "    seasonal_order=trial.suggest_categorical('seasonal_order',pdqs)\n",
    "    trend=trial.suggest_categorical('trend',['n','c','t','ct',None])\n",
    "    print(\"parameters selected\")\n",
    "    try:\n",
    "      model = SARIMAX(train, order=order, seasonal_order=seasonal_order,trend=trend,initialization='approximate_diffuse')\n",
    "      mdl = model.fit(disp=0)\n",
    "      print(\"model trained, starting forecasting...\")\n",
    "      predictions = mdl.forecast(len(test))\n",
    "      print(\"forecating done!\")\n",
    "      predictions = np.array(predictions).reshape(-1, 1)\n",
    "      # mape = mean_absolute_percentage_error(test, predictions)\n",
    "      r2 = r2_score(test, predictions)\n",
    "      # accuracy = (r2 + (1- mape)) / 2\n",
    "      # print(mape, r2)\n",
    "      return r2\n",
    "    except:\n",
    "      print(\"incorrect params\")\n",
    "      return -100\n",
    "study=optuna.create_study(direction=\"maximize\")\n",
    "study.optimize(objective_sarima, n_trials=50, show_progress_bar=True)"
   ]
  },
  {
   "cell_type": "code",
   "execution_count": 86,
   "id": "23d90535-7a1c-4971-9bac-3e7746ad780a",
   "metadata": {
    "tags": []
   },
   "outputs": [],
   "source": [
    "best_params = study.best_trial.params"
   ]
  },
  {
   "cell_type": "code",
   "execution_count": 93,
   "id": "d83207cd-0234-4a79-b39e-2fe6e34ad3d6",
   "metadata": {
    "tags": []
   },
   "outputs": [
    {
     "name": "stdout",
     "output_type": "stream",
     "text": [
      "model trained, starting forecasting...\n",
      "forecating done!\n"
     ]
    }
   ],
   "source": [
    "model=SARIMAX(train,  order= best_params[\"order\"], seasonal_order= best_params[\"seasonal_order\"], trend= best_params[\"trend\"], initialization='approximate_diffuse')\n",
    "mdl = model.fit(disp=0)\n",
    "print(\"model trained, starting forecasting...\")\n",
    "predictions = mdl.forecast(10)\n",
    "print(\"forecating done!\")\n",
    "# predictions = np.array(predictions)"
   ]
  },
  {
   "cell_type": "code",
   "execution_count": 127,
   "id": "53a9871b-c6df-405f-b6c6-35055cf62e6a",
   "metadata": {
    "tags": []
   },
   "outputs": [],
   "source": [
    "def plot_arimo_results(best_params, ts_data, aspect, num=10):\n",
    "    model=SARIMAX(train,  order= best_params[\"order\"], seasonal_order= best_params[\"seasonal_order\"], trend= best_params[\"trend\"], initialization='approximate_diffuse')\n",
    "    mdl = model.fit(disp=0)\n",
    "    print(\"model trained, starting forecasting...\")\n",
    "    predictions = mdl.forecast(num)\n",
    "    print(\"forecating done!\")\n",
    "    diff_mean = np.diff(ts_data[0]).mean()\n",
    "    def gen_ts(start, diff_mean, num):\n",
    "        result = [start]\n",
    "        for i in range(num): result.append(result[-1] + diff_mean)\n",
    "        return result[1:]\n",
    "    next_ts = gen_ts(ts_data.iloc[len(ts_data) - 1, 0],  diff_mean, num)\n",
    "    ratios = X.tolist() + list(predictions)\n",
    "    fig = px.line(y=ratios, x=[datetime.datetime.fromtimestamp(i).__str__() for i in ts_data[0].tolist()+next_ts])\n",
    "    fig.update_yaxes(range=[min(ratios)-1, max(ratios)+1], autorange=False)\n",
    "    fig.update_layout(\n",
    "        title=f'Аспект - \"{aspect}\", предсказания на {int(diff_mean // 3600 // 24 * num)} дней вперёд',\n",
    "        xaxis_title='Дата',\n",
    "        yaxis_title='Доля положительных триплетов',\n",
    "    )\n",
    "    # fig.update_layout(scattermode=\"group\")\n",
    "    fig.show()"
   ]
  },
  {
   "cell_type": "code",
   "execution_count": 128,
   "id": "bdddfb75-d4ea-4573-a6b7-1d8489f7351c",
   "metadata": {
    "tags": []
   },
   "outputs": [
    {
     "name": "stdout",
     "output_type": "stream",
     "text": [
      "model trained, starting forecasting...\n",
      "forecating done!\n"
     ]
    },
    {
     "data": {
      "application/vnd.plotly.v1+json": {
       "config": {
        "plotlyServerURL": "https://plot.ly"
       },
       "data": [
        {
         "hovertemplate": "x=%{x}<br>y=%{y}<extra></extra>",
         "legendgroup": "",
         "line": {
          "color": "#636efa",
          "dash": "solid"
         },
         "marker": {
          "symbol": "circle"
         },
         "mode": "lines",
         "name": "",
         "orientation": "v",
         "showlegend": false,
         "type": "scatter",
         "x": [
          "2022-02-09 19:37:29.713791",
          "2022-02-11 19:23:27.504596",
          "2022-02-17 12:49:31.876096",
          "2022-02-22 07:01:53.689668",
          "2022-02-22 13:26:23.034652",
          "2022-03-03 07:20:16.614603",
          "2022-03-03 19:34:27.208931",
          "2022-03-05 15:19:34.467077",
          "2022-03-07 17:54:08.804473",
          "2022-03-09 13:40:50.035467",
          "2022-03-09 21:19:47.696458",
          "2022-03-10 14:27:03.433078",
          "2022-03-10 16:27:52.610934",
          "2022-03-11 18:23:22.013499",
          "2022-03-13 20:43:20.984685",
          "2022-03-14 12:31:01.181142",
          "2022-03-15 17:56:06.039813",
          "2022-03-17 12:40:53.738605",
          "2022-03-17 17:49:10.048699",
          "2022-03-17 19:26:56.948848",
          "2022-03-17 21:08:14.994478",
          "2022-03-18 09:47:10.359849",
          "2022-03-18 14:03:21.541754",
          "2022-03-18 16:34:03.836152",
          "2022-03-20 16:38:02.709286",
          "2022-03-21 09:11:59.574414",
          "2022-03-22 11:36:08.406705",
          "2022-03-24 13:18:01.824725",
          "2022-03-25 10:06:54.377568",
          "2022-04-02 01:06:26.561888",
          "2022-04-03 13:22:02.017360",
          "2022-04-10 20:18:45.648943",
          "2022-04-11 14:07:13.289782",
          "2022-04-11 19:31:56.628309",
          "2022-04-13 05:33:11.813063",
          "2022-04-13 15:12:49.337084",
          "2022-04-13 16:49:00.484886",
          "2022-04-15 19:00:13.874437",
          "2022-04-16 03:30:03.730145",
          "2022-04-16 18:32:58.868184",
          "2022-04-23 11:17:56.499211",
          "2022-04-26 16:36:01.601041",
          "2022-04-29 17:46:15.316858",
          "2022-04-30 19:21:36.062747",
          "2022-04-30 19:55:39.094602",
          "2022-05-04 20:46:36.165486",
          "2022-05-05 05:10:29.908262",
          "2022-05-08 16:18:39.256582",
          "2022-05-08 16:41:03.848121",
          "2022-05-09 23:57:54.537165",
          "2022-05-10 09:45:21.193670",
          "2022-05-12 20:42:43.569844",
          "2022-05-15 13:23:01.537844",
          "2022-05-18 09:32:49.514671",
          "2022-05-23 16:02:55.444562",
          "2022-05-25 17:14:21.840784",
          "2022-05-26 11:53:07.144359",
          "2022-05-27 10:33:34.016189",
          "2022-05-31 12:57:42.971649",
          "2022-05-31 17:10:13.589575",
          "2022-06-03 17:14:20.968504",
          "2022-06-04 15:37:24.688761",
          "2022-06-17 14:32:55.435678",
          "2022-06-18 06:48:22.652517",
          "2022-06-18 07:25:27.251354",
          "2022-06-21 05:02:14.914070",
          "2022-06-21 07:49:29.048114",
          "2022-06-22 12:45:12.853933",
          "2022-06-24 02:14:39.513679",
          "2022-06-27 19:33:05.931902",
          "2022-07-01 08:47:42.146984",
          "2022-07-13 15:50:58.872878",
          "2022-07-15 22:45:43.574958",
          "2022-07-18 22:27:07.740659",
          "2022-08-12 17:18:12.092903",
          "2022-08-26 15:44:50.020885",
          "2022-09-13 15:13:50.763269",
          "2022-09-18 18:23:53.272800",
          "2022-09-21 18:47:49.095716",
          "2022-10-01 14:57:36.462518",
          "2022-10-07 16:36:32.123282",
          "2022-10-07 23:53:09.155458",
          "2022-10-16 16:30:31.653913",
          "2022-10-20 22:46:25.260433",
          "2022-10-25 19:19:49.482891",
          "2022-10-25 20:33:14.944154",
          "2022-10-29 17:16:44.269690",
          "2022-10-29 17:20:44.894811",
          "2022-10-29 17:34:36.623750",
          "2022-10-30 17:45:54.900117",
          "2022-11-07 14:15:27.823493",
          "2022-11-07 19:46:34.010035",
          "2022-11-09 00:16:03.561390",
          "2022-11-09 18:23:18.707900",
          "2022-11-09 23:33:40.451682",
          "2022-11-15 09:15:47.964682",
          "2022-11-16 04:06:38.070693",
          "2022-11-16 17:12:40.145044",
          "2022-11-17 21:13:52.263879",
          "2022-11-18 17:18:34.912169",
          "2022-12-09 01:07:36.632814",
          "2022-12-26 21:50:50.339159",
          "2023-01-12 15:45:29.918754",
          "2023-01-23 09:08:19.613582",
          "2023-02-08 11:09:27.031564",
          "2023-02-09 19:19:55.429586",
          "2023-02-14 08:02:10.101441",
          "2023-02-20 21:39:21.312290",
          "2023-03-25 10:15:18.811278",
          "2023-03-25 11:41:39.272162",
          "2023-03-30 19:06:18.751016",
          "2023-04-03 12:02:56.357516",
          "2023-04-06 15:59:31.370041",
          "2023-04-10 23:34:14.944461",
          "2023-04-19 00:07:31.300265",
          "2023-05-04 20:38:00.177648",
          "2023-05-19 23:38:26.611061",
          "2023-05-22 12:59:21.521352",
          "2023-05-23 10:44:10.088394",
          "2023-05-23 12:31:05.702213",
          "2023-05-25 16:47:33.312982",
          "2023-06-08 10:43:05.850374",
          "2023-06-11 13:59:10.446175",
          "2023-06-20 14:29:05.080100",
          "2023-07-05 13:43:58.981654",
          "2023-07-15 00:20:09.715741",
          "2023-07-15 08:03:47.894177",
          "2023-08-04 11:21:46.599984",
          "2023-08-17 19:07:10.690705",
          "2023-08-22 19:18:14.758045",
          "2023-08-30 15:39:10.156190",
          "2023-09-07 14:32:45.340441",
          "2023-09-07 16:56:09.835741",
          "2023-09-09 10:50:17.390742",
          "2023-09-16 15:41:59.787722",
          "2023-09-21 07:38:56.694439",
          "2023-10-01 00:17:55.223171",
          "2023-10-12 18:50:02.154452",
          "2023-10-15 14:29:12.842614",
          "2023-11-01 10:37:01.339117",
          "2023-11-16 22:24:50.548173",
          "2023-12-06 16:01:45.687925",
          "2023-12-14 11:46:52.826638",
          "2024-01-13 17:24:28.410823",
          "2024-01-18 15:22:42.247865",
          "2024-01-23 13:20:56.084907",
          "2024-01-28 11:19:09.921949",
          "2024-02-02 09:17:23.758991",
          "2024-02-07 07:15:37.596034",
          "2024-02-12 05:13:51.433076",
          "2024-02-17 03:12:05.270118"
         ],
         "xaxis": "x",
         "y": [
          75,
          80,
          83.33333333333333,
          85.71428571428571,
          87.5,
          88.88888888888889,
          90,
          90.9090909090909,
          91.66666666666667,
          92.3076923076923,
          85.71428571428571,
          87.5,
          88.23529411764706,
          88.88888888888889,
          89.47368421052632,
          90,
          90.47619047619048,
          90.9090909090909,
          91.30434782608695,
          91.66666666666667,
          92,
          92.3076923076923,
          92.5925925925926,
          92.85714285714286,
          93.10344827586206,
          93.33333333333333,
          93.54838709677419,
          93.75,
          93.93939393939394,
          94.11764705882354,
          94.28571428571429,
          94.44444444444444,
          89.47368421052632,
          89.74358974358974,
          90,
          90.47619047619048,
          90.69767441860465,
          90.9090909090909,
          91.11111111111111,
          91.48936170212765,
          91.66666666666667,
          91.83673469387755,
          92,
          92.15686274509804,
          92.45283018867924,
          92.5925925925926,
          92.72727272727273,
          89.47368421052632,
          89.83050847457628,
          90,
          90.1639344262295,
          90.3225806451613,
          90.47619047619048,
          90.625,
          90.9090909090909,
          91.04477611940298,
          91.42857142857143,
          91.54929577464789,
          91.78082191780823,
          91.89189189189189,
          92,
          92.10526315789474,
          92.3076923076923,
          92.40506329113924,
          92.5,
          92.5925925925926,
          92.6829268292683,
          92.7710843373494,
          91.66666666666667,
          91.76470588235294,
          91.86046511627907,
          92.04545454545455,
          91.01123595505618,
          91.11111111111111,
          91.39784946236558,
          90.42553191489361,
          90.52631578947368,
          90.625,
          90.72164948453609,
          90.9090909090909,
          91,
          91.08910891089108,
          91.2621359223301,
          91.42857142857143,
          91.50943396226415,
          91.58878504672897,
          91.66666666666667,
          91.74311926605505,
          91.89189189189189,
          91.96428571428571,
          92.03539823008849,
          92.10526315789474,
          92.17391304347827,
          92.24137931034483,
          92.37288135593221,
          92.43697478991596,
          92.56198347107438,
          92.62295081967213,
          92.6829268292683,
          92.74193548387096,
          92.85714285714286,
          92.96875,
          93.02325581395348,
          93.07692307692308,
          93.12977099236642,
          93.18181818181819,
          93.23308270676692,
          93.33333333333333,
          93.38235294117646,
          93.43065693430657,
          93.47826086956522,
          93.5251798561151,
          93.57142857142857,
          93.61702127659575,
          93.66197183098592,
          93.7062937062937,
          93.05555555555556,
          93.10344827586206,
          93.15068493150685,
          92.51700680272108,
          92.56756756756756,
          92.61744966442953,
          92,
          92.05298013245033,
          92.10526315789474,
          92.15686274509804,
          91.55844155844156,
          91.66666666666667,
          91.71974522292993,
          91.13924050632912,
          91.19496855345912,
          91.25,
          91.30434782608695,
          91.35802469135803,
          91.46341463414635,
          91.51515151515152,
          90.96385542168674,
          91.01796407185628,
          90.47619047619048,
          90.58823529411765,
          90.05847953216374,
          89.53488372093024,
          89.01734104046243,
          89.08045977011494,
          91.46191399459167,
          91.2782113209418,
          91.38108444488752,
          91.20169698163967,
          91.1705529637348,
          91.01480814622728,
          90.98506365642116
         ],
         "yaxis": "y"
        }
       ],
       "layout": {
        "autosize": true,
        "legend": {
         "tracegroupgap": 0
        },
        "margin": {
         "t": 60
        },
        "template": {
         "data": {
          "bar": [
           {
            "error_x": {
             "color": "#2a3f5f"
            },
            "error_y": {
             "color": "#2a3f5f"
            },
            "marker": {
             "line": {
              "color": "#E5ECF6",
              "width": 0.5
             },
             "pattern": {
              "fillmode": "overlay",
              "size": 10,
              "solidity": 0.2
             }
            },
            "type": "bar"
           }
          ],
          "barpolar": [
           {
            "marker": {
             "line": {
              "color": "#E5ECF6",
              "width": 0.5
             },
             "pattern": {
              "fillmode": "overlay",
              "size": 10,
              "solidity": 0.2
             }
            },
            "type": "barpolar"
           }
          ],
          "carpet": [
           {
            "aaxis": {
             "endlinecolor": "#2a3f5f",
             "gridcolor": "white",
             "linecolor": "white",
             "minorgridcolor": "white",
             "startlinecolor": "#2a3f5f"
            },
            "baxis": {
             "endlinecolor": "#2a3f5f",
             "gridcolor": "white",
             "linecolor": "white",
             "minorgridcolor": "white",
             "startlinecolor": "#2a3f5f"
            },
            "type": "carpet"
           }
          ],
          "choropleth": [
           {
            "colorbar": {
             "outlinewidth": 0,
             "ticks": ""
            },
            "type": "choropleth"
           }
          ],
          "contour": [
           {
            "colorbar": {
             "outlinewidth": 0,
             "ticks": ""
            },
            "colorscale": [
             [
              0,
              "#0d0887"
             ],
             [
              0.1111111111111111,
              "#46039f"
             ],
             [
              0.2222222222222222,
              "#7201a8"
             ],
             [
              0.3333333333333333,
              "#9c179e"
             ],
             [
              0.4444444444444444,
              "#bd3786"
             ],
             [
              0.5555555555555556,
              "#d8576b"
             ],
             [
              0.6666666666666666,
              "#ed7953"
             ],
             [
              0.7777777777777778,
              "#fb9f3a"
             ],
             [
              0.8888888888888888,
              "#fdca26"
             ],
             [
              1,
              "#f0f921"
             ]
            ],
            "type": "contour"
           }
          ],
          "contourcarpet": [
           {
            "colorbar": {
             "outlinewidth": 0,
             "ticks": ""
            },
            "type": "contourcarpet"
           }
          ],
          "heatmap": [
           {
            "colorbar": {
             "outlinewidth": 0,
             "ticks": ""
            },
            "colorscale": [
             [
              0,
              "#0d0887"
             ],
             [
              0.1111111111111111,
              "#46039f"
             ],
             [
              0.2222222222222222,
              "#7201a8"
             ],
             [
              0.3333333333333333,
              "#9c179e"
             ],
             [
              0.4444444444444444,
              "#bd3786"
             ],
             [
              0.5555555555555556,
              "#d8576b"
             ],
             [
              0.6666666666666666,
              "#ed7953"
             ],
             [
              0.7777777777777778,
              "#fb9f3a"
             ],
             [
              0.8888888888888888,
              "#fdca26"
             ],
             [
              1,
              "#f0f921"
             ]
            ],
            "type": "heatmap"
           }
          ],
          "heatmapgl": [
           {
            "colorbar": {
             "outlinewidth": 0,
             "ticks": ""
            },
            "colorscale": [
             [
              0,
              "#0d0887"
             ],
             [
              0.1111111111111111,
              "#46039f"
             ],
             [
              0.2222222222222222,
              "#7201a8"
             ],
             [
              0.3333333333333333,
              "#9c179e"
             ],
             [
              0.4444444444444444,
              "#bd3786"
             ],
             [
              0.5555555555555556,
              "#d8576b"
             ],
             [
              0.6666666666666666,
              "#ed7953"
             ],
             [
              0.7777777777777778,
              "#fb9f3a"
             ],
             [
              0.8888888888888888,
              "#fdca26"
             ],
             [
              1,
              "#f0f921"
             ]
            ],
            "type": "heatmapgl"
           }
          ],
          "histogram": [
           {
            "marker": {
             "pattern": {
              "fillmode": "overlay",
              "size": 10,
              "solidity": 0.2
             }
            },
            "type": "histogram"
           }
          ],
          "histogram2d": [
           {
            "colorbar": {
             "outlinewidth": 0,
             "ticks": ""
            },
            "colorscale": [
             [
              0,
              "#0d0887"
             ],
             [
              0.1111111111111111,
              "#46039f"
             ],
             [
              0.2222222222222222,
              "#7201a8"
             ],
             [
              0.3333333333333333,
              "#9c179e"
             ],
             [
              0.4444444444444444,
              "#bd3786"
             ],
             [
              0.5555555555555556,
              "#d8576b"
             ],
             [
              0.6666666666666666,
              "#ed7953"
             ],
             [
              0.7777777777777778,
              "#fb9f3a"
             ],
             [
              0.8888888888888888,
              "#fdca26"
             ],
             [
              1,
              "#f0f921"
             ]
            ],
            "type": "histogram2d"
           }
          ],
          "histogram2dcontour": [
           {
            "colorbar": {
             "outlinewidth": 0,
             "ticks": ""
            },
            "colorscale": [
             [
              0,
              "#0d0887"
             ],
             [
              0.1111111111111111,
              "#46039f"
             ],
             [
              0.2222222222222222,
              "#7201a8"
             ],
             [
              0.3333333333333333,
              "#9c179e"
             ],
             [
              0.4444444444444444,
              "#bd3786"
             ],
             [
              0.5555555555555556,
              "#d8576b"
             ],
             [
              0.6666666666666666,
              "#ed7953"
             ],
             [
              0.7777777777777778,
              "#fb9f3a"
             ],
             [
              0.8888888888888888,
              "#fdca26"
             ],
             [
              1,
              "#f0f921"
             ]
            ],
            "type": "histogram2dcontour"
           }
          ],
          "mesh3d": [
           {
            "colorbar": {
             "outlinewidth": 0,
             "ticks": ""
            },
            "type": "mesh3d"
           }
          ],
          "parcoords": [
           {
            "line": {
             "colorbar": {
              "outlinewidth": 0,
              "ticks": ""
             }
            },
            "type": "parcoords"
           }
          ],
          "pie": [
           {
            "automargin": true,
            "type": "pie"
           }
          ],
          "scatter": [
           {
            "fillpattern": {
             "fillmode": "overlay",
             "size": 10,
             "solidity": 0.2
            },
            "type": "scatter"
           }
          ],
          "scatter3d": [
           {
            "line": {
             "colorbar": {
              "outlinewidth": 0,
              "ticks": ""
             }
            },
            "marker": {
             "colorbar": {
              "outlinewidth": 0,
              "ticks": ""
             }
            },
            "type": "scatter3d"
           }
          ],
          "scattercarpet": [
           {
            "marker": {
             "colorbar": {
              "outlinewidth": 0,
              "ticks": ""
             }
            },
            "type": "scattercarpet"
           }
          ],
          "scattergeo": [
           {
            "marker": {
             "colorbar": {
              "outlinewidth": 0,
              "ticks": ""
             }
            },
            "type": "scattergeo"
           }
          ],
          "scattergl": [
           {
            "marker": {
             "colorbar": {
              "outlinewidth": 0,
              "ticks": ""
             }
            },
            "type": "scattergl"
           }
          ],
          "scattermapbox": [
           {
            "marker": {
             "colorbar": {
              "outlinewidth": 0,
              "ticks": ""
             }
            },
            "type": "scattermapbox"
           }
          ],
          "scatterpolar": [
           {
            "marker": {
             "colorbar": {
              "outlinewidth": 0,
              "ticks": ""
             }
            },
            "type": "scatterpolar"
           }
          ],
          "scatterpolargl": [
           {
            "marker": {
             "colorbar": {
              "outlinewidth": 0,
              "ticks": ""
             }
            },
            "type": "scatterpolargl"
           }
          ],
          "scatterternary": [
           {
            "marker": {
             "colorbar": {
              "outlinewidth": 0,
              "ticks": ""
             }
            },
            "type": "scatterternary"
           }
          ],
          "surface": [
           {
            "colorbar": {
             "outlinewidth": 0,
             "ticks": ""
            },
            "colorscale": [
             [
              0,
              "#0d0887"
             ],
             [
              0.1111111111111111,
              "#46039f"
             ],
             [
              0.2222222222222222,
              "#7201a8"
             ],
             [
              0.3333333333333333,
              "#9c179e"
             ],
             [
              0.4444444444444444,
              "#bd3786"
             ],
             [
              0.5555555555555556,
              "#d8576b"
             ],
             [
              0.6666666666666666,
              "#ed7953"
             ],
             [
              0.7777777777777778,
              "#fb9f3a"
             ],
             [
              0.8888888888888888,
              "#fdca26"
             ],
             [
              1,
              "#f0f921"
             ]
            ],
            "type": "surface"
           }
          ],
          "table": [
           {
            "cells": {
             "fill": {
              "color": "#EBF0F8"
             },
             "line": {
              "color": "white"
             }
            },
            "header": {
             "fill": {
              "color": "#C8D4E3"
             },
             "line": {
              "color": "white"
             }
            },
            "type": "table"
           }
          ]
         },
         "layout": {
          "annotationdefaults": {
           "arrowcolor": "#2a3f5f",
           "arrowhead": 0,
           "arrowwidth": 1
          },
          "autotypenumbers": "strict",
          "coloraxis": {
           "colorbar": {
            "outlinewidth": 0,
            "ticks": ""
           }
          },
          "colorscale": {
           "diverging": [
            [
             0,
             "#8e0152"
            ],
            [
             0.1,
             "#c51b7d"
            ],
            [
             0.2,
             "#de77ae"
            ],
            [
             0.3,
             "#f1b6da"
            ],
            [
             0.4,
             "#fde0ef"
            ],
            [
             0.5,
             "#f7f7f7"
            ],
            [
             0.6,
             "#e6f5d0"
            ],
            [
             0.7,
             "#b8e186"
            ],
            [
             0.8,
             "#7fbc41"
            ],
            [
             0.9,
             "#4d9221"
            ],
            [
             1,
             "#276419"
            ]
           ],
           "sequential": [
            [
             0,
             "#0d0887"
            ],
            [
             0.1111111111111111,
             "#46039f"
            ],
            [
             0.2222222222222222,
             "#7201a8"
            ],
            [
             0.3333333333333333,
             "#9c179e"
            ],
            [
             0.4444444444444444,
             "#bd3786"
            ],
            [
             0.5555555555555556,
             "#d8576b"
            ],
            [
             0.6666666666666666,
             "#ed7953"
            ],
            [
             0.7777777777777778,
             "#fb9f3a"
            ],
            [
             0.8888888888888888,
             "#fdca26"
            ],
            [
             1,
             "#f0f921"
            ]
           ],
           "sequentialminus": [
            [
             0,
             "#0d0887"
            ],
            [
             0.1111111111111111,
             "#46039f"
            ],
            [
             0.2222222222222222,
             "#7201a8"
            ],
            [
             0.3333333333333333,
             "#9c179e"
            ],
            [
             0.4444444444444444,
             "#bd3786"
            ],
            [
             0.5555555555555556,
             "#d8576b"
            ],
            [
             0.6666666666666666,
             "#ed7953"
            ],
            [
             0.7777777777777778,
             "#fb9f3a"
            ],
            [
             0.8888888888888888,
             "#fdca26"
            ],
            [
             1,
             "#f0f921"
            ]
           ]
          },
          "colorway": [
           "#636efa",
           "#EF553B",
           "#00cc96",
           "#ab63fa",
           "#FFA15A",
           "#19d3f3",
           "#FF6692",
           "#B6E880",
           "#FF97FF",
           "#FECB52"
          ],
          "font": {
           "color": "#2a3f5f"
          },
          "geo": {
           "bgcolor": "white",
           "lakecolor": "white",
           "landcolor": "#E5ECF6",
           "showlakes": true,
           "showland": true,
           "subunitcolor": "white"
          },
          "hoverlabel": {
           "align": "left"
          },
          "hovermode": "closest",
          "mapbox": {
           "style": "light"
          },
          "paper_bgcolor": "white",
          "plot_bgcolor": "#E5ECF6",
          "polar": {
           "angularaxis": {
            "gridcolor": "white",
            "linecolor": "white",
            "ticks": ""
           },
           "bgcolor": "#E5ECF6",
           "radialaxis": {
            "gridcolor": "white",
            "linecolor": "white",
            "ticks": ""
           }
          },
          "scene": {
           "xaxis": {
            "backgroundcolor": "#E5ECF6",
            "gridcolor": "white",
            "gridwidth": 2,
            "linecolor": "white",
            "showbackground": true,
            "ticks": "",
            "zerolinecolor": "white"
           },
           "yaxis": {
            "backgroundcolor": "#E5ECF6",
            "gridcolor": "white",
            "gridwidth": 2,
            "linecolor": "white",
            "showbackground": true,
            "ticks": "",
            "zerolinecolor": "white"
           },
           "zaxis": {
            "backgroundcolor": "#E5ECF6",
            "gridcolor": "white",
            "gridwidth": 2,
            "linecolor": "white",
            "showbackground": true,
            "ticks": "",
            "zerolinecolor": "white"
           }
          },
          "shapedefaults": {
           "line": {
            "color": "#2a3f5f"
           }
          },
          "ternary": {
           "aaxis": {
            "gridcolor": "white",
            "linecolor": "white",
            "ticks": ""
           },
           "baxis": {
            "gridcolor": "white",
            "linecolor": "white",
            "ticks": ""
           },
           "bgcolor": "#E5ECF6",
           "caxis": {
            "gridcolor": "white",
            "linecolor": "white",
            "ticks": ""
           }
          },
          "title": {
           "x": 0.05
          },
          "xaxis": {
           "automargin": true,
           "gridcolor": "white",
           "linecolor": "white",
           "ticks": "",
           "title": {
            "standoff": 15
           },
           "zerolinecolor": "white",
           "zerolinewidth": 2
          },
          "yaxis": {
           "automargin": true,
           "gridcolor": "white",
           "linecolor": "white",
           "ticks": "",
           "title": {
            "standoff": 15
           },
           "zerolinecolor": "white",
           "zerolinewidth": 2
          }
         }
        },
        "title": {
         "text": "Аспект - \"сотрудники\", предсказания на 28.0 дней вперёд"
        },
        "xaxis": {
         "anchor": "y",
         "autorange": true,
         "domain": [
          0,
          1
         ],
         "range": [
          "2022-02-09 19:37:29.7138",
          "2024-02-17 03:12:05.2701"
         ],
         "title": {
          "text": "Дата"
         },
         "type": "date"
        },
        "yaxis": {
         "anchor": "x",
         "autorange": false,
         "domain": [
          0,
          1
         ],
         "range": [
          74,
          95.44444444444444
         ],
         "title": {
          "text": "Доля положительных триплетов"
         },
         "type": "linear"
        }
       }
      },
      "image/png": "[encoded data removed]",
      "text/html": [
       "<div>                            <div id=\"7f689c29-d173-442a-a0e5-b3e5f68703f0\" class=\"plotly-graph-div\" style=\"height:525px; width:100%;\"></div>            <script type=\"text/javascript\">                require([\"plotly\"], function(Plotly) {                    window.PLOTLYENV=window.PLOTLYENV || {};                                    if (document.getElementById(\"7f689c29-d173-442a-a0e5-b3e5f68703f0\")) {                    Plotly.newPlot(                        \"7f689c29-d173-442a-a0e5-b3e5f68703f0\",                        [{\"hovertemplate\":\"x=%{x}<br>y=%{y}<extra></extra>\",\"legendgroup\":\"\",\"line\":{\"color\":\"#636efa\",\"dash\":\"solid\"},\"marker\":{\"symbol\":\"circle\"},\"mode\":\"lines\",\"name\":\"\",\"orientation\":\"v\",\"showlegend\":false,\"x\":[\"2022-02-09 19:37:29.713791\",\"2022-02-11 19:23:27.504596\",\"2022-02-17 12:49:31.876096\",\"2022-02-22 07:01:53.689668\",\"2022-02-22 13:26:23.034652\",\"2022-03-03 07:20:16.614603\",\"2022-03-03 19:34:27.208931\",\"2022-03-05 15:19:34.467077\",\"2022-03-07 17:54:08.804473\",\"2022-03-09 13:40:50.035467\",\"2022-03-09 21:19:47.696458\",\"2022-03-10 14:27:03.433078\",\"2022-03-10 16:27:52.610934\",\"2022-03-11 18:23:22.013499\",\"2022-03-13 20:43:20.984685\",\"2022-03-14 12:31:01.181142\",\"2022-03-15 17:56:06.039813\",\"2022-03-17 12:40:53.738605\",\"2022-03-17 17:49:10.048699\",\"2022-03-17 19:26:56.948848\",\"2022-03-17 21:08:14.994478\",\"2022-03-18 09:47:10.359849\",\"2022-03-18 14:03:21.541754\",\"2022-03-18 16:34:03.836152\",\"2022-03-20 16:38:02.709286\",\"2022-03-21 09:11:59.574414\",\"2022-03-22 11:36:08.406705\",\"2022-03-24 13:18:01.824725\",\"2022-03-25 10:06:54.377568\",\"2022-04-02 01:06:26.561888\",\"2022-04-03 13:22:02.017360\",\"2022-04-10 20:18:45.648943\",\"2022-04-11 14:07:13.289782\",\"2022-04-11 19:31:56.628309\",\"2022-04-13 05:33:11.813063\",\"2022-04-13 15:12:49.337084\",\"2022-04-13 16:49:00.484886\",\"2022-04-15 19:00:13.874437\",\"2022-04-16 03:30:03.730145\",\"2022-04-16 18:32:58.868184\",\"2022-04-23 11:17:56.499211\",\"2022-04-26 16:36:01.601041\",\"2022-04-29 17:46:15.316858\",\"2022-04-30 19:21:36.062747\",\"2022-04-30 19:55:39.094602\",\"2022-05-04 20:46:36.165486\",\"2022-05-05 05:10:29.908262\",\"2022-05-08 16:18:39.256582\",\"2022-05-08 16:41:03.848121\",\"2022-05-09 23:57:54.537165\",\"2022-05-10 09:45:21.193670\",\"2022-05-12 20:42:43.569844\",\"2022-05-15 13:23:01.537844\",\"2022-05-18 09:32:49.514671\",\"2022-05-23 16:02:55.444562\",\"2022-05-25 17:14:21.840784\",\"2022-05-26 11:53:07.144359\",\"2022-05-27 10:33:34.016189\",\"2022-05-31 12:57:42.971649\",\"2022-05-31 17:10:13.589575\",\"2022-06-03 17:14:20.968504\",\"2022-06-04 15:37:24.688761\",\"2022-06-17 14:32:55.435678\",\"2022-06-18 06:48:22.652517\",\"2022-06-18 07:25:27.251354\",\"2022-06-21 05:02:14.914070\",\"2022-06-21 07:49:29.048114\",\"2022-06-22 12:45:12.853933\",\"2022-06-24 02:14:39.513679\",\"2022-06-27 19:33:05.931902\",\"2022-07-01 08:47:42.146984\",\"2022-07-13 15:50:58.872878\",\"2022-07-15 22:45:43.574958\",\"2022-07-18 22:27:07.740659\",\"2022-08-12 17:18:12.092903\",\"2022-08-26 15:44:50.020885\",\"2022-09-13 15:13:50.763269\",\"2022-09-18 18:23:53.272800\",\"2022-09-21 18:47:49.095716\",\"2022-10-01 14:57:36.462518\",\"2022-10-07 16:36:32.123282\",\"2022-10-07 23:53:09.155458\",\"2022-10-16 16:30:31.653913\",\"2022-10-20 22:46:25.260433\",\"2022-10-25 19:19:49.482891\",\"2022-10-25 20:33:14.944154\",\"2022-10-29 17:16:44.269690\",\"2022-10-29 17:20:44.894811\",\"2022-10-29 17:34:36.623750\",\"2022-10-30 17:45:54.900117\",\"2022-11-07 14:15:27.823493\",\"2022-11-07 19:46:34.010035\",\"2022-11-09 00:16:03.561390\",\"2022-11-09 18:23:18.707900\",\"2022-11-09 23:33:40.451682\",\"2022-11-15 09:15:47.964682\",\"2022-11-16 04:06:38.070693\",\"2022-11-16 17:12:40.145044\",\"2022-11-17 21:13:52.263879\",\"2022-11-18 17:18:34.912169\",\"2022-12-09 01:07:36.632814\",\"2022-12-26 21:50:50.339159\",\"2023-01-12 15:45:29.918754\",\"2023-01-23 09:08:19.613582\",\"2023-02-08 11:09:27.031564\",\"2023-02-09 19:19:55.429586\",\"2023-02-14 08:02:10.101441\",\"2023-02-20 21:39:21.312290\",\"2023-03-25 10:15:18.811278\",\"2023-03-25 11:41:39.272162\",\"2023-03-30 19:06:18.751016\",\"2023-04-03 12:02:56.357516\",\"2023-04-06 15:59:31.370041\",\"2023-04-10 23:34:14.944461\",\"2023-04-19 00:07:31.300265\",\"2023-05-04 20:38:00.177648\",\"2023-05-19 23:38:26.611061\",\"2023-05-22 12:59:21.521352\",\"2023-05-23 10:44:10.088394\",\"2023-05-23 12:31:05.702213\",\"2023-05-25 16:47:33.312982\",\"2023-06-08 10:43:05.850374\",\"2023-06-11 13:59:10.446175\",\"2023-06-20 14:29:05.080100\",\"2023-07-05 13:43:58.981654\",\"2023-07-15 00:20:09.715741\",\"2023-07-15 08:03:47.894177\",\"2023-08-04 11:21:46.599984\",\"2023-08-17 19:07:10.690705\",\"2023-08-22 19:18:14.758045\",\"2023-08-30 15:39:10.156190\",\"2023-09-07 14:32:45.340441\",\"2023-09-07 16:56:09.835741\",\"2023-09-09 10:50:17.390742\",\"2023-09-16 15:41:59.787722\",\"2023-09-21 07:38:56.694439\",\"2023-10-01 00:17:55.223171\",\"2023-10-12 18:50:02.154452\",\"2023-10-15 14:29:12.842614\",\"2023-11-01 10:37:01.339117\",\"2023-11-16 22:24:50.548173\",\"2023-12-06 16:01:45.687925\",\"2023-12-14 11:46:52.826638\",\"2024-01-13 17:24:28.410823\",\"2024-01-18 15:22:42.247865\",\"2024-01-23 13:20:56.084907\",\"2024-01-28 11:19:09.921949\",\"2024-02-02 09:17:23.758991\",\"2024-02-07 07:15:37.596034\",\"2024-02-12 05:13:51.433076\",\"2024-02-17 03:12:05.270118\"],\"xaxis\":\"x\",\"y\":[75.0,80.0,83.33333333333333,85.71428571428571,87.5,88.88888888888889,90.0,90.9090909090909,91.66666666666667,92.3076923076923,85.71428571428571,87.5,88.23529411764706,88.88888888888889,89.47368421052632,90.0,90.47619047619048,90.9090909090909,91.30434782608695,91.66666666666667,92.0,92.3076923076923,92.5925925925926,92.85714285714286,93.10344827586206,93.33333333333333,93.54838709677419,93.75,93.93939393939394,94.11764705882354,94.28571428571429,94.44444444444444,89.47368421052632,89.74358974358974,90.0,90.47619047619048,90.69767441860465,90.9090909090909,91.11111111111111,91.48936170212765,91.66666666666667,91.83673469387755,92.0,92.15686274509804,92.45283018867924,92.5925925925926,92.72727272727273,89.47368421052632,89.83050847457628,90.0,90.1639344262295,90.3225806451613,90.47619047619048,90.625,90.9090909090909,91.04477611940298,91.42857142857143,91.54929577464789,91.78082191780823,91.89189189189189,92.0,92.10526315789474,92.3076923076923,92.40506329113924,92.5,92.5925925925926,92.6829268292683,92.7710843373494,91.66666666666667,91.76470588235294,91.86046511627907,92.04545454545455,91.01123595505618,91.11111111111111,91.39784946236558,90.42553191489361,90.52631578947368,90.625,90.72164948453609,90.9090909090909,91.0,91.08910891089108,91.2621359223301,91.42857142857143,91.50943396226415,91.58878504672897,91.66666666666667,91.74311926605505,91.89189189189189,91.96428571428571,92.03539823008849,92.10526315789474,92.17391304347827,92.24137931034483,92.37288135593221,92.43697478991596,92.56198347107438,92.62295081967213,92.6829268292683,92.74193548387096,92.85714285714286,92.96875,93.02325581395348,93.07692307692308,93.12977099236642,93.18181818181819,93.23308270676692,93.33333333333333,93.38235294117646,93.43065693430657,93.47826086956522,93.5251798561151,93.57142857142857,93.61702127659575,93.66197183098592,93.7062937062937,93.05555555555556,93.10344827586206,93.15068493150685,92.51700680272108,92.56756756756756,92.61744966442953,92.0,92.05298013245033,92.10526315789474,92.15686274509804,91.55844155844156,91.66666666666667,91.71974522292993,91.13924050632912,91.19496855345912,91.25,91.30434782608695,91.35802469135803,91.46341463414635,91.51515151515152,90.96385542168674,91.01796407185628,90.47619047619048,90.58823529411765,90.05847953216374,89.53488372093024,89.01734104046243,89.08045977011494,91.46191399459167,91.2782113209418,91.38108444488752,91.20169698163967,91.1705529637348,91.01480814622728,90.98506365642116],\"yaxis\":\"y\",\"type\":\"scatter\"}],                        {\"template\":{\"data\":{\"histogram2dcontour\":[{\"type\":\"histogram2dcontour\",\"colorbar\":{\"outlinewidth\":0,\"ticks\":\"\"},\"colorscale\":[[0.0,\"#0d0887\"],[0.1111111111111111,\"#46039f\"],[0.2222222222222222,\"#7201a8\"],[0.3333333333333333,\"#9c179e\"],[0.4444444444444444,\"#bd3786\"],[0.5555555555555556,\"#d8576b\"],[0.6666666666666666,\"#ed7953\"],[0.7777777777777778,\"#fb9f3a\"],[0.8888888888888888,\"#fdca26\"],[1.0,\"#f0f921\"]]}],\"choropleth\":[{\"type\":\"choropleth\",\"colorbar\":{\"outlinewidth\":0,\"ticks\":\"\"}}],\"histogram2d\":[{\"type\":\"histogram2d\",\"colorbar\":{\"outlinewidth\":0,\"ticks\":\"\"},\"colorscale\":[[0.0,\"#0d0887\"],[0.1111111111111111,\"#46039f\"],[0.2222222222222222,\"#7201a8\"],[0.3333333333333333,\"#9c179e\"],[0.4444444444444444,\"#bd3786\"],[0.5555555555555556,\"#d8576b\"],[0.6666666666666666,\"#ed7953\"],[0.7777777777777778,\"#fb9f3a\"],[0.8888888888888888,\"#fdca26\"],[1.0,\"#f0f921\"]]}],\"heatmap\":[{\"type\":\"heatmap\",\"colorbar\":{\"outlinewidth\":0,\"ticks\":\"\"},\"colorscale\":[[0.0,\"#0d0887\"],[0.1111111111111111,\"#46039f\"],[0.2222222222222222,\"#7201a8\"],[0.3333333333333333,\"#9c179e\"],[0.4444444444444444,\"#bd3786\"],[0.5555555555555556,\"#d8576b\"],[0.6666666666666666,\"#ed7953\"],[0.7777777777777778,\"#fb9f3a\"],[0.8888888888888888,\"#fdca26\"],[1.0,\"#f0f921\"]]}],\"heatmapgl\":[{\"type\":\"heatmapgl\",\"colorbar\":{\"outlinewidth\":0,\"ticks\":\"\"},\"colorscale\":[[0.0,\"#0d0887\"],[0.1111111111111111,\"#46039f\"],[0.2222222222222222,\"#7201a8\"],[0.3333333333333333,\"#9c179e\"],[0.4444444444444444,\"#bd3786\"],[0.5555555555555556,\"#d8576b\"],[0.6666666666666666,\"#ed7953\"],[0.7777777777777778,\"#fb9f3a\"],[0.8888888888888888,\"#fdca26\"],[1.0,\"#f0f921\"]]}],\"contourcarpet\":[{\"type\":\"contourcarpet\",\"colorbar\":{\"outlinewidth\":0,\"ticks\":\"\"}}],\"contour\":[{\"type\":\"contour\",\"colorbar\":{\"outlinewidth\":0,\"ticks\":\"\"},\"colorscale\":[[0.0,\"#0d0887\"],[0.1111111111111111,\"#46039f\"],[0.2222222222222222,\"#7201a8\"],[0.3333333333333333,\"#9c179e\"],[0.4444444444444444,\"#bd3786\"],[0.5555555555555556,\"#d8576b\"],[0.6666666666666666,\"#ed7953\"],[0.7777777777777778,\"#fb9f3a\"],[0.8888888888888888,\"#fdca26\"],[1.0,\"#f0f921\"]]}],\"surface\":[{\"type\":\"surface\",\"colorbar\":{\"outlinewidth\":0,\"ticks\":\"\"},\"colorscale\":[[0.0,\"#0d0887\"],[0.1111111111111111,\"#46039f\"],[0.2222222222222222,\"#7201a8\"],[0.3333333333333333,\"#9c179e\"],[0.4444444444444444,\"#bd3786\"],[0.5555555555555556,\"#d8576b\"],[0.6666666666666666,\"#ed7953\"],[0.7777777777777778,\"#fb9f3a\"],[0.8888888888888888,\"#fdca26\"],[1.0,\"#f0f921\"]]}],\"mesh3d\":[{\"type\":\"mesh3d\",\"colorbar\":{\"outlinewidth\":0,\"ticks\":\"\"}}],\"scatter\":[{\"fillpattern\":{\"fillmode\":\"overlay\",\"size\":10,\"solidity\":0.2},\"type\":\"scatter\"}],\"parcoords\":[{\"type\":\"parcoords\",\"line\":{\"colorbar\":{\"outlinewidth\":0,\"ticks\":\"\"}}}],\"scatterpolargl\":[{\"type\":\"scatterpolargl\",\"marker\":{\"colorbar\":{\"outlinewidth\":0,\"ticks\":\"\"}}}],\"bar\":[{\"error_x\":{\"color\":\"#2a3f5f\"},\"error_y\":{\"color\":\"#2a3f5f\"},\"marker\":{\"line\":{\"color\":\"#E5ECF6\",\"width\":0.5},\"pattern\":{\"fillmode\":\"overlay\",\"size\":10,\"solidity\":0.2}},\"type\":\"bar\"}],\"scattergeo\":[{\"type\":\"scattergeo\",\"marker\":{\"colorbar\":{\"outlinewidth\":0,\"ticks\":\"\"}}}],\"scatterpolar\":[{\"type\":\"scatterpolar\",\"marker\":{\"colorbar\":{\"outlinewidth\":0,\"ticks\":\"\"}}}],\"histogram\":[{\"marker\":{\"pattern\":{\"fillmode\":\"overlay\",\"size\":10,\"solidity\":0.2}},\"type\":\"histogram\"}],\"scattergl\":[{\"type\":\"scattergl\",\"marker\":{\"colorbar\":{\"outlinewidth\":0,\"ticks\":\"\"}}}],\"scatter3d\":[{\"type\":\"scatter3d\",\"line\":{\"colorbar\":{\"outlinewidth\":0,\"ticks\":\"\"}},\"marker\":{\"colorbar\":{\"outlinewidth\":0,\"ticks\":\"\"}}}],\"scattermapbox\":[{\"type\":\"scattermapbox\",\"marker\":{\"colorbar\":{\"outlinewidth\":0,\"ticks\":\"\"}}}],\"scatterternary\":[{\"type\":\"scatterternary\",\"marker\":{\"colorbar\":{\"outlinewidth\":0,\"ticks\":\"\"}}}],\"scattercarpet\":[{\"type\":\"scattercarpet\",\"marker\":{\"colorbar\":{\"outlinewidth\":0,\"ticks\":\"\"}}}],\"carpet\":[{\"aaxis\":{\"endlinecolor\":\"#2a3f5f\",\"gridcolor\":\"white\",\"linecolor\":\"white\",\"minorgridcolor\":\"white\",\"startlinecolor\":\"#2a3f5f\"},\"baxis\":{\"endlinecolor\":\"#2a3f5f\",\"gridcolor\":\"white\",\"linecolor\":\"white\",\"minorgridcolor\":\"white\",\"startlinecolor\":\"#2a3f5f\"},\"type\":\"carpet\"}],\"table\":[{\"cells\":{\"fill\":{\"color\":\"#EBF0F8\"},\"line\":{\"color\":\"white\"}},\"header\":{\"fill\":{\"color\":\"#C8D4E3\"},\"line\":{\"color\":\"white\"}},\"type\":\"table\"}],\"barpolar\":[{\"marker\":{\"line\":{\"color\":\"#E5ECF6\",\"width\":0.5},\"pattern\":{\"fillmode\":\"overlay\",\"size\":10,\"solidity\":0.2}},\"type\":\"barpolar\"}],\"pie\":[{\"automargin\":true,\"type\":\"pie\"}]},\"layout\":{\"autotypenumbers\":\"strict\",\"colorway\":[\"#636efa\",\"#EF553B\",\"#00cc96\",\"#ab63fa\",\"#FFA15A\",\"#19d3f3\",\"#FF6692\",\"#B6E880\",\"#FF97FF\",\"#FECB52\"],\"font\":{\"color\":\"#2a3f5f\"},\"hovermode\":\"closest\",\"hoverlabel\":{\"align\":\"left\"},\"paper_bgcolor\":\"white\",\"plot_bgcolor\":\"#E5ECF6\",\"polar\":{\"bgcolor\":\"#E5ECF6\",\"angularaxis\":{\"gridcolor\":\"white\",\"linecolor\":\"white\",\"ticks\":\"\"},\"radialaxis\":{\"gridcolor\":\"white\",\"linecolor\":\"white\",\"ticks\":\"\"}},\"ternary\":{\"bgcolor\":\"#E5ECF6\",\"aaxis\":{\"gridcolor\":\"white\",\"linecolor\":\"white\",\"ticks\":\"\"},\"baxis\":{\"gridcolor\":\"white\",\"linecolor\":\"white\",\"ticks\":\"\"},\"caxis\":{\"gridcolor\":\"white\",\"linecolor\":\"white\",\"ticks\":\"\"}},\"coloraxis\":{\"colorbar\":{\"outlinewidth\":0,\"ticks\":\"\"}},\"colorscale\":{\"sequential\":[[0.0,\"#0d0887\"],[0.1111111111111111,\"#46039f\"],[0.2222222222222222,\"#7201a8\"],[0.3333333333333333,\"#9c179e\"],[0.4444444444444444,\"#bd3786\"],[0.5555555555555556,\"#d8576b\"],[0.6666666666666666,\"#ed7953\"],[0.7777777777777778,\"#fb9f3a\"],[0.8888888888888888,\"#fdca26\"],[1.0,\"#f0f921\"]],\"sequentialminus\":[[0.0,\"#0d0887\"],[0.1111111111111111,\"#46039f\"],[0.2222222222222222,\"#7201a8\"],[0.3333333333333333,\"#9c179e\"],[0.4444444444444444,\"#bd3786\"],[0.5555555555555556,\"#d8576b\"],[0.6666666666666666,\"#ed7953\"],[0.7777777777777778,\"#fb9f3a\"],[0.8888888888888888,\"#fdca26\"],[1.0,\"#f0f921\"]],\"diverging\":[[0,\"#8e0152\"],[0.1,\"#c51b7d\"],[0.2,\"#de77ae\"],[0.3,\"#f1b6da\"],[0.4,\"#fde0ef\"],[0.5,\"#f7f7f7\"],[0.6,\"#e6f5d0\"],[0.7,\"#b8e186\"],[0.8,\"#7fbc41\"],[0.9,\"#4d9221\"],[1,\"#276419\"]]},\"xaxis\":{\"gridcolor\":\"white\",\"linecolor\":\"white\",\"ticks\":\"\",\"title\":{\"standoff\":15},\"zerolinecolor\":\"white\",\"automargin\":true,\"zerolinewidth\":2},\"yaxis\":{\"gridcolor\":\"white\",\"linecolor\":\"white\",\"ticks\":\"\",\"title\":{\"standoff\":15},\"zerolinecolor\":\"white\",\"automargin\":true,\"zerolinewidth\":2},\"scene\":{\"xaxis\":{\"backgroundcolor\":\"#E5ECF6\",\"gridcolor\":\"white\",\"linecolor\":\"white\",\"showbackground\":true,\"ticks\":\"\",\"zerolinecolor\":\"white\",\"gridwidth\":2},\"yaxis\":{\"backgroundcolor\":\"#E5ECF6\",\"gridcolor\":\"white\",\"linecolor\":\"white\",\"showbackground\":true,\"ticks\":\"\",\"zerolinecolor\":\"white\",\"gridwidth\":2},\"zaxis\":{\"backgroundcolor\":\"#E5ECF6\",\"gridcolor\":\"white\",\"linecolor\":\"white\",\"showbackground\":true,\"ticks\":\"\",\"zerolinecolor\":\"white\",\"gridwidth\":2}},\"shapedefaults\":{\"line\":{\"color\":\"#2a3f5f\"}},\"annotationdefaults\":{\"arrowcolor\":\"#2a3f5f\",\"arrowhead\":0,\"arrowwidth\":1},\"geo\":{\"bgcolor\":\"white\",\"landcolor\":\"#E5ECF6\",\"subunitcolor\":\"white\",\"showland\":true,\"showlakes\":true,\"lakecolor\":\"white\"},\"title\":{\"x\":0.05},\"mapbox\":{\"style\":\"light\"}}},\"xaxis\":{\"anchor\":\"y\",\"domain\":[0.0,1.0],\"title\":{\"text\":\"\\u0414\\u0430\\u0442\\u0430\"}},\"yaxis\":{\"anchor\":\"x\",\"domain\":[0.0,1.0],\"title\":{\"text\":\"\\u0414\\u043e\\u043b\\u044f \\u043f\\u043e\\u043b\\u043e\\u0436\\u0438\\u0442\\u0435\\u043b\\u044c\\u043d\\u044b\\u0445 \\u0442\\u0440\\u0438\\u043f\\u043b\\u0435\\u0442\\u043e\\u0432\"},\"range\":[74.0,95.44444444444444],\"autorange\":false},\"legend\":{\"tracegroupgap\":0},\"margin\":{\"t\":60},\"title\":{\"text\":\"\\u0410\\u0441\\u043f\\u0435\\u043a\\u0442 - \\\"\\u0441\\u043e\\u0442\\u0440\\u0443\\u0434\\u043d\\u0438\\u043a\\u0438\\\", \\u043f\\u0440\\u0435\\u0434\\u0441\\u043a\\u0430\\u0437\\u0430\\u043d\\u0438\\u044f \\u043d\\u0430 28.0 \\u0434\\u043d\\u0435\\u0439 \\u0432\\u043f\\u0435\\u0440\\u0451\\u0434\"}},                        {\"responsive\": true}                    ).then(function(){\n",
       "                            \n",
       "var gd = document.getElementById('7f689c29-d173-442a-a0e5-b3e5f68703f0');\n",
       "var x = new MutationObserver(function (mutations, observer) {{\n",
       "        var display = window.getComputedStyle(gd).display;\n",
       "        if (!display || display === 'none') {{\n",
       "            console.log([gd, 'removed!']);\n",
       "            Plotly.purge(gd);\n",
       "            observer.disconnect();\n",
       "        }}\n",
       "}});\n",
       "\n",
       "// Listen for the removal of the full notebook cells\n",
       "var notebookContainer = gd.closest('#notebook-container');\n",
       "if (notebookContainer) {{\n",
       "    x.observe(notebookContainer, {childList: true});\n",
       "}}\n",
       "\n",
       "// Listen for the clearing of the current output cell\n",
       "var outputEl = gd.closest('.output');\n",
       "if (outputEl) {{\n",
       "    x.observe(outputEl, {childList: true});\n",
       "}}\n",
       "\n",
       "                        })                };                });            </script>        </div>"
      ]
     },
     "metadata": {},
     "output_type": "display_data"
    }
   ],
   "source": [
    "plot_arimo_results(best_params, ts_data, \"сотрудники\", 7)"
   ]
  },
  {
   "cell_type": "code",
   "execution_count": null,
   "id": "e246e101-a05d-4a19-bddd-540cfb1c8545",
   "metadata": {},
   "outputs": [],
   "source": []
  }
 ],
 "metadata": {
  "kernelspec": {
   "display_name": "Python 3 (ipykernel)",
   "language": "python",
   "name": "python3"
  },
  "language_info": {
   "codemirror_mode": {
    "name": "ipython",
    "version": 3
   },
   "file_extension": ".py",
   "mimetype": "text/x-python",
   "name": "python",
   "nbconvert_exporter": "python",
   "pygments_lexer": "ipython3",
   "version": "3.11.5"
  }
 },
 "nbformat": 4,
 "nbformat_minor": 5
}
