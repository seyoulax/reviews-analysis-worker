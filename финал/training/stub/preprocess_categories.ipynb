{
 "cells": [
  {
   "cell_type": "code",
   "execution_count": 1,
   "id": "01563c1f-5f4a-43d9-8371-ff14ea48080b",
   "metadata": {
    "tags": []
   },
   "outputs": [],
   "source": [
    "import pandas as pd\n",
    "import numpy as np"
   ]
  },
  {
   "cell_type": "code",
   "execution_count": 11,
   "id": "31f220e1-758a-4137-be2c-bf6977e27721",
   "metadata": {
    "tags": []
   },
   "outputs": [],
   "source": [
    "df = pd.read_parquet(\"data/alpha.parquet\")\n",
    "df_1 = pd.read_parquet(\"data/tink.parquet\")\n",
    "df_2 = pd.read_parquet(\"data/vtb (1).parquet\")\n",
    "df_3 = pd.read_parquet(\"data/sber_cats.parquet\")"
   ]
  },
  {
   "cell_type": "code",
   "execution_count": 12,
   "id": "6c756d6b-c0f9-4244-a214-50a72c387d8c",
   "metadata": {
    "tags": []
   },
   "outputs": [],
   "source": [
    "label2id = {\n",
    "\"debitCards\" : 0,\n",
    "\"creditCards\" : 1,\n",
    "\"remoteService\" : 2,\n",
    "\"serviceLevel\" : 3,\n",
    "\"credits\" : 4,\n",
    "\"savings\" : 5,\n",
    "\"mortgage\" : 6,\n",
    "\"other\" :  7}\n",
    "\n",
    "df[\"label\"] = df[\"category\"].map(label2id)\n",
    "df_1[\"label\"] = df_1[\"category\"].map(label2id)\n",
    "df_2[\"label\"] = df_2[\"category\"].map(label2id)\n",
    "df_3[\"label\"] = df_3[\"category\"].map(label2id)\n",
    "df = pd.concat([df, df_1, df_2, df_3])"
   ]
  },
  {
   "cell_type": "code",
   "execution_count": 15,
   "id": "307816f5-105e-4c26-a985-f1389894dab9",
   "metadata": {
    "tags": []
   },
   "outputs": [],
   "source": [
    "df[[\"text\", \"label\"]].to_parquet(\"reviews_categories.parquet\", index=False)"
   ]
  },
  {
   "cell_type": "code",
   "execution_count": 16,
   "id": "3d78f686-8fea-4e63-b5fc-3e575c345590",
   "metadata": {
    "tags": []
   },
   "outputs": [
    {
     "data": {
      "text/html": [
       "<div>\n",
       "<style scoped>\n",
       "    .dataframe tbody tr th:only-of-type {\n",
       "        vertical-align: middle;\n",
       "    }\n",
       "\n",
       "    .dataframe tbody tr th {\n",
       "        vertical-align: top;\n",
       "    }\n",
       "\n",
       "    .dataframe thead th {\n",
       "        text-align: right;\n",
       "    }\n",
       "</style>\n",
       "<table border=\"1\" class=\"dataframe\">\n",
       "  <thead>\n",
       "    <tr style=\"text-align: right;\">\n",
       "      <th></th>\n",
       "      <th>text</th>\n",
       "      <th>label</th>\n",
       "    </tr>\n",
       "  </thead>\n",
       "  <tbody>\n",
       "    <tr>\n",
       "      <th>0</th>\n",
       "      <td>Добрый день! Хочу выразить огромную благодарно...</td>\n",
       "      <td>3</td>\n",
       "    </tr>\n",
       "    <tr>\n",
       "      <th>1</th>\n",
       "      <td>Пришла в офис банка по адресу Ленина, 51 и был...</td>\n",
       "      <td>3</td>\n",
       "    </tr>\n",
       "    <tr>\n",
       "      <th>2</th>\n",
       "      <td>Хочу сказать спасибо за опыт общения сотрудник...</td>\n",
       "      <td>3</td>\n",
       "    </tr>\n",
       "    <tr>\n",
       "      <th>3</th>\n",
       "      <td>09.04.2024Г. Не смог зайти в личный кабинет Ал...</td>\n",
       "      <td>3</td>\n",
       "    </tr>\n",
       "    <tr>\n",
       "      <th>4</th>\n",
       "      <td>9 Апреля в 14:40 я посетила отделение Альфа-Ба...</td>\n",
       "      <td>3</td>\n",
       "    </tr>\n",
       "    <tr>\n",
       "      <th>...</th>\n",
       "      <td>...</td>\n",
       "      <td>...</td>\n",
       "    </tr>\n",
       "    <tr>\n",
       "      <th>3622</th>\n",
       "      <td>20.11.18 около 13:00 в отделении Сбербанка по ...</td>\n",
       "      <td>7</td>\n",
       "    </tr>\n",
       "    <tr>\n",
       "      <th>3623</th>\n",
       "      <td>Списали в счёт погашения долга средства ежемес...</td>\n",
       "      <td>7</td>\n",
       "    </tr>\n",
       "    <tr>\n",
       "      <th>3624</th>\n",
       "      <td>4 месяца не отдавали закладную, толком не чего...</td>\n",
       "      <td>7</td>\n",
       "    </tr>\n",
       "    <tr>\n",
       "      <th>3625</th>\n",
       "      <td>12 февраля 2018 года в городе Мытищи, в отделе...</td>\n",
       "      <td>7</td>\n",
       "    </tr>\n",
       "    <tr>\n",
       "      <th>3626</th>\n",
       "      <td>К сожалению, имел неосторожность, \"потерять\" о...</td>\n",
       "      <td>7</td>\n",
       "    </tr>\n",
       "  </tbody>\n",
       "</table>\n",
       "<p>53191 rows × 2 columns</p>\n",
       "</div>"
      ],
      "text/plain": [
       "                                                   text  label\n",
       "0     Добрый день! Хочу выразить огромную благодарно...      3\n",
       "1     Пришла в офис банка по адресу Ленина, 51 и был...      3\n",
       "2     Хочу сказать спасибо за опыт общения сотрудник...      3\n",
       "3     09.04.2024Г. Не смог зайти в личный кабинет Ал...      3\n",
       "4     9 Апреля в 14:40 я посетила отделение Альфа-Ба...      3\n",
       "...                                                 ...    ...\n",
       "3622  20.11.18 около 13:00 в отделении Сбербанка по ...      7\n",
       "3623  Списали в счёт погашения долга средства ежемес...      7\n",
       "3624  4 месяца не отдавали закладную, толком не чего...      7\n",
       "3625  12 февраля 2018 года в городе Мытищи, в отделе...      7\n",
       "3626  К сожалению, имел неосторожность, \"потерять\" о...      7\n",
       "\n",
       "[53191 rows x 2 columns]"
      ]
     },
     "execution_count": 16,
     "metadata": {},
     "output_type": "execute_result"
    }
   ],
   "source": [
    "df[[\"text\", \"label\"]]"
   ]
  },
  {
   "cell_type": "code",
   "execution_count": 18,
   "id": "4f13a087-5197-4b86-9420-2f2dab55fc90",
   "metadata": {
    "tags": []
   },
   "outputs": [],
   "source": [
    "id2label = {item : key  for key, item in label2id.items()}"
   ]
  },
  {
   "cell_type": "code",
   "execution_count": 19,
   "id": "19747e7e-9c86-406c-a6ea-0e040716dbb0",
   "metadata": {
    "tags": []
   },
   "outputs": [
    {
     "data": {
      "text/plain": [
       "{0: 'debitCards',\n",
       " 1: 'creditCards',\n",
       " 2: 'remoteService',\n",
       " 3: 'serviceLevel',\n",
       " 4: 'credits',\n",
       " 5: 'savings',\n",
       " 6: 'mortgage',\n",
       " 7: 'other'}"
      ]
     },
     "execution_count": 19,
     "metadata": {},
     "output_type": "execute_result"
    }
   ],
   "source": [
    "id2label"
   ]
  },
  {
   "cell_type": "code",
   "execution_count": null,
   "id": "9c016e3e-8d69-4718-a304-a42a9afc8f0d",
   "metadata": {},
   "outputs": [],
   "source": []
  }
 ],
 "metadata": {
  "kernelspec": {
   "display_name": "Python 3 (ipykernel)",
   "language": "python",
   "name": "python3"
  },
  "language_info": {
   "codemirror_mode": {
    "name": "ipython",
    "version": 3
   },
   "file_extension": ".py",
   "mimetype": "text/x-python",
   "name": "python",
   "nbconvert_exporter": "python",
   "pygments_lexer": "ipython3",
   "version": "3.11.5"
  }
 },
 "nbformat": 4,
 "nbformat_minor": 5
}
