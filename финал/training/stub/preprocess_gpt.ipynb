{
 "cells": [
  {
   "cell_type": "code",
   "execution_count": 1,
   "id": "70a8c355-a98b-46da-b55a-47d13a1590cf",
   "metadata": {
    "tags": []
   },
   "outputs": [
    {
     "name": "stdout",
     "output_type": "stream",
     "text": [
      "Defaulting to user installation because normal site-packages is not writeable\n",
      "Requirement already satisfied: pymorphy3 in c:\\users\\mi\\appdata\\roaming\\python\\python311\\site-packages (2.0.1)\n",
      "Requirement already satisfied: dawg-python>=0.7.1 in c:\\users\\mi\\appdata\\roaming\\python\\python311\\site-packages (from pymorphy3) (0.7.2)\n",
      "Requirement already satisfied: pymorphy3-dicts-ru in c:\\users\\mi\\appdata\\roaming\\python\\python311\\site-packages (from pymorphy3) (2.4.417150.4580142)\n"
     ]
    }
   ],
   "source": [
    "!pip install pymorphy3"
   ]
  },
  {
   "cell_type": "code",
   "execution_count": 3,
   "id": "267198f1-eb71-4f26-a16e-3805f535c088",
   "metadata": {
    "tags": []
   },
   "outputs": [],
   "source": [
    "import pandas as pd\n",
    "import numpy as np\n",
    "import seaborn as sns\n",
    "import torch\n",
    "import torch.nn as nn\n",
    "import pymorphy3\n",
    "import warnings\n",
    "\n",
    "from dateutil import parser\n",
    "from torch.utils.data import DataLoader, random_split, Dataset\n",
    "from sklearn.metrics import f1_score, roc_auc_score\n",
    "from tqdm import tqdm\n",
    "from transformers import AutoModel, AutoTokenizer\n",
    "from collections import defaultdict, OrderedDict"
   ]
  },
  {
   "cell_type": "code",
   "execution_count": 4,
   "id": "607be3c7-9b21-4273-a2c0-a975c55425a0",
   "metadata": {
    "tags": []
   },
   "outputs": [],
   "source": [
    "def preprocess_triplets(res_df, date_df, triplets_columns=\"triplets\", date_column=\"timestamp\", morph=True):\n",
    "  if morph: morph_parser = pymorphy3.MorphAnalyzer()\n",
    "  triplets = res_df[triplets_columns].values.tolist()\n",
    "\n",
    "  dates = date_df[date_column].values.tolist()\n",
    "  all_triplets = []\n",
    "  for i, (text, label_ix, label) in enumerate(triplets):\n",
    "      all_triplets.extend([[text] + list(item) + [list(item_ix)[0]] + [dates[i]] for item_ix, item in zip(eval(label_ix), eval(label))])\n",
    "\n",
    "  data = []\n",
    "  if not morph:\n",
    "     for triplet in tqdm(all_triplets):\n",
    "        txt, at, ot, sp, (at_ix), ts = triplet\n",
    "        at = at.lower()\n",
    "        ot = ot.lower()\n",
    "        data.append([ts, txt, at, at_ix, ot, sp, (at, ot, sp), (at, ot)])\n",
    "  else:\n",
    "    for triplet in tqdm(all_triplets):\n",
    "        txt, at, ot, sp, (at_ix), ts = triplet\n",
    "        at = morph_parser.parse(at.lower())[0].normal_form\n",
    "        ot = ot.lower()\n",
    "        data.append([ts, txt, at, at_ix, ot, sp, (at, ot, sp), (at, ot)])\n",
    "  data = pd.DataFrame(data)\n",
    "  data.columns = ['date', \"text\", 'aspect', \"aspect_ix\", 'opinion', 'sentiment', 'triplet', 'aspect_opinion']\n",
    "\n",
    "  data[\"timestamp\"] = data[\"date\"].apply(lambda x: parser.isoparse(x).timestamp())\n",
    "\n",
    "  return data"
   ]
  },
  {
   "cell_type": "code",
   "execution_count": 57,
   "id": "18619151-06a1-4006-a7ec-6b153ec81e49",
   "metadata": {
    "tags": []
   },
   "outputs": [
    {
     "name": "stderr",
     "output_type": "stream",
     "text": [
      "100%|██████████| 48214/48214 [00:07<00:00, 6649.92it/s]\n"
     ]
    }
   ],
   "source": [
    "df = pd.read_csv(\"data/results_sravni (2).csv\")\n",
    "data = preprocess_triplets(df, df, [\"text\", \"pred\", \"pred_text\"], \"time\")"
   ]
  },
  {
   "cell_type": "code",
   "execution_count": 58,
   "id": "acdfe78b-3c05-4c92-9401-f631c1046e7e",
   "metadata": {
    "tags": []
   },
   "outputs": [],
   "source": [
    "df = pd.read_csv(\"data/1k_selling_pandas.csv\")"
   ]
  },
  {
   "cell_type": "code",
   "execution_count": 59,
   "id": "1da001bd-5988-481a-ad5f-a8f7224c01a0",
   "metadata": {
    "tags": []
   },
   "outputs": [
    {
     "data": {
      "text/plain": [
       "Информативно, Обслуживание                                                                                                                                                             551\n",
       "Информативно, Общее впечатление о банке                                                                                                                                                133\n",
       "Информативно, Банковские условия                                                                                                                                                        97\n",
       "\"Информативно, Обслуживание\"                                                                                                                                                            70\n",
       "Информативно, Интерфейс                                                                                                                                                                 40\n",
       "\"Информативно, Общее впечатление о банке\"                                                                                                                                               37\n",
       "\"Информативно, Банковские условия\"                                                                                                                                                      13\n",
       "Информативно, Функционал                                                                                                                                                                10\n",
       "\"Информативно, Интерфейс\"                                                                                                                                                                7\n",
       "\"Неинформативно\"                                                                                                                                                                         7\n",
       "Информативно, Конкуренты                                                                                                                                                                 6\n",
       "Твой ответ: \"Информативно, Обслуживание\"                                                                                                                                                 6\n",
       "Неинформативно                                                                                                                                                                           5\n",
       "\"Информативно, Функционал\"                                                                                                                                                               2\n",
       "\"Информативно, Конкуренты\"                                                                                                                                                               2\n",
       "Ответ: \"Информативно, Общее впечатление о банке\"                                                                                                                                         2\n",
       "Твой ответ: \"Информативно, Общее впечатление о банке\"                                                                                                                                    2\n",
       "Ответ: \"Информативно, Банковские условия\"                                                                                                                                                2\n",
       "Ответ: \"Неинформативно\"                                                                                                                                                                  2\n",
       "Твой ответ: \"Информативно, Банковские условия\"                                                                                                                                           1\n",
       "Твой ответ: Информативно, Общее впечатление о банке                                                                                                                                      1\n",
       "Информативно, Отличное впечатление о банке                                                                                                                                               1\n",
       "Информативно, Отзыв: \"Отличный банк. Никаких проблем не возникало. Все вопросы с оператором решались очень быстро и с отличным для меня результатом.\"\\n\\nПодкатегория: Обслуживание      1\n",
       "аспект: ответ\\nотзыв: Информативно, Обслуживание                                                                                                                                         1\n",
       "Информативно, Другое                                                                                                                                                                     1\n",
       "Name: json_response, dtype: int64"
      ]
     },
     "execution_count": 59,
     "metadata": {},
     "output_type": "execute_result"
    }
   ],
   "source": [
    "df[\"json_response\"].value_counts()"
   ]
  },
  {
   "cell_type": "code",
   "execution_count": 60,
   "id": "fc4083eb-d5ef-4285-906d-d91add776e42",
   "metadata": {
    "tags": []
   },
   "outputs": [],
   "source": [
    "def sep_0(s):\n",
    "    s = s.replace(\"'\", \"\").replace('\"', \"\").replace(\"Ответ: \", \"\").replace(\"аспект: ответ\\nотзыв: \", \"\").replace(\"Твой ответ: \", \"\").split(\", \")\n",
    "    return s[0]\n",
    "\n",
    "def sep_1(s):\n",
    "    s = s.replace(\"'\", \"\").replace('\"', \"\").replace(\"Ответ: \", \"\").replace(\"Твой ответ: \", \"\").split(\", \")\n",
    "    if len(s) == 1:\n",
    "        # print(s)\n",
    "        return \"-1\"\n",
    "    else:\n",
    "        if s[1] not in list(label2id.keys()): return \"-2\"\n",
    "        else: return s[1]\n",
    "    \n",
    "label2id = {\n",
    "    \"Обслуживание\" : 0, \n",
    "    \"Банковские условия\" : 1, \n",
    "    \"Общее впечатление о банке\" : 2, \n",
    "    \"Функционал\" : 3,\n",
    "    \"Интерфейс\" : 4,\n",
    "    \"Конкуренты\" : 5,\n",
    "    \"-1\" : 6,\n",
    "    \"-2\" : 7\n",
    "}\n",
    "n = 1000\n",
    "data = data[:n]\n",
    "data[\"info\"] = df[\"json_response\"].apply(sep_0).map({\"Информативно\" : 1, \"Неинформативно\" : 0})\n",
    "data[\"cat\"] = df[\"json_response\"].apply(sep_1).map(label2id)"
   ]
  },
  {
   "cell_type": "code",
   "execution_count": 67,
   "id": "8fa0fd3e-00d3-4122-a9a3-56d5969f46c0",
   "metadata": {
    "tags": []
   },
   "outputs": [
    {
     "data": {
      "text/plain": [
       "{0: 'Обслуживание',\n",
       " 1: 'Банковские условия',\n",
       " 2: 'Общее впечатление о банке',\n",
       " 3: 'Функционал',\n",
       " 4: 'Интерфейс',\n",
       " 5: 'Конкуренты',\n",
       " 6: '-1',\n",
       " 7: '-2'}"
      ]
     },
     "execution_count": 67,
     "metadata": {},
     "output_type": "execute_result"
    }
   ],
   "source": [
    "{item : key for key, item in label2id.items()}"
   ]
  },
  {
   "cell_type": "code",
   "execution_count": 61,
   "id": "1c01b1be-02d3-4b90-a7a2-a89bb1747f14",
   "metadata": {
    "tags": []
   },
   "outputs": [
    {
     "data": {
      "text/plain": [
       "array([0, 1, 6, 2, 3, 4, 5, 7], dtype=int64)"
      ]
     },
     "execution_count": 61,
     "metadata": {},
     "output_type": "execute_result"
    }
   ],
   "source": [
    "data[\"cat\"].unique()"
   ]
  },
  {
   "cell_type": "code",
   "execution_count": 62,
   "id": "b5c9013a-1f60-4c85-8cf8-60ee4de19294",
   "metadata": {
    "tags": []
   },
   "outputs": [],
   "source": [
    "data.drop(data[data.cat == 7].index, inplace=True)"
   ]
  },
  {
   "cell_type": "code",
   "execution_count": 64,
   "id": "3d91e907-3367-47ac-9f20-8134386d9226",
   "metadata": {
    "tags": []
   },
   "outputs": [],
   "source": [
    "data.to_parquet(\"1k_all.parquet\", index=False)"
   ]
  },
  {
   "cell_type": "code",
   "execution_count": 53,
   "id": "5d00e160-0e49-48f6-95a7-4cacd8f5421f",
   "metadata": {
    "tags": []
   },
   "outputs": [
    {
     "data": {
      "text/plain": [
       "997"
      ]
     },
     "execution_count": 53,
     "metadata": {},
     "output_type": "execute_result"
    }
   ],
   "source": [
    "len(data)"
   ]
  },
  {
   "cell_type": "code",
   "execution_count": 120,
   "id": "8e09e159-f99a-4cb5-b363-98df66618bd1",
   "metadata": {
    "tags": []
   },
   "outputs": [
    {
     "data": {
      "text/plain": [
       "'аспект: ответ\\nотзыв: Информативно'"
      ]
     },
     "execution_count": 120,
     "metadata": {},
     "output_type": "execute_result"
    }
   ],
   "source": [
    "sep_0(df.loc[944, :][\"json_response\"])"
   ]
  },
  {
   "cell_type": "code",
   "execution_count": null,
   "id": "bd9e7022-585f-40f1-a776-a2f76e577fc5",
   "metadata": {},
   "outputs": [],
   "source": []
  }
 ],
 "metadata": {
  "kernelspec": {
   "display_name": "Python 3 (ipykernel)",
   "language": "python",
   "name": "python3"
  },
  "language_info": {
   "codemirror_mode": {
    "name": "ipython",
    "version": 3
   },
   "file_extension": ".py",
   "mimetype": "text/x-python",
   "name": "python",
   "nbconvert_exporter": "python",
   "pygments_lexer": "ipython3",
   "version": "3.11.5"
  }
 },
 "nbformat": 4,
 "nbformat_minor": 5
}
