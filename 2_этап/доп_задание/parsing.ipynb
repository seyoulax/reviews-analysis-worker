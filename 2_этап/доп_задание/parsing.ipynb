{
 "cells": [
  {
   "cell_type": "code",
   "execution_count": 2,
   "metadata": {
    "tags": []
   },
   "outputs": [
    {
     "name": "stdout",
     "output_type": "stream",
     "text": [
      "Defaulting to user installation because normal site-packages is not writeable\n",
      "Collecting pymorphy3\n",
      "  Obtaining dependency information for pymorphy3 from https://files.pythonhosted.org/packages/ee/53/862f7b7f3e488e5420bebd5cf59362cb175463ad3cfddd61ade15a738dc7/pymorphy3-2.0.1-py3-none-any.whl.metadata\n",
      "  Downloading pymorphy3-2.0.1-py3-none-any.whl.metadata (1.8 kB)\n",
      "Collecting dawg-python>=0.7.1 (from pymorphy3)\n",
      "  Obtaining dependency information for dawg-python>=0.7.1 from https://files.pythonhosted.org/packages/6a/84/ff1ce2071d4c650ec85745766c0047ccc3b5036f1d03559fd46bb38b5eeb/DAWG_Python-0.7.2-py2.py3-none-any.whl.metadata\n",
      "  Downloading DAWG_Python-0.7.2-py2.py3-none-any.whl.metadata (7.0 kB)\n",
      "Collecting pymorphy3-dicts-ru (from pymorphy3)\n",
      "  Obtaining dependency information for pymorphy3-dicts-ru from https://files.pythonhosted.org/packages/b0/67/469e9e52d046863f5959928794d3067d455a77f580bf4a662630a43eb426/pymorphy3_dicts_ru-2.4.417150.4580142-py2.py3-none-any.whl.metadata\n",
      "  Downloading pymorphy3_dicts_ru-2.4.417150.4580142-py2.py3-none-any.whl.metadata (2.0 kB)\n",
      "Downloading pymorphy3-2.0.1-py3-none-any.whl (53 kB)\n",
      "   ---------------------------------------- 0.0/53.2 kB ? eta -:--:--\n",
      "   ------- -------------------------------- 10.2/53.2 kB ? eta -:--:--\n",
      "   --------------- ------------------------ 20.5/53.2 kB 217.9 kB/s eta 0:00:01\n",
      "   ---------------------------------------- 53.2/53.2 kB 550.2 kB/s eta 0:00:00\n",
      "Downloading DAWG_Python-0.7.2-py2.py3-none-any.whl (11 kB)\n",
      "Downloading pymorphy3_dicts_ru-2.4.417150.4580142-py2.py3-none-any.whl (8.4 MB)\n",
      "   ---------------------------------------- 0.0/8.4 MB ? eta -:--:--\n",
      "   ---------------------------------------- 0.1/8.4 MB 1.6 MB/s eta 0:00:06\n",
      "    --------------------------------------- 0.1/8.4 MB 1.4 MB/s eta 0:00:06\n",
      "   - -------------------------------------- 0.2/8.4 MB 2.3 MB/s eta 0:00:04\n",
      "   -- ------------------------------------- 0.5/8.4 MB 2.9 MB/s eta 0:00:03\n",
      "   -- ------------------------------------- 0.6/8.4 MB 2.7 MB/s eta 0:00:03\n",
      "   --- ------------------------------------ 0.7/8.4 MB 3.1 MB/s eta 0:00:03\n",
      "   ---- ----------------------------------- 0.9/8.4 MB 3.0 MB/s eta 0:00:03\n",
      "   ------ --------------------------------- 1.3/8.4 MB 3.9 MB/s eta 0:00:02\n",
      "   --------- ------------------------------ 2.0/8.4 MB 5.3 MB/s eta 0:00:02\n",
      "   ------------ --------------------------- 2.7/8.4 MB 6.6 MB/s eta 0:00:01\n",
      "   ------------- -------------------------- 2.8/8.4 MB 6.6 MB/s eta 0:00:01\n",
      "   ------------- -------------------------- 2.8/8.4 MB 5.8 MB/s eta 0:00:01\n",
      "   ------------- -------------------------- 2.8/8.4 MB 5.8 MB/s eta 0:00:01\n",
      "   ----------------- ---------------------- 3.8/8.4 MB 6.5 MB/s eta 0:00:01\n",
      "   ----------------- ---------------------- 3.8/8.4 MB 6.5 MB/s eta 0:00:01\n",
      "   -------------------- ------------------- 4.2/8.4 MB 6.4 MB/s eta 0:00:01\n",
      "   -------------------- ------------------- 4.2/8.4 MB 6.4 MB/s eta 0:00:01\n",
      "   ---------------------- ----------------- 4.6/8.4 MB 6.5 MB/s eta 0:00:01\n",
      "   ----------------------- ---------------- 4.9/8.4 MB 6.1 MB/s eta 0:00:01\n",
      "   ------------------------ --------------- 5.1/8.4 MB 6.3 MB/s eta 0:00:01\n",
      "   -------------------------- ------------- 5.5/8.4 MB 6.3 MB/s eta 0:00:01\n",
      "   -------------------------- ------------- 5.6/8.4 MB 6.2 MB/s eta 0:00:01\n",
      "   ---------------------------- ----------- 6.0/8.4 MB 6.4 MB/s eta 0:00:01\n",
      "   ----------------------------- ---------- 6.3/8.4 MB 6.3 MB/s eta 0:00:01\n",
      "   --------------------------------- ------ 7.1/8.4 MB 6.7 MB/s eta 0:00:01\n",
      "   ------------------------------------ --- 7.8/8.4 MB 7.2 MB/s eta 0:00:01\n",
      "   ------------------------------------ --- 7.8/8.4 MB 7.2 MB/s eta 0:00:01\n",
      "   -------------------------------------- - 8.2/8.4 MB 7.0 MB/s eta 0:00:01\n",
      "   ---------------------------------------  8.4/8.4 MB 7.2 MB/s eta 0:00:01\n",
      "   ---------------------------------------  8.4/8.4 MB 6.9 MB/s eta 0:00:01\n",
      "   ---------------------------------------- 8.4/8.4 MB 6.6 MB/s eta 0:00:00\n",
      "Installing collected packages: pymorphy3-dicts-ru, dawg-python, pymorphy3\n",
      "Successfully installed dawg-python-0.7.2 pymorphy3-2.0.1 pymorphy3-dicts-ru-2.4.417150.4580142\n"
     ]
    },
    {
     "name": "stderr",
     "output_type": "stream",
     "text": [
      "  WARNING: The script pymorphy.exe is installed in 'C:\\Users\\Mi\\AppData\\Roaming\\Python\\Python311\\Scripts' which is not on PATH.\n",
      "  Consider adding this directory to PATH or, if you prefer to suppress this warning, use --no-warn-script-location.\n"
     ]
    }
   ],
   "source": [
    "!pip install pymorphy3"
   ]
  },
  {
   "cell_type": "code",
   "execution_count": 4,
   "metadata": {
    "id": "JzeAb23ZnV0t",
    "tags": []
   },
   "outputs": [
    {
     "name": "stdout",
     "output_type": "stream",
     "text": [
      "Unexpected exception formatting exception. Falling back to standard exception\n"
     ]
    },
    {
     "name": "stderr",
     "output_type": "stream",
     "text": [
      "Traceback (most recent call last):\n",
      "  File \"C:\\Users\\Mi\\.conda\\envs\\reviews\\Lib\\site-packages\\IPython\\core\\interactiveshell.py\", line 3577, in run_code\n",
      "  File \"C:\\Users\\Mi\\AppData\\Local\\Temp\\ipykernel_14212\\2095068732.py\", line 1, in <module>\n",
      "    import requests\n",
      "ModuleNotFoundError: No module named 'requests'\n",
      "\n",
      "During handling of the above exception, another exception occurred:\n",
      "\n",
      "Traceback (most recent call last):\n",
      "  File \"C:\\Users\\Mi\\.conda\\envs\\reviews\\Lib\\site-packages\\pygments\\styles\\__init__.py\", line 45, in get_style_by_name\n",
      "ModuleNotFoundError: No module named 'pygments.styles.default'\n",
      "\n",
      "During handling of the above exception, another exception occurred:\n",
      "\n",
      "Traceback (most recent call last):\n",
      "  File \"C:\\Users\\Mi\\.conda\\envs\\reviews\\Lib\\site-packages\\IPython\\core\\interactiveshell.py\", line 2168, in showtraceback\n",
      "  File \"C:\\Users\\Mi\\.conda\\envs\\reviews\\Lib\\site-packages\\IPython\\core\\ultratb.py\", line 1454, in structured_traceback\n",
      "  File \"C:\\Users\\Mi\\.conda\\envs\\reviews\\Lib\\site-packages\\IPython\\core\\ultratb.py\", line 1345, in structured_traceback\n",
      "  File \"C:\\Users\\Mi\\.conda\\envs\\reviews\\Lib\\site-packages\\IPython\\core\\ultratb.py\", line 1192, in structured_traceback\n",
      "  File \"C:\\Users\\Mi\\.conda\\envs\\reviews\\Lib\\site-packages\\IPython\\core\\ultratb.py\", line 1082, in format_exception_as_a_whole\n",
      "  File \"C:\\Users\\Mi\\.conda\\envs\\reviews\\Lib\\site-packages\\IPython\\core\\ultratb.py\", line 1133, in get_records\n",
      "  File \"C:\\Users\\Mi\\.conda\\envs\\reviews\\Lib\\site-packages\\pygments\\styles\\__init__.py\", line 47, in get_style_by_name\n",
      "pygments.util.ClassNotFound: Could not find style module 'pygments.styles.default', though it should be builtin.\n"
     ]
    }
   ],
   "source": [
    "import requests\n",
    "from bs4 import BeautifulSoup\n",
    "import json\n",
    "from tqdm import tqdm\n",
    "import pymorphy3"
   ]
  },
  {
   "cell_type": "markdown",
   "metadata": {
    "id": "ehyQJJNDSxLr"
   },
   "source": [
    "### Парсинг с сайта banki.ru"
   ]
  },
  {
   "cell_type": "code",
   "execution_count": 1,
   "metadata": {
    "id": "CQNOxK8X4fD9",
    "tags": []
   },
   "outputs": [],
   "source": [
    "reviews = []"
   ]
  },
  {
   "cell_type": "code",
   "execution_count": 2,
   "metadata": {
    "colab": {
     "base_uri": "https://localhost:8080/",
     "height": 49,
     "referenced_widgets": [
      "f71c4c43c4b74176a69a5ea9496ae137",
      "09956ee527d7416bb7571e794a3c6e02",
      "7f9d7909a6444aa9a13052bc6d518c58",
      "5344a3af21eb48868c6c73693ff3ef4a",
      "1328a9ff9b584a889295705d8b23c890",
      "d12080bbd983498c973aec598e334482",
      "d3f99e1225ce42bf9b105225b036ca4f",
      "9df1fa3e286a4632895fc0381c02e7a6",
      "717c83486da34d17b08fb11d1676f495",
      "953cee584df342b480c47a74e5374c56",
      "1d5859b0df754359b09f3e28bb1a0d06"
     ]
    },
    "id": "FKAxxNIB4NTV",
    "outputId": "94dea51c-899d-4ab8-cd5f-6b2ecafe2893",
    "tags": []
   },
   "outputs": [
    {
     "name": "stdout",
     "output_type": "stream",
     "text": [
      "Unexpected exception formatting exception. Falling back to standard exception\n"
     ]
    },
    {
     "name": "stderr",
     "output_type": "stream",
     "text": [
      "Traceback (most recent call last):\n",
      "  File \"C:\\Users\\Mi\\.conda\\envs\\reviews\\Lib\\site-packages\\IPython\\core\\interactiveshell.py\", line 3577, in run_code\n",
      "  File \"C:\\Users\\Mi\\AppData\\Local\\Temp\\ipykernel_14212\\3274493199.py\", line 1, in <module>\n",
      "    for i in tqdm(range(150, 300)):\n",
      "             ^^^^\n",
      "NameError: name 'tqdm' is not defined\n",
      "\n",
      "During handling of the above exception, another exception occurred:\n",
      "\n",
      "Traceback (most recent call last):\n",
      "  File \"C:\\Users\\Mi\\.conda\\envs\\reviews\\Lib\\site-packages\\pygments\\styles\\__init__.py\", line 45, in get_style_by_name\n",
      "ModuleNotFoundError: No module named 'pygments.styles.default'\n",
      "\n",
      "During handling of the above exception, another exception occurred:\n",
      "\n",
      "Traceback (most recent call last):\n",
      "  File \"C:\\Users\\Mi\\.conda\\envs\\reviews\\Lib\\site-packages\\IPython\\core\\interactiveshell.py\", line 2168, in showtraceback\n",
      "  File \"C:\\Users\\Mi\\.conda\\envs\\reviews\\Lib\\site-packages\\IPython\\core\\ultratb.py\", line 1454, in structured_traceback\n",
      "  File \"C:\\Users\\Mi\\.conda\\envs\\reviews\\Lib\\site-packages\\IPython\\core\\ultratb.py\", line 1345, in structured_traceback\n",
      "  File \"C:\\Users\\Mi\\.conda\\envs\\reviews\\Lib\\site-packages\\IPython\\core\\ultratb.py\", line 1192, in structured_traceback\n",
      "  File \"C:\\Users\\Mi\\.conda\\envs\\reviews\\Lib\\site-packages\\IPython\\core\\ultratb.py\", line 1082, in format_exception_as_a_whole\n",
      "  File \"C:\\Users\\Mi\\.conda\\envs\\reviews\\Lib\\site-packages\\IPython\\core\\ultratb.py\", line 1133, in get_records\n",
      "  File \"C:\\Users\\Mi\\.conda\\envs\\reviews\\Lib\\site-packages\\pygments\\styles\\__init__.py\", line 47, in get_style_by_name\n",
      "pygments.util.ClassNotFound: Could not find style module 'pygments.styles.default', though it should be builtin.\n"
     ]
    }
   ],
   "source": [
    "for i in tqdm(range(150, 300)):\n",
    "    try:\n",
    "        req = requests.get(f'https://www.banki.ru/services/responses/bank/tcs/?page={i}&is_countable=on')\n",
    "        soup = BeautifulSoup(req.text, 'lxml')\n",
    "        texts = soup.find_all('script')[7].text\n",
    "        texts = texts.replace('\\t', '').replace('\\n', '').replace('\\r', '')\n",
    "        texts = eval(texts)\n",
    "        texts = texts['review']\n",
    "\n",
    "        reviews += texts\n",
    "    except Exception as e:\n",
    "        print(i, e)\n",
    "        break"
   ]
  },
  {
   "cell_type": "code",
   "execution_count": null,
   "metadata": {},
   "outputs": [],
   "source": [
    "pd.read_csv"
   ]
  },
  {
   "cell_type": "code",
   "execution_count": 6,
   "metadata": {
    "tags": []
   },
   "outputs": [
    {
     "name": "stdout",
     "output_type": "stream",
     "text": [
      "Defaulting to user installation because normal site-packages is not writeable\n",
      "Looking in indexes: https://download.pytorch.org/whl/cpu\n",
      "Requirement already satisfied: torch==2.3.0 in c:\\users\\mi\\appdata\\roaming\\python\\python311\\site-packages (2.3.0)\n",
      "Requirement already satisfied: filelock in c:\\programdata\\anaconda3\\lib\\site-packages (from torch==2.3.0) (3.9.0)\n",
      "Requirement already satisfied: typing-extensions>=4.8.0 in c:\\users\\mi\\appdata\\roaming\\python\\python311\\site-packages (from torch==2.3.0) (4.11.0)\n",
      "Requirement already satisfied: sympy in c:\\programdata\\anaconda3\\lib\\site-packages (from torch==2.3.0) (1.11.1)\n",
      "Requirement already satisfied: networkx in c:\\programdata\\anaconda3\\lib\\site-packages (from torch==2.3.0) (3.1)\n",
      "Requirement already satisfied: jinja2 in c:\\programdata\\anaconda3\\lib\\site-packages (from torch==2.3.0) (3.1.2)\n",
      "Requirement already satisfied: fsspec in c:\\programdata\\anaconda3\\lib\\site-packages (from torch==2.3.0) (2023.4.0)\n",
      "Requirement already satisfied: mkl<=2021.4.0,>=2021.1.1 in c:\\users\\mi\\appdata\\roaming\\python\\python311\\site-packages (from torch==2.3.0) (2021.4.0)\n",
      "Requirement already satisfied: intel-openmp==2021.* in c:\\users\\mi\\appdata\\roaming\\python\\python311\\site-packages (from mkl<=2021.4.0,>=2021.1.1->torch==2.3.0) (2021.4.0)\n",
      "Requirement already satisfied: tbb==2021.* in c:\\users\\mi\\appdata\\roaming\\python\\python311\\site-packages (from mkl<=2021.4.0,>=2021.1.1->torch==2.3.0) (2021.12.0)\n",
      "Requirement already satisfied: MarkupSafe>=2.0 in c:\\programdata\\anaconda3\\lib\\site-packages (from jinja2->torch==2.3.0) (2.1.1)\n",
      "Requirement already satisfied: mpmath>=0.19 in c:\\programdata\\anaconda3\\lib\\site-packages (from sympy->torch==2.3.0) (1.3.0)\n"
     ]
    }
   ],
   "source": [
    "!pip install torch==2.3.0 --index-url https://download.pytorch.org/whl/cpu"
   ]
  },
  {
   "cell_type": "code",
   "execution_count": 7,
   "metadata": {
    "tags": []
   },
   "outputs": [
    {
     "ename": "OSError",
     "evalue": "[WinError 126] Не найден указанный модуль. Error loading \"C:\\Users\\Mi\\AppData\\Roaming\\Python\\Python311\\site-packages\\torch\\lib\\shm.dll\" or one of its dependencies.",
     "output_type": "error",
     "traceback": [
      "\u001b[1;31m---------------------------------------------------------------------------\u001b[0m",
      "\u001b[1;31mOSError\u001b[0m                                   Traceback (most recent call last)",
      "Cell \u001b[1;32mIn[7], line 1\u001b[0m\n\u001b[1;32m----> 1\u001b[0m \u001b[38;5;28;01mimport\u001b[39;00m \u001b[38;5;21;01mtorch\u001b[39;00m\n",
      "File \u001b[1;32m~\\AppData\\Roaming\\Python\\Python311\\site-packages\\torch\\__init__.py:141\u001b[0m\n\u001b[0;32m    139\u001b[0m                 err \u001b[38;5;241m=\u001b[39m ctypes\u001b[38;5;241m.\u001b[39mWinError(ctypes\u001b[38;5;241m.\u001b[39mget_last_error())\n\u001b[0;32m    140\u001b[0m                 err\u001b[38;5;241m.\u001b[39mstrerror \u001b[38;5;241m+\u001b[39m\u001b[38;5;241m=\u001b[39m \u001b[38;5;124mf\u001b[39m\u001b[38;5;124m'\u001b[39m\u001b[38;5;124m Error loading \u001b[39m\u001b[38;5;124m\"\u001b[39m\u001b[38;5;132;01m{\u001b[39;00mdll\u001b[38;5;132;01m}\u001b[39;00m\u001b[38;5;124m\"\u001b[39m\u001b[38;5;124m or one of its dependencies.\u001b[39m\u001b[38;5;124m'\u001b[39m\n\u001b[1;32m--> 141\u001b[0m                 \u001b[38;5;28;01mraise\u001b[39;00m err\n\u001b[0;32m    143\u001b[0m     kernel32\u001b[38;5;241m.\u001b[39mSetErrorMode(prev_error_mode)\n\u001b[0;32m    146\u001b[0m \u001b[38;5;28;01mdef\u001b[39;00m \u001b[38;5;21m_preload_cuda_deps\u001b[39m(lib_folder, lib_name):\n",
      "\u001b[1;31mOSError\u001b[0m: [WinError 126] Не найден указанный модуль. Error loading \"C:\\Users\\Mi\\AppData\\Roaming\\Python\\Python311\\site-packages\\torch\\lib\\shm.dll\" or one of its dependencies."
     ]
    }
   ],
   "source": [
    "import torch"
   ]
  },
  {
   "cell_type": "code",
   "execution_count": null,
   "metadata": {
    "id": "CmXuUH_5I4qE"
   },
   "outputs": [],
   "source": [
    "for i in range(1, 299):\n",
    "    if i == 52:\n",
    "        continue\n",
    "    r = requests.get(f\"https://www.banki.ru/services/responses/bank/tcs/?page={i}&is_countable=on\")\n",
    "    soup = BeautifulSoup(r.text, features=\"html.parser\")\n",
    "    otzyvi = soup.findAll('h3', class_=\"text-weight-medium text-size-3 ldecc766d\")\n",
    "    for j in otzyvi:\n",
    "        j = j.find('a', class_='link-simple')\n",
    "        href = str(j.get('href'))\n",
    "        a = requests.get('https://www.banki.ru' + href)\n",
    "        soup = BeautifulSoup(a.text, features=\"html.parser\")\n",
    "        otzyvi = soup.findAll('div', class_=\"ld017b199\")\n",
    "        Otsenki = []\n",
    "        for i in otzyvi:\n",
    "            otsenka = str(i).count('l61f54b7b')\n",
    "            Otsenki.append(otsenka)\n",
    "        data.append(Otsenki)\n",
    "\n",
    "\n",
    "df = pd.DataFrame(data, columns=['id', 'Прозрачные условия', 'Вежливые сотрудники', 'Доступность и поддержка', 'Удобство приложения, сайта'])"
   ]
  },
  {
   "cell_type": "code",
   "execution_count": null,
   "metadata": {
    "id": "sq1hSowuI5hA"
   },
   "outputs": [],
   "source": [
    "reviews = pd.DataFrame.from_dict(reviews)\n",
    "reviews = pd.concat([df, reviews], axis=0)"
   ]
  },
  {
   "cell_type": "code",
   "execution_count": null,
   "metadata": {
    "id": "7kHaTXD3nYkW"
   },
   "outputs": [],
   "source": [
    "reviews.to_csv('reviews_banki.csv', index=False)"
   ]
  },
  {
   "cell_type": "markdown",
   "metadata": {
    "id": "08mpq5FcS9XC"
   },
   "source": [
    "### Парсинг с сайта sravni.ru"
   ]
  },
  {
   "cell_type": "code",
   "execution_count": null,
   "metadata": {
    "id": "FRERTZoWHogJ"
   },
   "outputs": [],
   "source": [
    "reviews = []"
   ]
  },
  {
   "cell_type": "code",
   "execution_count": null,
   "metadata": {
    "id": "oOZZ-Utj_EU5"
   },
   "outputs": [],
   "source": [
    "for i in range(1, 100):\n",
    "    r = requests.get('https://www.sravni.ru/proxy-reviews/reviews?filterBy=withRates&fingerPrint=22c22b522873af0096c331dd0b78c979&isClient=false&locationRoute=&newIds=true&orderBy=byDate&pageIndex={i}&pageSize=10&reviewObjectId=5bb4f769245bc22a520a6353&reviewObjectType=banks&specificProductId=&withVotes=true').json()\n",
    "    reviews += r"
   ]
  },
  {
   "cell_type": "code",
   "execution_count": null,
   "metadata": {
    "id": "JoYSM_pg_X6U"
   },
   "outputs": [],
   "source": [
    "reviews = pd.DataFrame.from_dict(reviews)"
   ]
  },
  {
   "cell_type": "code",
   "execution_count": null,
   "metadata": {
    "id": "9XI6oRUtaw_x"
   },
   "outputs": [],
   "source": [
    "reviews.to_csv(\"reviews_sravni.csv\")"
   ]
  }
 ],
 "metadata": {
  "colab": {
   "provenance": []
  },
  "kernelspec": {
   "display_name": "Python 3 (ipykernel)",
   "language": "python",
   "name": "python3"
  },
  "language_info": {
   "codemirror_mode": {
    "name": "ipython",
    "version": 3
   },
   "file_extension": ".py",
   "mimetype": "text/x-python",
   "name": "python",
   "nbconvert_exporter": "python",
   "pygments_lexer": "ipython3",
   "version": "3.11.5"
  },
  "widgets": {
   "application/vnd.jupyter.widget-state+json": {
    "09956ee527d7416bb7571e794a3c6e02": {
     "model_module": "@jupyter-widgets/controls",
     "model_module_version": "1.5.0",
     "model_name": "HTMLModel",
     "state": {
      "_dom_classes": [],
      "_model_module": "@jupyter-widgets/controls",
      "_model_module_version": "1.5.0",
      "_model_name": "HTMLModel",
      "_view_count": null,
      "_view_module": "@jupyter-widgets/controls",
      "_view_module_version": "1.5.0",
      "_view_name": "HTMLView",
      "description": "",
      "description_tooltip": null,
      "layout": "IPY_MODEL_d12080bbd983498c973aec598e334482",
      "placeholder": "​",
      "style": "IPY_MODEL_d3f99e1225ce42bf9b105225b036ca4f",
      "value": "100%"
     }
    },
    "1328a9ff9b584a889295705d8b23c890": {
     "model_module": "@jupyter-widgets/base",
     "model_module_version": "1.2.0",
     "model_name": "LayoutModel",
     "state": {
      "_model_module": "@jupyter-widgets/base",
      "_model_module_version": "1.2.0",
      "_model_name": "LayoutModel",
      "_view_count": null,
      "_view_module": "@jupyter-widgets/base",
      "_view_module_version": "1.2.0",
      "_view_name": "LayoutView",
      "align_content": null,
      "align_items": null,
      "align_self": null,
      "border": null,
      "bottom": null,
      "display": null,
      "flex": null,
      "flex_flow": null,
      "grid_area": null,
      "grid_auto_columns": null,
      "grid_auto_flow": null,
      "grid_auto_rows": null,
      "grid_column": null,
      "grid_gap": null,
      "grid_row": null,
      "grid_template_areas": null,
      "grid_template_columns": null,
      "grid_template_rows": null,
      "height": null,
      "justify_content": null,
      "justify_items": null,
      "left": null,
      "margin": null,
      "max_height": null,
      "max_width": null,
      "min_height": null,
      "min_width": null,
      "object_fit": null,
      "object_position": null,
      "order": null,
      "overflow": null,
      "overflow_x": null,
      "overflow_y": null,
      "padding": null,
      "right": null,
      "top": null,
      "visibility": null,
      "width": null
     }
    },
    "1d5859b0df754359b09f3e28bb1a0d06": {
     "model_module": "@jupyter-widgets/controls",
     "model_module_version": "1.5.0",
     "model_name": "DescriptionStyleModel",
     "state": {
      "_model_module": "@jupyter-widgets/controls",
      "_model_module_version": "1.5.0",
      "_model_name": "DescriptionStyleModel",
      "_view_count": null,
      "_view_module": "@jupyter-widgets/base",
      "_view_module_version": "1.2.0",
      "_view_name": "StyleView",
      "description_width": ""
     }
    },
    "5344a3af21eb48868c6c73693ff3ef4a": {
     "model_module": "@jupyter-widgets/controls",
     "model_module_version": "1.5.0",
     "model_name": "HTMLModel",
     "state": {
      "_dom_classes": [],
      "_model_module": "@jupyter-widgets/controls",
      "_model_module_version": "1.5.0",
      "_model_name": "HTMLModel",
      "_view_count": null,
      "_view_module": "@jupyter-widgets/controls",
      "_view_module_version": "1.5.0",
      "_view_name": "HTMLView",
      "description": "",
      "description_tooltip": null,
      "layout": "IPY_MODEL_953cee584df342b480c47a74e5374c56",
      "placeholder": "​",
      "style": "IPY_MODEL_1d5859b0df754359b09f3e28bb1a0d06",
      "value": " 150/150 [05:52&lt;00:00,  2.39s/it]"
     }
    },
    "717c83486da34d17b08fb11d1676f495": {
     "model_module": "@jupyter-widgets/controls",
     "model_module_version": "1.5.0",
     "model_name": "ProgressStyleModel",
     "state": {
      "_model_module": "@jupyter-widgets/controls",
      "_model_module_version": "1.5.0",
      "_model_name": "ProgressStyleModel",
      "_view_count": null,
      "_view_module": "@jupyter-widgets/base",
      "_view_module_version": "1.2.0",
      "_view_name": "StyleView",
      "bar_color": null,
      "description_width": ""
     }
    },
    "7f9d7909a6444aa9a13052bc6d518c58": {
     "model_module": "@jupyter-widgets/controls",
     "model_module_version": "1.5.0",
     "model_name": "FloatProgressModel",
     "state": {
      "_dom_classes": [],
      "_model_module": "@jupyter-widgets/controls",
      "_model_module_version": "1.5.0",
      "_model_name": "FloatProgressModel",
      "_view_count": null,
      "_view_module": "@jupyter-widgets/controls",
      "_view_module_version": "1.5.0",
      "_view_name": "ProgressView",
      "bar_style": "success",
      "description": "",
      "description_tooltip": null,
      "layout": "IPY_MODEL_9df1fa3e286a4632895fc0381c02e7a6",
      "max": 150,
      "min": 0,
      "orientation": "horizontal",
      "style": "IPY_MODEL_717c83486da34d17b08fb11d1676f495",
      "value": 150
     }
    },
    "953cee584df342b480c47a74e5374c56": {
     "model_module": "@jupyter-widgets/base",
     "model_module_version": "1.2.0",
     "model_name": "LayoutModel",
     "state": {
      "_model_module": "@jupyter-widgets/base",
      "_model_module_version": "1.2.0",
      "_model_name": "LayoutModel",
      "_view_count": null,
      "_view_module": "@jupyter-widgets/base",
      "_view_module_version": "1.2.0",
      "_view_name": "LayoutView",
      "align_content": null,
      "align_items": null,
      "align_self": null,
      "border": null,
      "bottom": null,
      "display": null,
      "flex": null,
      "flex_flow": null,
      "grid_area": null,
      "grid_auto_columns": null,
      "grid_auto_flow": null,
      "grid_auto_rows": null,
      "grid_column": null,
      "grid_gap": null,
      "grid_row": null,
      "grid_template_areas": null,
      "grid_template_columns": null,
      "grid_template_rows": null,
      "height": null,
      "justify_content": null,
      "justify_items": null,
      "left": null,
      "margin": null,
      "max_height": null,
      "max_width": null,
      "min_height": null,
      "min_width": null,
      "object_fit": null,
      "object_position": null,
      "order": null,
      "overflow": null,
      "overflow_x": null,
      "overflow_y": null,
      "padding": null,
      "right": null,
      "top": null,
      "visibility": null,
      "width": null
     }
    },
    "9df1fa3e286a4632895fc0381c02e7a6": {
     "model_module": "@jupyter-widgets/base",
     "model_module_version": "1.2.0",
     "model_name": "LayoutModel",
     "state": {
      "_model_module": "@jupyter-widgets/base",
      "_model_module_version": "1.2.0",
      "_model_name": "LayoutModel",
      "_view_count": null,
      "_view_module": "@jupyter-widgets/base",
      "_view_module_version": "1.2.0",
      "_view_name": "LayoutView",
      "align_content": null,
      "align_items": null,
      "align_self": null,
      "border": null,
      "bottom": null,
      "display": null,
      "flex": null,
      "flex_flow": null,
      "grid_area": null,
      "grid_auto_columns": null,
      "grid_auto_flow": null,
      "grid_auto_rows": null,
      "grid_column": null,
      "grid_gap": null,
      "grid_row": null,
      "grid_template_areas": null,
      "grid_template_columns": null,
      "grid_template_rows": null,
      "height": null,
      "justify_content": null,
      "justify_items": null,
      "left": null,
      "margin": null,
      "max_height": null,
      "max_width": null,
      "min_height": null,
      "min_width": null,
      "object_fit": null,
      "object_position": null,
      "order": null,
      "overflow": null,
      "overflow_x": null,
      "overflow_y": null,
      "padding": null,
      "right": null,
      "top": null,
      "visibility": null,
      "width": null
     }
    },
    "d12080bbd983498c973aec598e334482": {
     "model_module": "@jupyter-widgets/base",
     "model_module_version": "1.2.0",
     "model_name": "LayoutModel",
     "state": {
      "_model_module": "@jupyter-widgets/base",
      "_model_module_version": "1.2.0",
      "_model_name": "LayoutModel",
      "_view_count": null,
      "_view_module": "@jupyter-widgets/base",
      "_view_module_version": "1.2.0",
      "_view_name": "LayoutView",
      "align_content": null,
      "align_items": null,
      "align_self": null,
      "border": null,
      "bottom": null,
      "display": null,
      "flex": null,
      "flex_flow": null,
      "grid_area": null,
      "grid_auto_columns": null,
      "grid_auto_flow": null,
      "grid_auto_rows": null,
      "grid_column": null,
      "grid_gap": null,
      "grid_row": null,
      "grid_template_areas": null,
      "grid_template_columns": null,
      "grid_template_rows": null,
      "height": null,
      "justify_content": null,
      "justify_items": null,
      "left": null,
      "margin": null,
      "max_height": null,
      "max_width": null,
      "min_height": null,
      "min_width": null,
      "object_fit": null,
      "object_position": null,
      "order": null,
      "overflow": null,
      "overflow_x": null,
      "overflow_y": null,
      "padding": null,
      "right": null,
      "top": null,
      "visibility": null,
      "width": null
     }
    },
    "d3f99e1225ce42bf9b105225b036ca4f": {
     "model_module": "@jupyter-widgets/controls",
     "model_module_version": "1.5.0",
     "model_name": "DescriptionStyleModel",
     "state": {
      "_model_module": "@jupyter-widgets/controls",
      "_model_module_version": "1.5.0",
      "_model_name": "DescriptionStyleModel",
      "_view_count": null,
      "_view_module": "@jupyter-widgets/base",
      "_view_module_version": "1.2.0",
      "_view_name": "StyleView",
      "description_width": ""
     }
    },
    "f71c4c43c4b74176a69a5ea9496ae137": {
     "model_module": "@jupyter-widgets/controls",
     "model_module_version": "1.5.0",
     "model_name": "HBoxModel",
     "state": {
      "_dom_classes": [],
      "_model_module": "@jupyter-widgets/controls",
      "_model_module_version": "1.5.0",
      "_model_name": "HBoxModel",
      "_view_count": null,
      "_view_module": "@jupyter-widgets/controls",
      "_view_module_version": "1.5.0",
      "_view_name": "HBoxView",
      "box_style": "",
      "children": [
       "IPY_MODEL_09956ee527d7416bb7571e794a3c6e02",
       "IPY_MODEL_7f9d7909a6444aa9a13052bc6d518c58",
       "IPY_MODEL_5344a3af21eb48868c6c73693ff3ef4a"
      ],
      "layout": "IPY_MODEL_1328a9ff9b584a889295705d8b23c890"
     }
    }
   }
  }
 },
 "nbformat": 4,
 "nbformat_minor": 4
}
